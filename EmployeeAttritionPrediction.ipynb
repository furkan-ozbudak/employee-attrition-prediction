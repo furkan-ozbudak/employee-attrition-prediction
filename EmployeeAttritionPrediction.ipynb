{
  "nbformat": 4,
  "nbformat_minor": 0,
  "metadata": {
    "colab": {
      "name": "ML-1.ipynb",
      "provenance": [],
      "collapsed_sections": [
        "jJWxUW8AVnPK"
      ],
      "toc_visible": true
    },
    "kernelspec": {
      "name": "python3",
      "display_name": "Python 3"
    }
  },
  "cells": [
    {
      "cell_type": "markdown",
      "metadata": {
        "id": "wmHEX6PvPMg3",
        "colab_type": "text"
      },
      "source": [
        "Dataset: https://www.kaggle.com/pavansubhasht/ibm-hr-analytics-attrition-dataset\n",
        "\n",
        "Resources: https://www.kaggle.com/pavansubhasht/ibm-hr-analytics-attrition-dataset/kernels\n",
        "\n",
        "Path: employee/all.csv\n",
        "\n",
        "\\# Use this all.csv, for code trying. Later we will have train.csv and test.csv"
      ]
    },
    {
      "cell_type": "markdown",
      "metadata": {
        "id": "mveqJSjETYwa",
        "colab_type": "text"
      },
      "source": [
        "# EDA\n"
      ]
    },
    {
      "cell_type": "code",
      "metadata": {
        "id": "zgcfVWbENHOp",
        "colab_type": "code",
        "colab": {}
      },
      "source": [
        "import numpy as np # linear algebra\n",
        "import pandas as pd # data processing, CSV file I/O (e.g. pd.read_csv)\n",
        "pd.set_option('display.expand_frame_repr', False)\n",
        "import seaborn as sns # visualisation\n",
        "import matplotlib.pyplot as plt\n",
        "from scipy.stats import norm, skew"
      ],
      "execution_count": 319,
      "outputs": []
    },
    {
      "cell_type": "code",
      "metadata": {
        "id": "evVDP73BZlOe",
        "colab_type": "code",
        "colab": {
          "base_uri": "https://localhost:8080/",
          "height": 428
        },
        "outputId": "21a452a4-f44e-4da7-d585-329926d89ba3"
      },
      "source": [
        "url = \"https://raw.githubusercontent.com/furkan-ozbudak/machine-learning/master/input.csv\"\n",
        "data = pd.read_csv(url)\n",
        "print(\"ONE SAMPLE FROM DATASET:\\n\\n\", data.head(20))"
      ],
      "execution_count": 320,
      "outputs": [
        {
          "output_type": "stream",
          "text": [
            "ONE SAMPLE FROM DATASET:\n",
            "\n",
            "     Age Attrition     BusinessTravel  DailyRate              Department  DistanceFromHome  Education EducationField  EmployeeCount  EmployeeNumber  EnvironmentSatisfaction  Gender  HourlyRate  JobInvolvement  JobLevel                    JobRole  JobSatisfaction MaritalStatus  MonthlyIncome  MonthlyRate  NumCompaniesWorked Over18 OverTime  PercentSalaryHike  PerformanceRating  RelationshipSatisfaction  StandardHours  StockOptionLevel  TotalWorkingYears  TrainingTimesLastYear  WorkLifeBalance  YearsAtCompany  YearsInCurrentRole  YearsSinceLastPromotion  YearsWithCurrManager\n",
            "0    41       Yes      Travel_Rarely       1102                   Sales                 1          2  Life Sciences              1               1                        2  Female          94               3         2            Sales Executive                4        Single           5993        19479                   8      Y      Yes                 11                  3                         1             80                 0                  8                      0                1               6                   4                        0                     5\n",
            "1    49        No  Travel_Frequently        279  Research & Development                 8          1  Life Sciences              1               2                        3    Male          61               2         2         Research Scientist                2       Married           5130        24907                   1      Y       No                 23                  4                         4             80                 1                 10                      3                3              10                   7                        1                     7\n",
            "2    37       Yes      Travel_Rarely       1373  Research & Development                 2          2          Other              1               4                        4    Male          92               2         1      Laboratory Technician                3        Single           2090         2396                   6      Y      Yes                 15                  3                         2             80                 0                  7                      3                3               0                   0                        0                     0\n",
            "3    33        No  Travel_Frequently       1392  Research & Development                 3          4  Life Sciences              1               5                        4  Female          56               3         1         Research Scientist                3       Married           2909        23159                   1      Y      Yes                 11                  3                         3             80                 0                  8                      3                3               8                   7                        3                     0\n",
            "4    27        No      Travel_Rarely        591  Research & Development                 2          1        Medical              1               7                        1    Male          40               3         1      Laboratory Technician                2       Married           3468        16632                   9      Y       No                 12                  3                         4             80                 1                  6                      3                3               2                   2                        2                     2\n",
            "5    32        No  Travel_Frequently       1005  Research & Development                 2          2  Life Sciences              1               8                        4    Male          79               3         1      Laboratory Technician                4        Single           3068        11864                   0      Y       No                 13                  3                         3             80                 0                  8                      2                2               7                   7                        3                     6\n",
            "6    59        No      Travel_Rarely       1324  Research & Development                 3          3        Medical              1              10                        3  Female          81               4         1      Laboratory Technician                1       Married           2670         9964                   4      Y      Yes                 20                  4                         1             80                 3                 12                      3                2               1                   0                        0                     0\n",
            "7    30        No      Travel_Rarely       1358  Research & Development                24          1  Life Sciences              1              11                        4    Male          67               3         1      Laboratory Technician                3      Divorced           2693        13335                   1      Y       No                 22                  4                         2             80                 1                  1                      2                3               1                   0                        0                     0\n",
            "8    38        No  Travel_Frequently        216  Research & Development                23          3  Life Sciences              1              12                        4    Male          44               2         3     Manufacturing Director                3        Single           9526         8787                   0      Y       No                 21                  4                         2             80                 0                 10                      2                3               9                   7                        1                     8\n",
            "9    36        No      Travel_Rarely       1299  Research & Development                27          3        Medical              1              13                        3    Male          94               3         2  Healthcare Representative                3       Married           5237        16577                   6      Y       No                 13                  3                         2             80                 2                 17                      3                2               7                   7                        7                     7\n",
            "10   35        No      Travel_Rarely        809  Research & Development                16          3        Medical              1              14                        1    Male          84               4         1      Laboratory Technician                2       Married           2426        16479                   0      Y       No                 13                  3                         3             80                 1                  6                      5                3               5                   4                        0                     3\n",
            "11   29        No      Travel_Rarely        153  Research & Development                15          2  Life Sciences              1              15                        4  Female          49               2         2      Laboratory Technician                3        Single           4193        12682                   0      Y      Yes                 12                  3                         4             80                 0                 10                      3                3               9                   5                        0                     8\n",
            "12   31        No      Travel_Rarely        670  Research & Development                26          1  Life Sciences              1              16                        1    Male          31               3         1         Research Scientist                3      Divorced           2911        15170                   1      Y       No                 17                  3                         4             80                 1                  5                      1                2               5                   2                        4                     3\n",
            "13   34        No      Travel_Rarely       1346  Research & Development                19          2        Medical              1              18                        2    Male          93               3         1      Laboratory Technician                4      Divorced           2661         8758                   0      Y       No                 11                  3                         3             80                 1                  3                      2                3               2                   2                        1                     2\n",
            "14   28       Yes      Travel_Rarely        103  Research & Development                24          3  Life Sciences              1              19                        3    Male          50               2         1      Laboratory Technician                3        Single           2028        12947                   5      Y      Yes                 14                  3                         2             80                 0                  6                      4                3               4                   2                        0                     3\n",
            "15   29        No      Travel_Rarely       1389  Research & Development                21          4  Life Sciences              1              20                        2  Female          51               4         3     Manufacturing Director                1      Divorced           9980        10195                   1      Y       No                 11                  3                         3             80                 1                 10                      1                3              10                   9                        8                     8\n",
            "16   32        No      Travel_Rarely        334  Research & Development                 5          2  Life Sciences              1              21                        1    Male          80               4         1         Research Scientist                2      Divorced           3298        15053                   0      Y      Yes                 12                  3                         4             80                 2                  7                      5                2               6                   2                        0                     5\n",
            "17   22        No         Non-Travel       1123  Research & Development                16          2        Medical              1              22                        4    Male          96               4         1      Laboratory Technician                4      Divorced           2935         7324                   1      Y      Yes                 13                  3                         2             80                 2                  1                      2                2               1                   0                        0                     0\n",
            "18   53        No      Travel_Rarely       1219                   Sales                 2          4  Life Sciences              1              23                        1  Female          78               2         4                    Manager                4       Married          15427        22021                   2      Y       No                 16                  3                         3             80                 0                 31                      3                3              25                   8                        3                     7\n",
            "19   38        No      Travel_Rarely        371  Research & Development                 2          3  Life Sciences              1              24                        4    Male          45               3         1         Research Scientist                4        Single           3944         4306                   5      Y      Yes                 11                  3                         3             80                 0                  6                      3                3               3                   2                        1                     2\n"
          ],
          "name": "stdout"
        }
      ]
    },
    {
      "cell_type": "code",
      "metadata": {
        "id": "jeBVgWZXZlar",
        "colab_type": "code",
        "colab": {
          "base_uri": "https://localhost:8080/",
          "height": 85
        },
        "outputId": "2d158e35-b6db-43f5-afd6-6ec04ba7307d"
      },
      "source": [
        "print(\"\\nNUMBER OF EMPLOYEES FOLLOWED BY NUMBER OF FEATURES FOR EACH EMPLOYEE:\\n\")\n",
        "print(data.shape)"
      ],
      "execution_count": 321,
      "outputs": [
        {
          "output_type": "stream",
          "text": [
            "\n",
            "NUMBER OF EMPLOYEES FOLLOWED BY NUMBER OF FEATURES FOR EACH EMPLOYEE:\n",
            "\n",
            "(1470, 35)\n"
          ],
          "name": "stdout"
        }
      ]
    },
    {
      "cell_type": "code",
      "metadata": {
        "id": "wRRtLxSRZliz",
        "colab_type": "code",
        "colab": {
          "base_uri": "https://localhost:8080/",
          "height": 680
        },
        "outputId": "aa732f78-6c7a-40af-d010-b0907ea42e72"
      },
      "source": [
        "print(\"\\nNUMBER OF MISSING RECORDS IN EACH FEATURE:\\n\")\n",
        "print(data.isnull().sum())"
      ],
      "execution_count": 322,
      "outputs": [
        {
          "output_type": "stream",
          "text": [
            "\n",
            "NUMBER OF MISSING RECORDS IN EACH FEATURE:\n",
            "\n",
            "Age                         0\n",
            "Attrition                   0\n",
            "BusinessTravel              0\n",
            "DailyRate                   0\n",
            "Department                  0\n",
            "DistanceFromHome            0\n",
            "Education                   0\n",
            "EducationField              0\n",
            "EmployeeCount               0\n",
            "EmployeeNumber              0\n",
            "EnvironmentSatisfaction     0\n",
            "Gender                      0\n",
            "HourlyRate                  0\n",
            "JobInvolvement              0\n",
            "JobLevel                    0\n",
            "JobRole                     0\n",
            "JobSatisfaction             0\n",
            "MaritalStatus               0\n",
            "MonthlyIncome               0\n",
            "MonthlyRate                 0\n",
            "NumCompaniesWorked          0\n",
            "Over18                      0\n",
            "OverTime                    0\n",
            "PercentSalaryHike           0\n",
            "PerformanceRating           0\n",
            "RelationshipSatisfaction    0\n",
            "StandardHours               0\n",
            "StockOptionLevel            0\n",
            "TotalWorkingYears           0\n",
            "TrainingTimesLastYear       0\n",
            "WorkLifeBalance             0\n",
            "YearsAtCompany              0\n",
            "YearsInCurrentRole          0\n",
            "YearsSinceLastPromotion     0\n",
            "YearsWithCurrManager        0\n",
            "dtype: int64\n"
          ],
          "name": "stdout"
        }
      ]
    },
    {
      "cell_type": "code",
      "metadata": {
        "id": "EDiZHNyZZl53",
        "colab_type": "code",
        "colab": {
          "base_uri": "https://localhost:8080/",
          "height": 85
        },
        "outputId": "3c9755a2-b1a3-4e78-a3fa-532a49e3cf87"
      },
      "source": [
        "# Double check of missing data\n",
        "print(\"\\nDOUBLE CHECK TO SEE IF THERE IS ANY MISSING DATA:\\n\")\n",
        "print(data.isnull().values.any())"
      ],
      "execution_count": 323,
      "outputs": [
        {
          "output_type": "stream",
          "text": [
            "\n",
            "DOUBLE CHECK TO SEE IF THERE IS ANY MISSING DATA:\n",
            "\n",
            "False\n"
          ],
          "name": "stdout"
        }
      ]
    },
    {
      "cell_type": "code",
      "metadata": {
        "id": "DKtMe13uZl1P",
        "colab_type": "code",
        "colab": {
          "base_uri": "https://localhost:8080/",
          "height": 241
        },
        "outputId": "c16f9d2e-1ec2-4620-f519-132d3be6cbd3"
      },
      "source": [
        "\"\"\"\n",
        "OUTLIER ANALYSIS:\n",
        "\n",
        "SUSPECTIONS:\n",
        "\n",
        "1- Monthly Income MAX                 (Max = $20,000   Upper Quartile = $8,300)\n",
        "2- NumCompaniesWorked MAX             (Max = 9   Upper Quartile = 4)\n",
        "3- StockOptionLevel MAX               (Max = 3   Upper Quartile = 1)\n",
        "4- Total Working Years MAX            (Max = 40   Upper Quartile = 15)\n",
        "5- Training Times Last Year MAX       (Max = 6  Upper Quartile = 3)\n",
        "6- Years At Company 40 Years MAX      (Max = 40   Upper Quartile = 9)\n",
        "7- Years In Current Role MAX          (Max = 18   Upper Quartile = 7)\n",
        "8- Years Since Last Promotion MAX     (Max = 15   Upper Quartile = 3)\n",
        "9- Years with Current Manager MAX     (Max = 7   Upper Quartile = 17)\n",
        "\n",
        "CONCLUSION:\n",
        "\n",
        "There is no such extreme outlier that we can confidentally say\n",
        "it is wrong inputted so that we can remove.\n",
        "\n",
        "\"\"\"\n",
        "print(\"\\nBASIC STATISTICS OF DATA:\\n\")\n",
        "print(data.describe())\n"
      ],
      "execution_count": 324,
      "outputs": [
        {
          "output_type": "stream",
          "text": [
            "\n",
            "BASIC STATISTICS OF DATA:\n",
            "\n",
            "               Age    DailyRate  DistanceFromHome    Education  EmployeeCount  EmployeeNumber  EnvironmentSatisfaction   HourlyRate  JobInvolvement     JobLevel  JobSatisfaction  MonthlyIncome   MonthlyRate  NumCompaniesWorked  PercentSalaryHike  PerformanceRating  RelationshipSatisfaction  StandardHours  StockOptionLevel  TotalWorkingYears  TrainingTimesLastYear  WorkLifeBalance  YearsAtCompany  YearsInCurrentRole  YearsSinceLastPromotion  YearsWithCurrManager\n",
            "count  1470.000000  1470.000000       1470.000000  1470.000000         1470.0     1470.000000              1470.000000  1470.000000     1470.000000  1470.000000      1470.000000    1470.000000   1470.000000         1470.000000        1470.000000        1470.000000               1470.000000         1470.0       1470.000000        1470.000000            1470.000000      1470.000000     1470.000000         1470.000000              1470.000000           1470.000000\n",
            "mean     36.923810   802.485714          9.192517     2.912925            1.0     1024.865306                 2.721769    65.891156        2.729932     2.063946         2.728571    6502.931293  14313.103401            2.693197          15.209524           3.153741                  2.712245           80.0          0.793878          11.279592               2.799320         2.761224        7.008163            4.229252                 2.187755              4.123129\n",
            "std       9.135373   403.509100          8.106864     1.024165            0.0      602.024335                 1.093082    20.329428        0.711561     1.106940         1.102846    4707.956783   7117.786044            2.498009           3.659938           0.360824                  1.081209            0.0          0.852077           7.780782               1.289271         0.706476        6.126525            3.623137                 3.222430              3.568136\n",
            "min      18.000000   102.000000          1.000000     1.000000            1.0        1.000000                 1.000000    30.000000        1.000000     1.000000         1.000000    1009.000000   2094.000000            0.000000          11.000000           3.000000                  1.000000           80.0          0.000000           0.000000               0.000000         1.000000        0.000000            0.000000                 0.000000              0.000000\n",
            "25%      30.000000   465.000000          2.000000     2.000000            1.0      491.250000                 2.000000    48.000000        2.000000     1.000000         2.000000    2911.000000   8047.000000            1.000000          12.000000           3.000000                  2.000000           80.0          0.000000           6.000000               2.000000         2.000000        3.000000            2.000000                 0.000000              2.000000\n",
            "50%      36.000000   802.000000          7.000000     3.000000            1.0     1020.500000                 3.000000    66.000000        3.000000     2.000000         3.000000    4919.000000  14235.500000            2.000000          14.000000           3.000000                  3.000000           80.0          1.000000          10.000000               3.000000         3.000000        5.000000            3.000000                 1.000000              3.000000\n",
            "75%      43.000000  1157.000000         14.000000     4.000000            1.0     1555.750000                 4.000000    83.750000        3.000000     3.000000         4.000000    8379.000000  20461.500000            4.000000          18.000000           3.000000                  4.000000           80.0          1.000000          15.000000               3.000000         3.000000        9.000000            7.000000                 3.000000              7.000000\n",
            "max      60.000000  1499.000000         29.000000     5.000000            1.0     2068.000000                 4.000000   100.000000        4.000000     5.000000         4.000000   19999.000000  26999.000000            9.000000          25.000000           4.000000                  4.000000           80.0          3.000000          40.000000               6.000000         4.000000       40.000000           18.000000                15.000000             17.000000\n"
          ],
          "name": "stdout"
        }
      ]
    },
    {
      "cell_type": "code",
      "metadata": {
        "id": "W5ZPGr8NZlvV",
        "colab_type": "code",
        "colab": {
          "base_uri": "https://localhost:8080/",
          "height": 255
        },
        "outputId": "4ad640d7-dfa6-4669-e9a9-cf42d4b442ec"
      },
      "source": [
        "# Most columns are numerical. Few columns at the bottom are objects.\n",
        "print(\"\\nDATA TYPES OF FEATURES:\\n\")\n",
        "print(data.columns.to_series().groupby(data.dtypes).groups)"
      ],
      "execution_count": 325,
      "outputs": [
        {
          "output_type": "stream",
          "text": [
            "\n",
            "DATA TYPES OF FEATURES:\n",
            "\n",
            "{dtype('int64'): Index(['Age', 'DailyRate', 'DistanceFromHome', 'Education', 'EmployeeCount',\n",
            "       'EmployeeNumber', 'EnvironmentSatisfaction', 'HourlyRate',\n",
            "       'JobInvolvement', 'JobLevel', 'JobSatisfaction', 'MonthlyIncome',\n",
            "       'MonthlyRate', 'NumCompaniesWorked', 'PercentSalaryHike',\n",
            "       'PerformanceRating', 'RelationshipSatisfaction', 'StandardHours',\n",
            "       'StockOptionLevel', 'TotalWorkingYears', 'TrainingTimesLastYear',\n",
            "       'WorkLifeBalance', 'YearsAtCompany', 'YearsInCurrentRole',\n",
            "       'YearsSinceLastPromotion', 'YearsWithCurrManager'],\n",
            "      dtype='object'), dtype('O'): Index(['Attrition', 'BusinessTravel', 'Department', 'EducationField', 'Gender',\n",
            "       'JobRole', 'MaritalStatus', 'Over18', 'OverTime'],\n",
            "      dtype='object')}\n"
          ],
          "name": "stdout"
        }
      ]
    },
    {
      "cell_type": "code",
      "metadata": {
        "id": "QnKjmHv-Zlqf",
        "colab_type": "code",
        "colab": {
          "base_uri": "https://localhost:8080/",
          "height": 799
        },
        "outputId": "95b0e9ac-3658-4e36-d5f8-f3d9ba754cb2"
      },
      "source": [
        "# A more neat look to the columns\n",
        "print(\"\\nFINAL PERSPECTIVE TO THE FEATURES BEFORE VISUALIZATION:\\n\")\n",
        "print(data.info())"
      ],
      "execution_count": 326,
      "outputs": [
        {
          "output_type": "stream",
          "text": [
            "\n",
            "FINAL PERSPECTIVE TO THE FEATURES BEFORE VISUALIZATION:\n",
            "\n",
            "<class 'pandas.core.frame.DataFrame'>\n",
            "RangeIndex: 1470 entries, 0 to 1469\n",
            "Data columns (total 35 columns):\n",
            " #   Column                    Non-Null Count  Dtype \n",
            "---  ------                    --------------  ----- \n",
            " 0   Age                       1470 non-null   int64 \n",
            " 1   Attrition                 1470 non-null   object\n",
            " 2   BusinessTravel            1470 non-null   object\n",
            " 3   DailyRate                 1470 non-null   int64 \n",
            " 4   Department                1470 non-null   object\n",
            " 5   DistanceFromHome          1470 non-null   int64 \n",
            " 6   Education                 1470 non-null   int64 \n",
            " 7   EducationField            1470 non-null   object\n",
            " 8   EmployeeCount             1470 non-null   int64 \n",
            " 9   EmployeeNumber            1470 non-null   int64 \n",
            " 10  EnvironmentSatisfaction   1470 non-null   int64 \n",
            " 11  Gender                    1470 non-null   object\n",
            " 12  HourlyRate                1470 non-null   int64 \n",
            " 13  JobInvolvement            1470 non-null   int64 \n",
            " 14  JobLevel                  1470 non-null   int64 \n",
            " 15  JobRole                   1470 non-null   object\n",
            " 16  JobSatisfaction           1470 non-null   int64 \n",
            " 17  MaritalStatus             1470 non-null   object\n",
            " 18  MonthlyIncome             1470 non-null   int64 \n",
            " 19  MonthlyRate               1470 non-null   int64 \n",
            " 20  NumCompaniesWorked        1470 non-null   int64 \n",
            " 21  Over18                    1470 non-null   object\n",
            " 22  OverTime                  1470 non-null   object\n",
            " 23  PercentSalaryHike         1470 non-null   int64 \n",
            " 24  PerformanceRating         1470 non-null   int64 \n",
            " 25  RelationshipSatisfaction  1470 non-null   int64 \n",
            " 26  StandardHours             1470 non-null   int64 \n",
            " 27  StockOptionLevel          1470 non-null   int64 \n",
            " 28  TotalWorkingYears         1470 non-null   int64 \n",
            " 29  TrainingTimesLastYear     1470 non-null   int64 \n",
            " 30  WorkLifeBalance           1470 non-null   int64 \n",
            " 31  YearsAtCompany            1470 non-null   int64 \n",
            " 32  YearsInCurrentRole        1470 non-null   int64 \n",
            " 33  YearsSinceLastPromotion   1470 non-null   int64 \n",
            " 34  YearsWithCurrManager      1470 non-null   int64 \n",
            "dtypes: int64(26), object(9)\n",
            "memory usage: 402.1+ KB\n",
            "None\n"
          ],
          "name": "stdout"
        }
      ]
    },
    {
      "cell_type": "code",
      "metadata": {
        "id": "A5-ZTMSyZwIt",
        "colab_type": "code",
        "colab": {
          "base_uri": "https://localhost:8080/",
          "height": 429
        },
        "outputId": "83dbef96-5e01-4330-8da2-70f24f445bf4"
      },
      "source": [
        "print(\"\\nTARGET DISTRIBUTION: \\n\")\n",
        "sns.countplot(data['Attrition'])"
      ],
      "execution_count": 327,
      "outputs": [
        {
          "output_type": "stream",
          "text": [
            "\n",
            "TARGET DISTRIBUTION: \n",
            "\n"
          ],
          "name": "stdout"
        },
        {
          "output_type": "execute_result",
          "data": {
            "text/plain": [
              "<matplotlib.axes._subplots.AxesSubplot at 0x7f8a52d9a358>"
            ]
          },
          "metadata": {
            "tags": []
          },
          "execution_count": 327
        },
        {
          "output_type": "display_data",
          "data": {
            "image/png": "[encoded data removed]",
            "text/plain": [
              "<Figure size 576x396 with 1 Axes>"
            ]
          },
          "metadata": {
            "tags": []
          }
        }
      ]
    },
    {
      "cell_type": "code",
      "metadata": {
        "id": "X4iGp-BYZwUd",
        "colab_type": "code",
        "colab": {
          "base_uri": "https://localhost:8080/",
          "height": 984
        },
        "outputId": "d83366c0-1b18-493c-8fcb-e41a54a66f3b"
      },
      "source": [
        "print(\"\\nOVERALL DISTRIBUTION: \\n\")\n",
        "data.hist(figsize=(16,16))\n",
        "plt.show()"
      ],
      "execution_count": 328,
      "outputs": [
        {
          "output_type": "stream",
          "text": [
            "\n",
            "OVERALL DISTRIBUTION: \n",
            "\n"
          ],
          "name": "stdout"
        },
        {
          "output_type": "display_data",
          "data": {
            "image/png": "[encoded data removed]",
            "text/plain": [
              "<Figure size 1152x1152 with 30 Axes>"
            ]
          },
          "metadata": {
            "tags": []
          }
        }
      ]
    },
    {
      "cell_type": "code",
      "metadata": {
        "id": "SutegMZkZwjV",
        "colab_type": "code",
        "colab": {
          "base_uri": "https://localhost:8080/",
          "height": 1000
        },
        "outputId": "b25faa4e-cd4c-4122-e56d-d1646e19df99"
      },
      "source": [
        "total_records= len(data)\n",
        "columns = [\"Gender\",\"MaritalStatus\",\"WorkLifeBalance\",\"EnvironmentSatisfaction\",\"JobSatisfaction\",\n",
        "           \"JobLevel\",\"BusinessTravel\",\"Department\"]\n",
        "plt.figure(figsize=(15,5))\n",
        "j=0\n",
        "for i in columns:\n",
        "    j +=1\n",
        "    plt.subplot(4,2,j)\n",
        "    #sns.countplot(hrdata[i])\n",
        "    ax1 = sns.countplot(data=data,x= i,hue=\"Attrition\")\n",
        "    if(j==8 or j== 7):\n",
        "        plt.xticks( rotation=90)\n",
        "    for p in ax1.patches:\n",
        "        height = p.get_height()\n",
        "        ax1.text(p.get_x()+p.get_width()/2.,\n",
        "                height + 3,\n",
        "                '{:1.2f}'.format(height/total_records,0),\n",
        "                ha=\"center\",rotation=0) \n",
        "\n",
        "plt.subplots_adjust(bottom=-0.9, top=2)\n",
        "print(\"\\nATTRITION DISTRIBUTION ON DIFFERENT FEATURES PART 1: \\n\")\n",
        "print(\"\\n X Axis = Feature Value \\n\")\n",
        "print(\"\\n Y Axis = Count \\n\")\n",
        "print(\"\\n Numbers on top of the bars represent the occurence percentage of whole population. \\n\")\n",
        "print(\"\\n Label at the very bottom represents the feature name.\\n\")\n",
        "plt.show()"
      ],
      "execution_count": 329,
      "outputs": [
        {
          "output_type": "stream",
          "text": [
            "\n",
            "ATTRITION DISTRIBUTION ON DIFFERENT FEATURES PART 1: \n",
            "\n",
            "\n",
            " X Axis = Feature Value \n",
            "\n",
            "\n",
            " Y Axis = Count \n",
            "\n",
            "\n",
            " Numbers on top of the bars represent the occurence percentage of whole population. \n",
            "\n",
            "\n",
            " Label at the very bottom represents the feature name.\n",
            "\n"
          ],
          "name": "stdout"
        },
        {
          "output_type": "display_data",
          "data": {
            "image/png": "[encoded data removed]",
            "text/plain": [
              "<Figure size 1080x360 with 8 Axes>"
            ]
          },
          "metadata": {
            "tags": []
          }
        }
      ]
    },
    {
      "cell_type": "code",
      "metadata": {
        "id": "_VttkD36ZwdT",
        "colab_type": "code",
        "colab": {
          "base_uri": "https://localhost:8080/",
          "height": 1000
        },
        "outputId": "7b669d4b-ac17-48d5-c9dd-a6e7be88af93"
      },
      "source": [
        "# Attrition Analysis On More Features\n",
        "# X = Feature\n",
        "# Y = Count\n",
        "# Z = Percent of Population (E.G: 0.34 equals 34% or 0.06 equals 6%)\n",
        "\n",
        "total_records= len(data)\n",
        "columns = [\"TrainingTimesLastYear\",\"Education\",\"StockOptionLevel\",\"JobInvolvement\",\"RelationshipSatisfaction\",\n",
        "           \"NumCompaniesWorked\",\"OverTime\",\"PerformanceRating\"]\n",
        "plt.figure(figsize=(15,5))\n",
        "j=0\n",
        "for i in columns:\n",
        "    j +=1\n",
        "    plt.subplot(4,2,j)\n",
        "    #sns.countplot(hrdata[i])\n",
        "    ax1 = sns.countplot(data=data,x= i,hue=\"Attrition\")\n",
        "    if(j==8 or j== 7):\n",
        "        plt.xticks( rotation=90)\n",
        "    for p in ax1.patches:\n",
        "        height = p.get_height()\n",
        "        ax1.text(p.get_x()+p.get_width()/2.,\n",
        "                height + 3,\n",
        "                '{:1.2f}'.format(height/total_records,0),\n",
        "                ha=\"center\",rotation=0) \n",
        "\n",
        "plt.subplots_adjust(bottom=-0.9, top=2)\n",
        "print(\"\\nATTRITION DISTRIBUTION ON DIFFERENT FEATURES PART 2: \\n\")\n",
        "print(\"\\n X Axis = Feature Value \\n\")\n",
        "print(\"\\n Y Axis = Count \\n\")\n",
        "print(\"\\n Numbers on top of the bars represent the occurence percentage of whole population. \\n\")\n",
        "print(\"\\n Label at the very bottom represents the feature name.\\n\")\n",
        "plt.show()"
      ],
      "execution_count": 330,
      "outputs": [
        {
          "output_type": "stream",
          "text": [
            "\n",
            "ATTRITION DISTRIBUTION ON DIFFERENT FEATURES PART 2: \n",
            "\n",
            "\n",
            " X Axis = Feature Value \n",
            "\n",
            "\n",
            " Y Axis = Count \n",
            "\n",
            "\n",
            " Numbers on top of the bars represent the occurence percentage of whole population. \n",
            "\n",
            "\n",
            " Label at the very bottom represents the feature name.\n",
            "\n"
          ],
          "name": "stdout"
        },
        {
          "output_type": "display_data",
          "data": {
            "image/png": "[encoded data removed]",
            "text/plain": [
              "<Figure size 1080x360 with 8 Axes>"
            ]
          },
          "metadata": {
            "tags": []
          }
        }
      ]
    },
    {
      "cell_type": "markdown",
      "metadata": {
        "id": "eBte2NqNbGe_",
        "colab_type": "text"
      },
      "source": [
        "# EDA > Data preparation\n",
        "\n",
        "\n"
      ]
    },
    {
      "cell_type": "code",
      "metadata": {
        "id": "oIu6tjwENAWq",
        "colab_type": "code",
        "colab": {}
      },
      "source": [
        "from sklearn.tree import DecisionTreeClassifier\n",
        "from random import randrange\n",
        "import numpy as np\n",
        "import seaborn as sns\n",
        "import pandas as pd\n",
        "import pandas.util.testing as tm\n",
        "import matplotlib.pyplot as plt\n",
        "from sklearn import preprocessing"
      ],
      "execution_count": 331,
      "outputs": []
    },
    {
      "cell_type": "code",
      "metadata": {
        "id": "-lUsYFqvksZD",
        "colab_type": "code",
        "colab": {}
      },
      "source": [
        "url = \"https://raw.githubusercontent.com/furkan-ozbudak/machine-learning/master/input.csv\"\n",
        "X = pd.read_csv(url)"
      ],
      "execution_count": 332,
      "outputs": []
    },
    {
      "cell_type": "markdown",
      "metadata": {
        "id": "pBHpxR5lTF-V",
        "colab_type": "text"
      },
      "source": [
        "Reference (for converting text > numeric):\n",
        "\n",
        "https://www.kaggle.com/pavansubhasht/ibm-hr-analytics-attrition-dataset/discussion/86957\n",
        "\n"
      ]
    },
    {
      "cell_type": "code",
      "metadata": {
        "id": "md7fye_PNJDl",
        "colab_type": "code",
        "colab": {
          "base_uri": "https://localhost:8080/",
          "height": 224
        },
        "outputId": "0d6fe38e-0dcb-44d6-da6f-0539a5de90b8"
      },
      "source": [
        "#Label Encoding\n",
        "features = [\n",
        "            'Attrition',\n",
        "            'BusinessTravel',\n",
        "            'Department',\n",
        "            'EducationField',\n",
        "            'Gender',\n",
        "            'JobRole',\n",
        "            'MaritalStatus',\n",
        "            'OverTime'\n",
        "]\n",
        "\n",
        "stringToNumericDict = {\n",
        "    \"Yes\":1, \"No\":0, \"Y\":1, \"N\":0,\n",
        "    \"Non-Travel\":0, \"Travel_Frequently\":2, \"Travel_Rarely\": 3,\n",
        "    \"Research & Development\": 2, \"Human Resources\":1, \"Sales\": 3,\n",
        "    \"Life Sciences\": 2, \"Medical\":4, \"Other\":5, \"Marketing\": 3, \"Technical Degree\":6,\n",
        "    \"Male\": 2, \"Female\":1,\n",
        "    \"Laboratory Technician\": 3, \"Healthcare Representative\": 1, \"Manufacturing Director\":5,\n",
        "      \"Sales Executive\": 8, \"Research Scientist\": 7, \"Research Director\": 6,\"Sales Representative\": 9,\n",
        "      \"Manager\": 4,\n",
        "    \"Married\": 2, \"Divorced\": 1, \"Single\": 3,\n",
        "    }\n",
        "\n",
        "for feature in features:\n",
        "  X[feature].replace(stringToNumericDict, inplace=True) \n",
        "\n",
        "X.head()  "
      ],
      "execution_count": 333,
      "outputs": [
        {
          "output_type": "execute_result",
          "data": {
            "text/html": [
              "<div>\n",
              "<style scoped>\n",
              "    .dataframe tbody tr th:only-of-type {\n",
              "        vertical-align: middle;\n",
              "    }\n",
              "\n",
              "    .dataframe tbody tr th {\n",
              "        vertical-align: top;\n",
              "    }\n",
              "\n",
              "    .dataframe thead th {\n",
              "        text-align: right;\n",
              "    }\n",
              "</style>\n",
              "<table border=\"1\" class=\"dataframe\">\n",
              "  <thead>\n",
              "    <tr style=\"text-align: right;\">\n",
              "      <th></th>\n",
              "      <th>Age</th>\n",
              "      <th>Attrition</th>\n",
              "      <th>BusinessTravel</th>\n",
              "      <th>DailyRate</th>\n",
              "      <th>Department</th>\n",
              "      <th>DistanceFromHome</th>\n",
              "      <th>Education</th>\n",
              "      <th>EducationField</th>\n",
              "      <th>EmployeeCount</th>\n",
              "      <th>EmployeeNumber</th>\n",
              "      <th>EnvironmentSatisfaction</th>\n",
              "      <th>Gender</th>\n",
              "      <th>HourlyRate</th>\n",
              "      <th>JobInvolvement</th>\n",
              "      <th>JobLevel</th>\n",
              "      <th>JobRole</th>\n",
              "      <th>JobSatisfaction</th>\n",
              "      <th>MaritalStatus</th>\n",
              "      <th>MonthlyIncome</th>\n",
              "      <th>MonthlyRate</th>\n",
              "      <th>NumCompaniesWorked</th>\n",
              "      <th>Over18</th>\n",
              "      <th>OverTime</th>\n",
              "      <th>PercentSalaryHike</th>\n",
              "      <th>PerformanceRating</th>\n",
              "      <th>RelationshipSatisfaction</th>\n",
              "      <th>StandardHours</th>\n",
              "      <th>StockOptionLevel</th>\n",
              "      <th>TotalWorkingYears</th>\n",
              "      <th>TrainingTimesLastYear</th>\n",
              "      <th>WorkLifeBalance</th>\n",
              "      <th>YearsAtCompany</th>\n",
              "      <th>YearsInCurrentRole</th>\n",
              "      <th>YearsSinceLastPromotion</th>\n",
              "      <th>YearsWithCurrManager</th>\n",
              "    </tr>\n",
              "  </thead>\n",
              "  <tbody>\n",
              "    <tr>\n",
              "      <th>0</th>\n",
              "      <td>41</td>\n",
              "      <td>1</td>\n",
              "      <td>3</td>\n",
              "      <td>1102</td>\n",
              "      <td>3</td>\n",
              "      <td>1</td>\n",
              "      <td>2</td>\n",
              "      <td>2</td>\n",
              "      <td>1</td>\n",
              "      <td>1</td>\n",
              "      <td>2</td>\n",
              "      <td>1</td>\n",
              "      <td>94</td>\n",
              "      <td>3</td>\n",
              "      <td>2</td>\n",
              "      <td>8</td>\n",
              "      <td>4</td>\n",
              "      <td>3</td>\n",
              "      <td>5993</td>\n",
              "      <td>19479</td>\n",
              "      <td>8</td>\n",
              "      <td>Y</td>\n",
              "      <td>1</td>\n",
              "      <td>11</td>\n",
              "      <td>3</td>\n",
              "      <td>1</td>\n",
              "      <td>80</td>\n",
              "      <td>0</td>\n",
              "      <td>8</td>\n",
              "      <td>0</td>\n",
              "      <td>1</td>\n",
              "      <td>6</td>\n",
              "      <td>4</td>\n",
              "      <td>0</td>\n",
              "      <td>5</td>\n",
              "    </tr>\n",
              "    <tr>\n",
              "      <th>1</th>\n",
              "      <td>49</td>\n",
              "      <td>0</td>\n",
              "      <td>2</td>\n",
              "      <td>279</td>\n",
              "      <td>2</td>\n",
              "      <td>8</td>\n",
              "      <td>1</td>\n",
              "      <td>2</td>\n",
              "      <td>1</td>\n",
              "      <td>2</td>\n",
              "      <td>3</td>\n",
              "      <td>2</td>\n",
              "      <td>61</td>\n",
              "      <td>2</td>\n",
              "      <td>2</td>\n",
              "      <td>7</td>\n",
              "      <td>2</td>\n",
              "      <td>2</td>\n",
              "      <td>5130</td>\n",
              "      <td>24907</td>\n",
              "      <td>1</td>\n",
              "      <td>Y</td>\n",
              "      <td>0</td>\n",
              "      <td>23</td>\n",
              "      <td>4</td>\n",
              "      <td>4</td>\n",
              "      <td>80</td>\n",
              "      <td>1</td>\n",
              "      <td>10</td>\n",
              "      <td>3</td>\n",
              "      <td>3</td>\n",
              "      <td>10</td>\n",
              "      <td>7</td>\n",
              "      <td>1</td>\n",
              "      <td>7</td>\n",
              "    </tr>\n",
              "    <tr>\n",
              "      <th>2</th>\n",
              "      <td>37</td>\n",
              "      <td>1</td>\n",
              "      <td>3</td>\n",
              "      <td>1373</td>\n",
              "      <td>2</td>\n",
              "      <td>2</td>\n",
              "      <td>2</td>\n",
              "      <td>5</td>\n",
              "      <td>1</td>\n",
              "      <td>4</td>\n",
              "      <td>4</td>\n",
              "      <td>2</td>\n",
              "      <td>92</td>\n",
              "      <td>2</td>\n",
              "      <td>1</td>\n",
              "      <td>3</td>\n",
              "      <td>3</td>\n",
              "      <td>3</td>\n",
              "      <td>2090</td>\n",
              "      <td>2396</td>\n",
              "      <td>6</td>\n",
              "      <td>Y</td>\n",
              "      <td>1</td>\n",
              "      <td>15</td>\n",
              "      <td>3</td>\n",
              "      <td>2</td>\n",
              "      <td>80</td>\n",
              "      <td>0</td>\n",
              "      <td>7</td>\n",
              "      <td>3</td>\n",
              "      <td>3</td>\n",
              "      <td>0</td>\n",
              "      <td>0</td>\n",
              "      <td>0</td>\n",
              "      <td>0</td>\n",
              "    </tr>\n",
              "    <tr>\n",
              "      <th>3</th>\n",
              "      <td>33</td>\n",
              "      <td>0</td>\n",
              "      <td>2</td>\n",
              "      <td>1392</td>\n",
              "      <td>2</td>\n",
              "      <td>3</td>\n",
              "      <td>4</td>\n",
              "      <td>2</td>\n",
              "      <td>1</td>\n",
              "      <td>5</td>\n",
              "      <td>4</td>\n",
              "      <td>1</td>\n",
              "      <td>56</td>\n",
              "      <td>3</td>\n",
              "      <td>1</td>\n",
              "      <td>7</td>\n",
              "      <td>3</td>\n",
              "      <td>2</td>\n",
              "      <td>2909</td>\n",
              "      <td>23159</td>\n",
              "      <td>1</td>\n",
              "      <td>Y</td>\n",
              "      <td>1</td>\n",
              "      <td>11</td>\n",
              "      <td>3</td>\n",
              "      <td>3</td>\n",
              "      <td>80</td>\n",
              "      <td>0</td>\n",
              "      <td>8</td>\n",
              "      <td>3</td>\n",
              "      <td>3</td>\n",
              "      <td>8</td>\n",
              "      <td>7</td>\n",
              "      <td>3</td>\n",
              "      <td>0</td>\n",
              "    </tr>\n",
              "    <tr>\n",
              "      <th>4</th>\n",
              "      <td>27</td>\n",
              "      <td>0</td>\n",
              "      <td>3</td>\n",
              "      <td>591</td>\n",
              "      <td>2</td>\n",
              "      <td>2</td>\n",
              "      <td>1</td>\n",
              "      <td>4</td>\n",
              "      <td>1</td>\n",
              "      <td>7</td>\n",
              "      <td>1</td>\n",
              "      <td>2</td>\n",
              "      <td>40</td>\n",
              "      <td>3</td>\n",
              "      <td>1</td>\n",
              "      <td>3</td>\n",
              "      <td>2</td>\n",
              "      <td>2</td>\n",
              "      <td>3468</td>\n",
              "      <td>16632</td>\n",
              "      <td>9</td>\n",
              "      <td>Y</td>\n",
              "      <td>0</td>\n",
              "      <td>12</td>\n",
              "      <td>3</td>\n",
              "      <td>4</td>\n",
              "      <td>80</td>\n",
              "      <td>1</td>\n",
              "      <td>6</td>\n",
              "      <td>3</td>\n",
              "      <td>3</td>\n",
              "      <td>2</td>\n",
              "      <td>2</td>\n",
              "      <td>2</td>\n",
              "      <td>2</td>\n",
              "    </tr>\n",
              "  </tbody>\n",
              "</table>\n",
              "</div>"
            ],
            "text/plain": [
              "   Age  Attrition  BusinessTravel  DailyRate  Department  DistanceFromHome  Education  EducationField  EmployeeCount  EmployeeNumber  EnvironmentSatisfaction  Gender  HourlyRate  JobInvolvement  JobLevel  JobRole  JobSatisfaction  MaritalStatus  MonthlyIncome  MonthlyRate  NumCompaniesWorked Over18  OverTime  PercentSalaryHike  PerformanceRating  RelationshipSatisfaction  StandardHours  StockOptionLevel  TotalWorkingYears  TrainingTimesLastYear  WorkLifeBalance  YearsAtCompany  YearsInCurrentRole  YearsSinceLastPromotion  YearsWithCurrManager\n",
              "0   41          1               3       1102           3                 1          2               2              1               1                        2       1          94               3         2        8                4              3           5993        19479                   8      Y         1                 11                  3                         1             80                 0                  8                      0                1               6                   4                        0                     5\n",
              "1   49          0               2        279           2                 8          1               2              1               2                        3       2          61               2         2        7                2              2           5130        24907                   1      Y         0                 23                  4                         4             80                 1                 10                      3                3              10                   7                        1                     7\n",
              "2   37          1               3       1373           2                 2          2               5              1               4                        4       2          92               2         1        3                3              3           2090         2396                   6      Y         1                 15                  3                         2             80                 0                  7                      3                3               0                   0                        0                     0\n",
              "3   33          0               2       1392           2                 3          4               2              1               5                        4       1          56               3         1        7                3              2           2909        23159                   1      Y         1                 11                  3                         3             80                 0                  8                      3                3               8                   7                        3                     0\n",
              "4   27          0               3        591           2                 2          1               4              1               7                        1       2          40               3         1        3                2              2           3468        16632                   9      Y         0                 12                  3                         4             80                 1                  6                      3                3               2                   2                        2                     2"
            ]
          },
          "metadata": {
            "tags": []
          },
          "execution_count": 333
        }
      ]
    },
    {
      "cell_type": "code",
      "metadata": {
        "id": "zsPXv0ZVNQAc",
        "colab_type": "code",
        "colab": {
          "base_uri": "https://localhost:8080/",
          "height": 224
        },
        "outputId": "828257d3-9a62-4c7a-9add-cba5f75d0c75"
      },
      "source": [
        "# ONE-HOT Encoding \n",
        "X = pd.get_dummies(X, columns=['Department', 'EducationField', 'JobRole', 'MaritalStatus', 'OverTime'],\n",
        "                   drop_first=True)\n",
        "X.head()"
      ],
      "execution_count": 334,
      "outputs": [
        {
          "output_type": "execute_result",
          "data": {
            "text/html": [
              "<div>\n",
              "<style scoped>\n",
              "    .dataframe tbody tr th:only-of-type {\n",
              "        vertical-align: middle;\n",
              "    }\n",
              "\n",
              "    .dataframe tbody tr th {\n",
              "        vertical-align: top;\n",
              "    }\n",
              "\n",
              "    .dataframe thead th {\n",
              "        text-align: right;\n",
              "    }\n",
              "</style>\n",
              "<table border=\"1\" class=\"dataframe\">\n",
              "  <thead>\n",
              "    <tr style=\"text-align: right;\">\n",
              "      <th></th>\n",
              "      <th>Age</th>\n",
              "      <th>Attrition</th>\n",
              "      <th>BusinessTravel</th>\n",
              "      <th>DailyRate</th>\n",
              "      <th>DistanceFromHome</th>\n",
              "      <th>Education</th>\n",
              "      <th>EmployeeCount</th>\n",
              "      <th>EmployeeNumber</th>\n",
              "      <th>EnvironmentSatisfaction</th>\n",
              "      <th>Gender</th>\n",
              "      <th>HourlyRate</th>\n",
              "      <th>JobInvolvement</th>\n",
              "      <th>JobLevel</th>\n",
              "      <th>JobSatisfaction</th>\n",
              "      <th>MonthlyIncome</th>\n",
              "      <th>MonthlyRate</th>\n",
              "      <th>NumCompaniesWorked</th>\n",
              "      <th>Over18</th>\n",
              "      <th>PercentSalaryHike</th>\n",
              "      <th>PerformanceRating</th>\n",
              "      <th>RelationshipSatisfaction</th>\n",
              "      <th>StandardHours</th>\n",
              "      <th>StockOptionLevel</th>\n",
              "      <th>TotalWorkingYears</th>\n",
              "      <th>TrainingTimesLastYear</th>\n",
              "      <th>WorkLifeBalance</th>\n",
              "      <th>YearsAtCompany</th>\n",
              "      <th>YearsInCurrentRole</th>\n",
              "      <th>YearsSinceLastPromotion</th>\n",
              "      <th>YearsWithCurrManager</th>\n",
              "      <th>Department_2</th>\n",
              "      <th>Department_3</th>\n",
              "      <th>EducationField_2</th>\n",
              "      <th>EducationField_3</th>\n",
              "      <th>EducationField_4</th>\n",
              "      <th>EducationField_5</th>\n",
              "      <th>EducationField_6</th>\n",
              "      <th>JobRole_3</th>\n",
              "      <th>JobRole_4</th>\n",
              "      <th>JobRole_5</th>\n",
              "      <th>JobRole_6</th>\n",
              "      <th>JobRole_7</th>\n",
              "      <th>JobRole_8</th>\n",
              "      <th>JobRole_9</th>\n",
              "      <th>MaritalStatus_2</th>\n",
              "      <th>MaritalStatus_3</th>\n",
              "      <th>OverTime_1</th>\n",
              "    </tr>\n",
              "  </thead>\n",
              "  <tbody>\n",
              "    <tr>\n",
              "      <th>0</th>\n",
              "      <td>41</td>\n",
              "      <td>1</td>\n",
              "      <td>3</td>\n",
              "      <td>1102</td>\n",
              "      <td>1</td>\n",
              "      <td>2</td>\n",
              "      <td>1</td>\n",
              "      <td>1</td>\n",
              "      <td>2</td>\n",
              "      <td>1</td>\n",
              "      <td>94</td>\n",
              "      <td>3</td>\n",
              "      <td>2</td>\n",
              "      <td>4</td>\n",
              "      <td>5993</td>\n",
              "      <td>19479</td>\n",
              "      <td>8</td>\n",
              "      <td>Y</td>\n",
              "      <td>11</td>\n",
              "      <td>3</td>\n",
              "      <td>1</td>\n",
              "      <td>80</td>\n",
              "      <td>0</td>\n",
              "      <td>8</td>\n",
              "      <td>0</td>\n",
              "      <td>1</td>\n",
              "      <td>6</td>\n",
              "      <td>4</td>\n",
              "      <td>0</td>\n",
              "      <td>5</td>\n",
              "      <td>0</td>\n",
              "      <td>1</td>\n",
              "      <td>1</td>\n",
              "      <td>0</td>\n",
              "      <td>0</td>\n",
              "      <td>0</td>\n",
              "      <td>0</td>\n",
              "      <td>0</td>\n",
              "      <td>0</td>\n",
              "      <td>0</td>\n",
              "      <td>0</td>\n",
              "      <td>0</td>\n",
              "      <td>1</td>\n",
              "      <td>0</td>\n",
              "      <td>0</td>\n",
              "      <td>1</td>\n",
              "      <td>1</td>\n",
              "    </tr>\n",
              "    <tr>\n",
              "      <th>1</th>\n",
              "      <td>49</td>\n",
              "      <td>0</td>\n",
              "      <td>2</td>\n",
              "      <td>279</td>\n",
              "      <td>8</td>\n",
              "      <td>1</td>\n",
              "      <td>1</td>\n",
              "      <td>2</td>\n",
              "      <td>3</td>\n",
              "      <td>2</td>\n",
              "      <td>61</td>\n",
              "      <td>2</td>\n",
              "      <td>2</td>\n",
              "      <td>2</td>\n",
              "      <td>5130</td>\n",
              "      <td>24907</td>\n",
              "      <td>1</td>\n",
              "      <td>Y</td>\n",
              "      <td>23</td>\n",
              "      <td>4</td>\n",
              "      <td>4</td>\n",
              "      <td>80</td>\n",
              "      <td>1</td>\n",
              "      <td>10</td>\n",
              "      <td>3</td>\n",
              "      <td>3</td>\n",
              "      <td>10</td>\n",
              "      <td>7</td>\n",
              "      <td>1</td>\n",
              "      <td>7</td>\n",
              "      <td>1</td>\n",
              "      <td>0</td>\n",
              "      <td>1</td>\n",
              "      <td>0</td>\n",
              "      <td>0</td>\n",
              "      <td>0</td>\n",
              "      <td>0</td>\n",
              "      <td>0</td>\n",
              "      <td>0</td>\n",
              "      <td>0</td>\n",
              "      <td>0</td>\n",
              "      <td>1</td>\n",
              "      <td>0</td>\n",
              "      <td>0</td>\n",
              "      <td>1</td>\n",
              "      <td>0</td>\n",
              "      <td>0</td>\n",
              "    </tr>\n",
              "    <tr>\n",
              "      <th>2</th>\n",
              "      <td>37</td>\n",
              "      <td>1</td>\n",
              "      <td>3</td>\n",
              "      <td>1373</td>\n",
              "      <td>2</td>\n",
              "      <td>2</td>\n",
              "      <td>1</td>\n",
              "      <td>4</td>\n",
              "      <td>4</td>\n",
              "      <td>2</td>\n",
              "      <td>92</td>\n",
              "      <td>2</td>\n",
              "      <td>1</td>\n",
              "      <td>3</td>\n",
              "      <td>2090</td>\n",
              "      <td>2396</td>\n",
              "      <td>6</td>\n",
              "      <td>Y</td>\n",
              "      <td>15</td>\n",
              "      <td>3</td>\n",
              "      <td>2</td>\n",
              "      <td>80</td>\n",
              "      <td>0</td>\n",
              "      <td>7</td>\n",
              "      <td>3</td>\n",
              "      <td>3</td>\n",
              "      <td>0</td>\n",
              "      <td>0</td>\n",
              "      <td>0</td>\n",
              "      <td>0</td>\n",
              "      <td>1</td>\n",
              "      <td>0</td>\n",
              "      <td>0</td>\n",
              "      <td>0</td>\n",
              "      <td>0</td>\n",
              "      <td>1</td>\n",
              "      <td>0</td>\n",
              "      <td>1</td>\n",
              "      <td>0</td>\n",
              "      <td>0</td>\n",
              "      <td>0</td>\n",
              "      <td>0</td>\n",
              "      <td>0</td>\n",
              "      <td>0</td>\n",
              "      <td>0</td>\n",
              "      <td>1</td>\n",
              "      <td>1</td>\n",
              "    </tr>\n",
              "    <tr>\n",
              "      <th>3</th>\n",
              "      <td>33</td>\n",
              "      <td>0</td>\n",
              "      <td>2</td>\n",
              "      <td>1392</td>\n",
              "      <td>3</td>\n",
              "      <td>4</td>\n",
              "      <td>1</td>\n",
              "      <td>5</td>\n",
              "      <td>4</td>\n",
              "      <td>1</td>\n",
              "      <td>56</td>\n",
              "      <td>3</td>\n",
              "      <td>1</td>\n",
              "      <td>3</td>\n",
              "      <td>2909</td>\n",
              "      <td>23159</td>\n",
              "      <td>1</td>\n",
              "      <td>Y</td>\n",
              "      <td>11</td>\n",
              "      <td>3</td>\n",
              "      <td>3</td>\n",
              "      <td>80</td>\n",
              "      <td>0</td>\n",
              "      <td>8</td>\n",
              "      <td>3</td>\n",
              "      <td>3</td>\n",
              "      <td>8</td>\n",
              "      <td>7</td>\n",
              "      <td>3</td>\n",
              "      <td>0</td>\n",
              "      <td>1</td>\n",
              "      <td>0</td>\n",
              "      <td>1</td>\n",
              "      <td>0</td>\n",
              "      <td>0</td>\n",
              "      <td>0</td>\n",
              "      <td>0</td>\n",
              "      <td>0</td>\n",
              "      <td>0</td>\n",
              "      <td>0</td>\n",
              "      <td>0</td>\n",
              "      <td>1</td>\n",
              "      <td>0</td>\n",
              "      <td>0</td>\n",
              "      <td>1</td>\n",
              "      <td>0</td>\n",
              "      <td>1</td>\n",
              "    </tr>\n",
              "    <tr>\n",
              "      <th>4</th>\n",
              "      <td>27</td>\n",
              "      <td>0</td>\n",
              "      <td>3</td>\n",
              "      <td>591</td>\n",
              "      <td>2</td>\n",
              "      <td>1</td>\n",
              "      <td>1</td>\n",
              "      <td>7</td>\n",
              "      <td>1</td>\n",
              "      <td>2</td>\n",
              "      <td>40</td>\n",
              "      <td>3</td>\n",
              "      <td>1</td>\n",
              "      <td>2</td>\n",
              "      <td>3468</td>\n",
              "      <td>16632</td>\n",
              "      <td>9</td>\n",
              "      <td>Y</td>\n",
              "      <td>12</td>\n",
              "      <td>3</td>\n",
              "      <td>4</td>\n",
              "      <td>80</td>\n",
              "      <td>1</td>\n",
              "      <td>6</td>\n",
              "      <td>3</td>\n",
              "      <td>3</td>\n",
              "      <td>2</td>\n",
              "      <td>2</td>\n",
              "      <td>2</td>\n",
              "      <td>2</td>\n",
              "      <td>1</td>\n",
              "      <td>0</td>\n",
              "      <td>0</td>\n",
              "      <td>0</td>\n",
              "      <td>1</td>\n",
              "      <td>0</td>\n",
              "      <td>0</td>\n",
              "      <td>1</td>\n",
              "      <td>0</td>\n",
              "      <td>0</td>\n",
              "      <td>0</td>\n",
              "      <td>0</td>\n",
              "      <td>0</td>\n",
              "      <td>0</td>\n",
              "      <td>1</td>\n",
              "      <td>0</td>\n",
              "      <td>0</td>\n",
              "    </tr>\n",
              "  </tbody>\n",
              "</table>\n",
              "</div>"
            ],
            "text/plain": [
              "   Age  Attrition  BusinessTravel  DailyRate  DistanceFromHome  Education  EmployeeCount  EmployeeNumber  EnvironmentSatisfaction  Gender  HourlyRate  JobInvolvement  JobLevel  JobSatisfaction  MonthlyIncome  MonthlyRate  NumCompaniesWorked Over18  PercentSalaryHike  PerformanceRating  RelationshipSatisfaction  StandardHours  StockOptionLevel  TotalWorkingYears  TrainingTimesLastYear  WorkLifeBalance  YearsAtCompany  YearsInCurrentRole  YearsSinceLastPromotion  YearsWithCurrManager  Department_2  Department_3  EducationField_2  EducationField_3  EducationField_4  EducationField_5  EducationField_6  JobRole_3  JobRole_4  JobRole_5  JobRole_6  JobRole_7  JobRole_8  JobRole_9  MaritalStatus_2  MaritalStatus_3  OverTime_1\n",
              "0   41          1               3       1102                 1          2              1               1                        2       1          94               3         2                4           5993        19479                   8      Y                 11                  3                         1             80                 0                  8                      0                1               6                   4                        0                     5             0             1                 1                 0                 0                 0                 0          0          0          0          0          0          1          0                0                1           1\n",
              "1   49          0               2        279                 8          1              1               2                        3       2          61               2         2                2           5130        24907                   1      Y                 23                  4                         4             80                 1                 10                      3                3              10                   7                        1                     7             1             0                 1                 0                 0                 0                 0          0          0          0          0          1          0          0                1                0           0\n",
              "2   37          1               3       1373                 2          2              1               4                        4       2          92               2         1                3           2090         2396                   6      Y                 15                  3                         2             80                 0                  7                      3                3               0                   0                        0                     0             1             0                 0                 0                 0                 1                 0          1          0          0          0          0          0          0                0                1           1\n",
              "3   33          0               2       1392                 3          4              1               5                        4       1          56               3         1                3           2909        23159                   1      Y                 11                  3                         3             80                 0                  8                      3                3               8                   7                        3                     0             1             0                 1                 0                 0                 0                 0          0          0          0          0          1          0          0                1                0           1\n",
              "4   27          0               3        591                 2          1              1               7                        1       2          40               3         1                2           3468        16632                   9      Y                 12                  3                         4             80                 1                  6                      3                3               2                   2                        2                     2             1             0                 0                 0                 1                 0                 0          1          0          0          0          0          0          0                1                0           0"
            ]
          },
          "metadata": {
            "tags": []
          },
          "execution_count": 334
        }
      ]
    },
    {
      "cell_type": "code",
      "metadata": {
        "id": "czw_SH12NTeF",
        "colab_type": "code",
        "colab": {}
      },
      "source": [
        "from sklearn.utils import resample\n",
        "from sklearn.model_selection import train_test_split\n",
        "from sklearn.metrics import accuracy_score"
      ],
      "execution_count": 335,
      "outputs": []
    },
    {
      "cell_type": "code",
      "metadata": {
        "id": "4fTTjweLSmJt",
        "colab_type": "code",
        "colab": {}
      },
      "source": [
        "# Data Split\n",
        "y = X['Attrition'].values\n",
        "X_train, X_test, y_train, y_test = train_test_split(X, y, test_size=0.3, random_state=1)"
      ],
      "execution_count": 336,
      "outputs": []
    },
    {
      "cell_type": "code",
      "metadata": {
        "id": "Tf9TPgAVWvfh",
        "colab_type": "code",
        "colab": {
          "base_uri": "https://localhost:8080/",
          "height": 34
        },
        "outputId": "6d02e327-688a-4ab0-b442-527bffa941b5"
      },
      "source": [
        "# Create two dataframes by attrition\n",
        "df_majority = X_train[X_train['Attrition']==0] # 0 = No\n",
        "df_minority = X_train[X_train['Attrition']==1]\n",
        "print(\"Count of 'No': %d(majority), Count of Yes: %d(minority)\" % (len(df_majority), len(df_minority)))\n"
      ],
      "execution_count": 337,
      "outputs": [
        {
          "output_type": "stream",
          "text": [
            "Count of 'No': 869(majority), Count of Yes: 160(minority)\n"
          ],
          "name": "stdout"
        }
      ]
    },
    {
      "cell_type": "code",
      "metadata": {
        "id": "5_M7BMQccoSe",
        "colab_type": "code",
        "colab": {}
      },
      "source": [
        "# Upsample minority class\n",
        "df_minority_upsampled = resample(df_minority, \n",
        "                                 replace=True,      # sample with replacement\n",
        "                                 n_samples=len(df_majority),    # to match majority class\n",
        "                                 random_state=50)  # reproducible results"
      ],
      "execution_count": 338,
      "outputs": []
    },
    {
      "cell_type": "code",
      "metadata": {
        "id": "Fwt4ZKqXc-dw",
        "colab_type": "code",
        "colab": {}
      },
      "source": [
        "# Combine majority class with upsampled minority class\n",
        "X_train = pd.concat([df_majority, df_minority_upsampled])"
      ],
      "execution_count": 339,
      "outputs": []
    },
    {
      "cell_type": "code",
      "metadata": {
        "id": "3JVku1hOc-rE",
        "colab_type": "code",
        "colab": {
          "base_uri": "https://localhost:8080/",
          "height": 68
        },
        "outputId": "26830f52-4eb4-4ecd-f31f-a9bbf4a1a5ec"
      },
      "source": [
        "# Display new class counts\n",
        "y_train = X_train['Attrition'].values\n",
        "X_train['Attrition'].value_counts()\n"
      ],
      "execution_count": 340,
      "outputs": [
        {
          "output_type": "execute_result",
          "data": {
            "text/plain": [
              "1    869\n",
              "0    869\n",
              "Name: Attrition, dtype: int64"
            ]
          },
          "metadata": {
            "tags": []
          },
          "execution_count": 340
        }
      ]
    },
    {
      "cell_type": "code",
      "metadata": {
        "id": "PpfEO3Y5c-0w",
        "colab_type": "code",
        "colab": {
          "base_uri": "https://localhost:8080/",
          "height": 85
        },
        "outputId": "dda3d9fa-fa9a-470d-dc10-949ab05305e0"
      },
      "source": [
        "print(\"Size of Train Data: \", len(X_train))\n",
        "print(\"Size of Train Target: \", len(y_train))\n",
        "print(\"Size of Test Data: \", len(X_test))\n",
        "print(\"Size of Test Target: \", len(y_test))"
      ],
      "execution_count": 341,
      "outputs": [
        {
          "output_type": "stream",
          "text": [
            "Size of Train Data:  1738\n",
            "Size of Train Target:  1738\n",
            "Size of Test Data:  441\n",
            "Size of Test Target:  441\n"
          ],
          "name": "stdout"
        }
      ]
    },
    {
      "cell_type": "code",
      "metadata": {
        "id": "mr-4uEg1c-8-",
        "colab_type": "code",
        "colab": {
          "base_uri": "https://localhost:8080/",
          "height": 867
        },
        "outputId": "fecdf7c3-c5ed-4eae-e26f-4be64dfba4d7"
      },
      "source": [
        "# Build and list attrition correlation\n",
        "corr_matrix = X_train.corr()\n",
        "print(\"\\nATTRITION CORRELATION LIST IN SORTED ORDER: \\n\")\n",
        "print(corr_matrix[\"Attrition\"].sort_values(ascending=False))"
      ],
      "execution_count": 342,
      "outputs": [
        {
          "output_type": "stream",
          "text": [
            "\n",
            "ATTRITION CORRELATION LIST IN SORTED ORDER: \n",
            "\n",
            "Attrition                   1.000000\n",
            "OverTime_1                  0.307884\n",
            "MaritalStatus_3             0.232283\n",
            "JobRole_9                   0.200024\n",
            "Department_3                0.134491\n",
            "DistanceFromHome            0.133384\n",
            "EducationField_3            0.130621\n",
            "JobRole_3                   0.127040\n",
            "EducationField_6            0.116995\n",
            "BusinessTravel              0.075316\n",
            "Gender                      0.064793\n",
            "MonthlyRate                 0.047773\n",
            "NumCompaniesWorked          0.018406\n",
            "JobRole_8                   0.015185\n",
            "HourlyRate                  0.011869\n",
            "RelationshipSatisfaction   -0.004277\n",
            "YearsSinceLastPromotion    -0.005866\n",
            "JobRole_7                  -0.026468\n",
            "Education                  -0.028063\n",
            "PerformanceRating          -0.029512\n",
            "EmployeeNumber             -0.033258\n",
            "JobSatisfaction            -0.050764\n",
            "PercentSalaryHike          -0.051422\n",
            "EducationField_2           -0.051930\n",
            "EducationField_5           -0.057125\n",
            "TrainingTimesLastYear      -0.068160\n",
            "JobRole_4                  -0.078730\n",
            "DailyRate                  -0.087903\n",
            "MaritalStatus_2            -0.113057\n",
            "EducationField_4           -0.115524\n",
            "WorkLifeBalance            -0.118650\n",
            "Department_2               -0.125595\n",
            "JobRole_5                  -0.136357\n",
            "JobRole_6                  -0.136788\n",
            "YearsAtCompany             -0.140674\n",
            "JobInvolvement             -0.162267\n",
            "EnvironmentSatisfaction    -0.169781\n",
            "JobLevel                   -0.188513\n",
            "MonthlyIncome              -0.188641\n",
            "YearsInCurrentRole         -0.196538\n",
            "Age                        -0.197042\n",
            "StockOptionLevel           -0.203787\n",
            "TotalWorkingYears          -0.205076\n",
            "YearsWithCurrManager       -0.206313\n",
            "EmployeeCount                    NaN\n",
            "StandardHours                    NaN\n",
            "Name: Attrition, dtype: float64\n"
          ],
          "name": "stdout"
        }
      ]
    },
    {
      "cell_type": "markdown",
      "metadata": {
        "id": "TUGRNuUadNej",
        "colab_type": "text"
      },
      "source": [
        "CONCLUSIONS/OBSERVATIONS FROM ALL THE VISUALIATION AND CORRELATION ANALYSIS"
      ]
    },
    {
      "cell_type": "markdown",
      "metadata": {
        "id": "Tw36fo7sdHYX",
        "colab_type": "text"
      },
      "source": [
        "\n",
        "* ATR stands for Attrition.\n",
        "* Left of the \":\" is the feature analyzed and right side is the observation.\n",
        "\n",
        "1 - Bussiness Travel: Higher Business Travel rate, higher ATR \n",
        "\n",
        "2 - Department: From highest ATR to lowest: HR, Sales, Research&Development (Above Average Impact)\n",
        "\n",
        "3 - Gender: Male employees has slightly higher ATR than females\n",
        "\n",
        "4 - Marial Status: Single employees have significantly higher ATR than\n",
        "married and divorced employees. Only 1 in 10 divorced employee has ATR.\n",
        "\n",
        "5 - Work-Life Balance: Overwhelming work has the highest ATR. Idle work also\n",
        "increases the ATR.\n",
        "\n",
        "6 - Environment Satisfaction: Negatively correlates to ATR. Level 3 and 4\n",
        "have almost identical ATR.\n",
        "\n",
        "7 - Work Satisfaction: Negatively correlates to ATR.\n",
        "\n",
        "8 - Job Level: Level 4 and 5 the 100% no-ATR. Level 1 has most ATR by far.\n",
        "\n",
        "9 - Business Travel: Business travel positively correlates to ATR. (Big Impact)\n",
        "\n",
        "10- Performance Rating: Possitively correlates to ATR. (Slightly)\n",
        "\n",
        "11- OverTime: Possitively correlates to ATR (The Most impact)\n",
        "\n",
        "12- Number of Companies Worked Before: No pattern until number 5.\n",
        "From 5 to 9 very high ATR.\n",
        "\n",
        "13- Job Involvement: Negatively correlates to ATR. (Medium)\\\n",
        "\n",
        "14- Education Level: No pattern until level 5 (Doctorate).\n",
        "PHD employeed has 0 ATR.\n",
        "\n",
        "15- Number of Trainings in Last Year: No pattern until the highest\n",
        "training number 6. People trained 6 times last year never had ATR.\n",
        "\n",
        "16- Stock Level: No pattern\n",
        "\n",
        "17- Relationship Satisfaction: No pattern\n",
        "\n",
        "18- Job Role: Sales Representatives are by far most likely to ATR followed by Library Technicians\n",
        "\n",
        "19- Distance from home: Positively correlates to ATR. (Above Average Impact)\n",
        "\n",
        "20- Education Major: Marketing degree holders have the highest ATR following with the Technical degree holders.\n",
        "\n",
        "21- Years with the Current Manager: The longer the employee is working with the current manager the more likely he will stay in the company. (Huge Impact)\n",
        "\n",
        "22- Total Working Years: Higher number of years of work background indicates less ATR. (Huge Impact)\n",
        "\n",
        "23 - Stock Options Level: Higher level of stocks indicates less ATR. (Huge Impact)\n",
        "\n",
        "24- Age: Higher age indicates less ATR. (Huge Impact)\n",
        "\n",
        "25- Years in Current Role: Higher experience of current role indicates less ATR (Huge Impact)\n",
        "\n",
        "26- Monthly Income: Higher income translates into less ATR (Huge Impact)\n",
        "\n",
        "27- Job Level: More sophisticated job indicates less ATR (Huge Impact)\n",
        "\n",
        "28- Environment Satisfaction: The more employee like the environment, the less ATR. (Big Impact)\n",
        "\n",
        "29- Job Involvement: The more employee is focused his/her job physically and emotionally the less ATR. (Big Impact)\n",
        "\n",
        "30- Job Types: Management people are less likely to ATR (Big Impact)"
      ]
    },
    {
      "cell_type": "code",
      "metadata": {
        "id": "YAOsCx4ZdRpu",
        "colab_type": "code",
        "colab": {}
      },
      "source": [
        "# Drop the least effective columns to simplify learning\n",
        "X_train = X_train.drop(columns=['Attrition', 'StandardHours', 'HourlyRate', 'EmployeeNumber',\n",
        "                                  'PercentSalaryHike','YearsSinceLastPromotion',\n",
        "                                 'EmployeeCount', 'Over18','PerformanceRating', 'Gender', 'BusinessTravel',\n",
        "                                  'MonthlyRate','DailyRate',\n",
        "                                 'RelationshipSatisfaction', 'WorkLifeBalance',\n",
        "                                 'TrainingTimesLastYear'])\n",
        "X_test = X_test.drop(columns=['Attrition', 'StandardHours', 'HourlyRate', 'EmployeeNumber',\n",
        "                                  'PercentSalaryHike','YearsSinceLastPromotion',\n",
        "                                 'EmployeeCount', 'Over18','PerformanceRating', 'Gender', 'BusinessTravel',\n",
        "                                  'MonthlyRate','DailyRate',\n",
        "                                 'RelationshipSatisfaction', 'WorkLifeBalance',\n",
        "                                 'TrainingTimesLastYear'])"
      ],
      "execution_count": 343,
      "outputs": []
    },
    {
      "cell_type": "code",
      "metadata": {
        "id": "gJKfV-8BdR1K",
        "colab_type": "code",
        "colab": {
          "base_uri": "https://localhost:8080/",
          "height": 120
        },
        "outputId": "d6905d00-5d5c-4076-fed5-7eacfa0be7fd"
      },
      "source": [
        "# Making sure there is no duplicate data between train and test set\n",
        "all_cols = list(X_train.columns)\n",
        "print(\"\\nLIST OF DUPLICATE DATA BETWEEN TRAINING AND TEST SET\\n\")\n",
        "X_train.merge(X_test.drop_duplicates(subset=all_cols), how='inner')"
      ],
      "execution_count": 344,
      "outputs": [
        {
          "output_type": "stream",
          "text": [
            "\n",
            "LIST OF DUPLICATE DATA BETWEEN TRAINING AND TEST SET\n",
            "\n"
          ],
          "name": "stdout"
        },
        {
          "output_type": "execute_result",
          "data": {
            "text/html": [
              "<div>\n",
              "<style scoped>\n",
              "    .dataframe tbody tr th:only-of-type {\n",
              "        vertical-align: middle;\n",
              "    }\n",
              "\n",
              "    .dataframe tbody tr th {\n",
              "        vertical-align: top;\n",
              "    }\n",
              "\n",
              "    .dataframe thead th {\n",
              "        text-align: right;\n",
              "    }\n",
              "</style>\n",
              "<table border=\"1\" class=\"dataframe\">\n",
              "  <thead>\n",
              "    <tr style=\"text-align: right;\">\n",
              "      <th></th>\n",
              "      <th>Age</th>\n",
              "      <th>DistanceFromHome</th>\n",
              "      <th>Education</th>\n",
              "      <th>EnvironmentSatisfaction</th>\n",
              "      <th>JobInvolvement</th>\n",
              "      <th>JobLevel</th>\n",
              "      <th>JobSatisfaction</th>\n",
              "      <th>MonthlyIncome</th>\n",
              "      <th>NumCompaniesWorked</th>\n",
              "      <th>StockOptionLevel</th>\n",
              "      <th>TotalWorkingYears</th>\n",
              "      <th>YearsAtCompany</th>\n",
              "      <th>YearsInCurrentRole</th>\n",
              "      <th>YearsWithCurrManager</th>\n",
              "      <th>Department_2</th>\n",
              "      <th>Department_3</th>\n",
              "      <th>EducationField_2</th>\n",
              "      <th>EducationField_3</th>\n",
              "      <th>EducationField_4</th>\n",
              "      <th>EducationField_5</th>\n",
              "      <th>EducationField_6</th>\n",
              "      <th>JobRole_3</th>\n",
              "      <th>JobRole_4</th>\n",
              "      <th>JobRole_5</th>\n",
              "      <th>JobRole_6</th>\n",
              "      <th>JobRole_7</th>\n",
              "      <th>JobRole_8</th>\n",
              "      <th>JobRole_9</th>\n",
              "      <th>MaritalStatus_2</th>\n",
              "      <th>MaritalStatus_3</th>\n",
              "      <th>OverTime_1</th>\n",
              "    </tr>\n",
              "  </thead>\n",
              "  <tbody>\n",
              "  </tbody>\n",
              "</table>\n",
              "</div>"
            ],
            "text/plain": [
              "Empty DataFrame\n",
              "Columns: [Age, DistanceFromHome, Education, EnvironmentSatisfaction, JobInvolvement, JobLevel, JobSatisfaction, MonthlyIncome, NumCompaniesWorked, StockOptionLevel, TotalWorkingYears, YearsAtCompany, YearsInCurrentRole, YearsWithCurrManager, Department_2, Department_3, EducationField_2, EducationField_3, EducationField_4, EducationField_5, EducationField_6, JobRole_3, JobRole_4, JobRole_5, JobRole_6, JobRole_7, JobRole_8, JobRole_9, MaritalStatus_2, MaritalStatus_3, OverTime_1]\n",
              "Index: []"
            ]
          },
          "metadata": {
            "tags": []
          },
          "execution_count": 344
        }
      ]
    },
    {
      "cell_type": "code",
      "metadata": {
        "id": "e8in9MShdR96",
        "colab_type": "code",
        "colab": {
          "base_uri": "https://localhost:8080/",
          "height": 544
        },
        "outputId": "e820a94c-befc-4882-bab0-296b3da4ee9d"
      },
      "source": [
        "# Data Columns After Feature Engineering \n",
        "for x in list(X_train.columns.values):\n",
        "   print(x)"
      ],
      "execution_count": 345,
      "outputs": [
        {
          "output_type": "stream",
          "text": [
            "Age\n",
            "DistanceFromHome\n",
            "Education\n",
            "EnvironmentSatisfaction\n",
            "JobInvolvement\n",
            "JobLevel\n",
            "JobSatisfaction\n",
            "MonthlyIncome\n",
            "NumCompaniesWorked\n",
            "StockOptionLevel\n",
            "TotalWorkingYears\n",
            "YearsAtCompany\n",
            "YearsInCurrentRole\n",
            "YearsWithCurrManager\n",
            "Department_2\n",
            "Department_3\n",
            "EducationField_2\n",
            "EducationField_3\n",
            "EducationField_4\n",
            "EducationField_5\n",
            "EducationField_6\n",
            "JobRole_3\n",
            "JobRole_4\n",
            "JobRole_5\n",
            "JobRole_6\n",
            "JobRole_7\n",
            "JobRole_8\n",
            "JobRole_9\n",
            "MaritalStatus_2\n",
            "MaritalStatus_3\n",
            "OverTime_1\n"
          ],
          "name": "stdout"
        }
      ]
    },
    {
      "cell_type": "code",
      "metadata": {
        "id": "RaI6VdURdVF0",
        "colab_type": "code",
        "colab": {
          "base_uri": "https://localhost:8080/",
          "height": 224
        },
        "outputId": "a7daaf7c-8584-47a4-c41a-66ad42b30f5f"
      },
      "source": [
        "X_train.head()"
      ],
      "execution_count": 346,
      "outputs": [
        {
          "output_type": "execute_result",
          "data": {
            "text/html": [
              "<div>\n",
              "<style scoped>\n",
              "    .dataframe tbody tr th:only-of-type {\n",
              "        vertical-align: middle;\n",
              "    }\n",
              "\n",
              "    .dataframe tbody tr th {\n",
              "        vertical-align: top;\n",
              "    }\n",
              "\n",
              "    .dataframe thead th {\n",
              "        text-align: right;\n",
              "    }\n",
              "</style>\n",
              "<table border=\"1\" class=\"dataframe\">\n",
              "  <thead>\n",
              "    <tr style=\"text-align: right;\">\n",
              "      <th></th>\n",
              "      <th>Age</th>\n",
              "      <th>DistanceFromHome</th>\n",
              "      <th>Education</th>\n",
              "      <th>EnvironmentSatisfaction</th>\n",
              "      <th>JobInvolvement</th>\n",
              "      <th>JobLevel</th>\n",
              "      <th>JobSatisfaction</th>\n",
              "      <th>MonthlyIncome</th>\n",
              "      <th>NumCompaniesWorked</th>\n",
              "      <th>StockOptionLevel</th>\n",
              "      <th>TotalWorkingYears</th>\n",
              "      <th>YearsAtCompany</th>\n",
              "      <th>YearsInCurrentRole</th>\n",
              "      <th>YearsWithCurrManager</th>\n",
              "      <th>Department_2</th>\n",
              "      <th>Department_3</th>\n",
              "      <th>EducationField_2</th>\n",
              "      <th>EducationField_3</th>\n",
              "      <th>EducationField_4</th>\n",
              "      <th>EducationField_5</th>\n",
              "      <th>EducationField_6</th>\n",
              "      <th>JobRole_3</th>\n",
              "      <th>JobRole_4</th>\n",
              "      <th>JobRole_5</th>\n",
              "      <th>JobRole_6</th>\n",
              "      <th>JobRole_7</th>\n",
              "      <th>JobRole_8</th>\n",
              "      <th>JobRole_9</th>\n",
              "      <th>MaritalStatus_2</th>\n",
              "      <th>MaritalStatus_3</th>\n",
              "      <th>OverTime_1</th>\n",
              "    </tr>\n",
              "  </thead>\n",
              "  <tbody>\n",
              "    <tr>\n",
              "      <th>99</th>\n",
              "      <td>44</td>\n",
              "      <td>23</td>\n",
              "      <td>3</td>\n",
              "      <td>2</td>\n",
              "      <td>3</td>\n",
              "      <td>2</td>\n",
              "      <td>2</td>\n",
              "      <td>2042</td>\n",
              "      <td>4</td>\n",
              "      <td>1</td>\n",
              "      <td>17</td>\n",
              "      <td>3</td>\n",
              "      <td>2</td>\n",
              "      <td>2</td>\n",
              "      <td>1</td>\n",
              "      <td>0</td>\n",
              "      <td>0</td>\n",
              "      <td>0</td>\n",
              "      <td>1</td>\n",
              "      <td>0</td>\n",
              "      <td>0</td>\n",
              "      <td>1</td>\n",
              "      <td>0</td>\n",
              "      <td>0</td>\n",
              "      <td>0</td>\n",
              "      <td>0</td>\n",
              "      <td>0</td>\n",
              "      <td>0</td>\n",
              "      <td>1</td>\n",
              "      <td>0</td>\n",
              "      <td>0</td>\n",
              "    </tr>\n",
              "    <tr>\n",
              "      <th>785</th>\n",
              "      <td>40</td>\n",
              "      <td>20</td>\n",
              "      <td>4</td>\n",
              "      <td>1</td>\n",
              "      <td>3</td>\n",
              "      <td>3</td>\n",
              "      <td>4</td>\n",
              "      <td>10322</td>\n",
              "      <td>4</td>\n",
              "      <td>1</td>\n",
              "      <td>14</td>\n",
              "      <td>11</td>\n",
              "      <td>10</td>\n",
              "      <td>1</td>\n",
              "      <td>1</td>\n",
              "      <td>0</td>\n",
              "      <td>0</td>\n",
              "      <td>0</td>\n",
              "      <td>0</td>\n",
              "      <td>0</td>\n",
              "      <td>1</td>\n",
              "      <td>0</td>\n",
              "      <td>0</td>\n",
              "      <td>0</td>\n",
              "      <td>0</td>\n",
              "      <td>0</td>\n",
              "      <td>0</td>\n",
              "      <td>0</td>\n",
              "      <td>1</td>\n",
              "      <td>0</td>\n",
              "      <td>0</td>\n",
              "    </tr>\n",
              "    <tr>\n",
              "      <th>918</th>\n",
              "      <td>51</td>\n",
              "      <td>9</td>\n",
              "      <td>3</td>\n",
              "      <td>4</td>\n",
              "      <td>3</td>\n",
              "      <td>5</td>\n",
              "      <td>2</td>\n",
              "      <td>19847</td>\n",
              "      <td>4</td>\n",
              "      <td>1</td>\n",
              "      <td>31</td>\n",
              "      <td>29</td>\n",
              "      <td>10</td>\n",
              "      <td>10</td>\n",
              "      <td>0</td>\n",
              "      <td>1</td>\n",
              "      <td>1</td>\n",
              "      <td>0</td>\n",
              "      <td>0</td>\n",
              "      <td>0</td>\n",
              "      <td>0</td>\n",
              "      <td>0</td>\n",
              "      <td>1</td>\n",
              "      <td>0</td>\n",
              "      <td>0</td>\n",
              "      <td>0</td>\n",
              "      <td>0</td>\n",
              "      <td>0</td>\n",
              "      <td>0</td>\n",
              "      <td>0</td>\n",
              "      <td>1</td>\n",
              "    </tr>\n",
              "    <tr>\n",
              "      <th>1335</th>\n",
              "      <td>39</td>\n",
              "      <td>19</td>\n",
              "      <td>4</td>\n",
              "      <td>4</td>\n",
              "      <td>3</td>\n",
              "      <td>2</td>\n",
              "      <td>4</td>\n",
              "      <td>3902</td>\n",
              "      <td>8</td>\n",
              "      <td>3</td>\n",
              "      <td>7</td>\n",
              "      <td>2</td>\n",
              "      <td>2</td>\n",
              "      <td>2</td>\n",
              "      <td>1</td>\n",
              "      <td>0</td>\n",
              "      <td>0</td>\n",
              "      <td>0</td>\n",
              "      <td>0</td>\n",
              "      <td>1</td>\n",
              "      <td>0</td>\n",
              "      <td>0</td>\n",
              "      <td>0</td>\n",
              "      <td>0</td>\n",
              "      <td>0</td>\n",
              "      <td>1</td>\n",
              "      <td>0</td>\n",
              "      <td>0</td>\n",
              "      <td>0</td>\n",
              "      <td>0</td>\n",
              "      <td>0</td>\n",
              "    </tr>\n",
              "    <tr>\n",
              "      <th>1182</th>\n",
              "      <td>36</td>\n",
              "      <td>1</td>\n",
              "      <td>4</td>\n",
              "      <td>4</td>\n",
              "      <td>2</td>\n",
              "      <td>2</td>\n",
              "      <td>3</td>\n",
              "      <td>4374</td>\n",
              "      <td>0</td>\n",
              "      <td>0</td>\n",
              "      <td>4</td>\n",
              "      <td>3</td>\n",
              "      <td>2</td>\n",
              "      <td>2</td>\n",
              "      <td>1</td>\n",
              "      <td>0</td>\n",
              "      <td>0</td>\n",
              "      <td>0</td>\n",
              "      <td>1</td>\n",
              "      <td>0</td>\n",
              "      <td>0</td>\n",
              "      <td>0</td>\n",
              "      <td>0</td>\n",
              "      <td>1</td>\n",
              "      <td>0</td>\n",
              "      <td>0</td>\n",
              "      <td>0</td>\n",
              "      <td>0</td>\n",
              "      <td>1</td>\n",
              "      <td>0</td>\n",
              "      <td>0</td>\n",
              "    </tr>\n",
              "  </tbody>\n",
              "</table>\n",
              "</div>"
            ],
            "text/plain": [
              "      Age  DistanceFromHome  Education  EnvironmentSatisfaction  JobInvolvement  JobLevel  JobSatisfaction  MonthlyIncome  NumCompaniesWorked  StockOptionLevel  TotalWorkingYears  YearsAtCompany  YearsInCurrentRole  YearsWithCurrManager  Department_2  Department_3  EducationField_2  EducationField_3  EducationField_4  EducationField_5  EducationField_6  JobRole_3  JobRole_4  JobRole_5  JobRole_6  JobRole_7  JobRole_8  JobRole_9  MaritalStatus_2  MaritalStatus_3  OverTime_1\n",
              "99     44                23          3                        2               3         2                2           2042                   4                 1                 17               3                   2                     2             1             0                 0                 0                 1                 0                 0          1          0          0          0          0          0          0                1                0           0\n",
              "785    40                20          4                        1               3         3                4          10322                   4                 1                 14              11                  10                     1             1             0                 0                 0                 0                 0                 1          0          0          0          0          0          0          0                1                0           0\n",
              "918    51                 9          3                        4               3         5                2          19847                   4                 1                 31              29                  10                    10             0             1                 1                 0                 0                 0                 0          0          1          0          0          0          0          0                0                0           1\n",
              "1335   39                19          4                        4               3         2                4           3902                   8                 3                  7               2                   2                     2             1             0                 0                 0                 0                 1                 0          0          0          0          0          1          0          0                0                0           0\n",
              "1182   36                 1          4                        4               2         2                3           4374                   0                 0                  4               3                   2                     2             1             0                 0                 0                 1                 0                 0          0          0          1          0          0          0          0                1                0           0"
            ]
          },
          "metadata": {
            "tags": []
          },
          "execution_count": 346
        }
      ]
    },
    {
      "cell_type": "markdown",
      "metadata": {
        "id": "Lk6zQQ7HUwfL",
        "colab_type": "text"
      },
      "source": [
        "# Decision Tree\n",
        "#### (Bishwas)"
      ]
    },
    {
      "cell_type": "markdown",
      "metadata": {
        "colab_type": "text",
        "id": "FkGsjChhX2Lg"
      },
      "source": [
        "# Decision Tree > Train once"
      ]
    },
    {
      "cell_type": "markdown",
      "metadata": {
        "colab_type": "text",
        "id": "fnLn3qQ6X2Li"
      },
      "source": [
        "Reference: https://scikit-learn.org/stable/modules/tree.html\n"
      ]
    },
    {
      "cell_type": "code",
      "metadata": {
        "colab_type": "code",
        "id": "6Y6JupxGX2Li",
        "colab": {}
      },
      "source": [
        "# Decision Tree -> \n",
        "#     WHAT IS IT?              Supervised learning method\n",
        "#     WHAT IS IT USED FOR?     Classification and Regression\n",
        "#     HOW NODES ARE SPLIT?     Using impurity/homogeneity\n",
        "#\n",
        "# Goal ->\n",
        "#     Step 1. Create a model\n",
        "#     Step 2. Use learning simple decision derived from features.\n",
        "#     Step 3. Predicts the value of a target variable\n",
        "#\n",
        "\n",
        "from sklearn.model_selection import GridSearchCV\n",
        "from sklearn.tree import DecisionTreeClassifier\n",
        "\n",
        "clf = DecisionTreeClassifier().fit(X_train, y_train)\n",
        "\n",
        "# Fitting / Training\n",
        "#     Capture relationships between \"known variables\" and the \"target variable\"\n",
        "clf = DecisionTreeClassifier().fit(X_train, y_train)"
      ],
      "execution_count": 347,
      "outputs": []
    },
    {
      "cell_type": "code",
      "metadata": {
        "colab_type": "code",
        "id": "TGsw4DFqX2Lk",
        "colab": {}
      },
      "source": [
        "# predict(X) -> \n",
        "#       given \"unlabeled observations X\", returns the \"predicted labels y\"\n",
        "y_predict = clf.predict(X_test)"
      ],
      "execution_count": 348,
      "outputs": []
    },
    {
      "cell_type": "code",
      "metadata": {
        "id": "O3K0FrqNNGH0",
        "colab_type": "code",
        "colab": {
          "base_uri": "https://localhost:8080/",
          "height": 34
        },
        "outputId": "9f68e59e-3dd4-4b7d-8656-339525a1f37e"
      },
      "source": [
        "from sklearn.metrics import accuracy_score\n",
        "accuracy_score(y_test, y_predict)"
      ],
      "execution_count": 349,
      "outputs": [
        {
          "output_type": "execute_result",
          "data": {
            "text/plain": [
              "0.800453514739229"
            ]
          },
          "metadata": {
            "tags": []
          },
          "execution_count": 349
        }
      ]
    },
    {
      "cell_type": "code",
      "metadata": {
        "id": "pOXXL5UONHP-",
        "colab_type": "code",
        "colab": {
          "base_uri": "https://localhost:8080/",
          "height": 34
        },
        "outputId": "f53fbacf-4893-4bcd-8e33-723a5f3bca08"
      },
      "source": [
        "from sklearn.metrics import precision_score\n",
        "\n",
        "# Calculate metrics for each instance, and find their average.\n",
        "precision_score(y_test, y_predict)"
      ],
      "execution_count": 350,
      "outputs": [
        {
          "output_type": "execute_result",
          "data": {
            "text/plain": [
              "0.4225352112676056"
            ]
          },
          "metadata": {
            "tags": []
          },
          "execution_count": 350
        }
      ]
    },
    {
      "cell_type": "code",
      "metadata": {
        "id": "CQrEhNKvNMyM",
        "colab_type": "code",
        "colab": {
          "base_uri": "https://localhost:8080/",
          "height": 34
        },
        "outputId": "e77f2364-9776-4077-9867-cda5b6537ea5"
      },
      "source": [
        "from sklearn.metrics import f1_score\n",
        "f1_score(y_test, y_predict)"
      ],
      "execution_count": 351,
      "outputs": [
        {
          "output_type": "execute_result",
          "data": {
            "text/plain": [
              "0.40540540540540543"
            ]
          },
          "metadata": {
            "tags": []
          },
          "execution_count": 351
        }
      ]
    },
    {
      "cell_type": "code",
      "metadata": {
        "colab_type": "code",
        "id": "-zEkxPuRX2Lt",
        "colab": {}
      },
      "source": [
        "# from sklearn.tree import plot_tree\n",
        "# plot_tree(clf)"
      ],
      "execution_count": 352,
      "outputs": []
    },
    {
      "cell_type": "markdown",
      "metadata": {
        "colab_type": "text",
        "id": "srTqEs9YX2Lv"
      },
      "source": [
        "# Decision Tree > Train multiple / Feature Engineering / Hyperparameter Tuning"
      ]
    },
    {
      "cell_type": "code",
      "metadata": {
        "colab_type": "code",
        "id": "I8Mm96WSX2Lw",
        "colab": {}
      },
      "source": [
        "# [5 of 5] Train the classifier multiple times\n",
        "#   Hyper-parameters:\n",
        "#                               EXPLANATION:  https://towardsdatascience.com/how-to-tune-a-decision-tree-f03721801680\n",
        "#                               DOCS:         https://scikit-learn.org/stable/modules/generated/sklearn.tree.DecisionTreeClassifier.html#sklearn.tree.DecisionTreeClassifier"
      ],
      "execution_count": 353,
      "outputs": []
    },
    {
      "cell_type": "code",
      "metadata": {
        "id": "CCpuZjNvK7SG",
        "colab_type": "code",
        "colab": {
          "base_uri": "https://localhost:8080/",
          "height": 34
        },
        "outputId": "9adb61c7-129a-43bd-d764-a045c46c66d4"
      },
      "source": [
        "# HYPERPARAMETER TUNING - TRIAL 1\n",
        "\n",
        "#   splitter                    \"best\" -> the random tree split on the most relevant feature.\n",
        "parameter = {\n",
        "    'splitter':['best'],\n",
        "    'max_depth':[1,2,3,4,5,6,7,8,9,10,100, 150, 500]\n",
        "}\n",
        "grid_test = GridSearchCV(clf, parameter, cv = 5, scoring = 'accuracy', n_jobs=-1)\n",
        "grid_test.fit(X_train,y_train)\n",
        "grid_test.best_score_"
      ],
      "execution_count": 354,
      "outputs": [
        {
          "output_type": "execute_result",
          "data": {
            "text/plain": [
              "0.9344082281625757"
            ]
          },
          "metadata": {
            "tags": []
          },
          "execution_count": 354
        }
      ]
    },
    {
      "cell_type": "code",
      "metadata": {
        "id": "8BfV20C4U7Sq",
        "colab_type": "code",
        "colab": {
          "base_uri": "https://localhost:8080/",
          "height": 34
        },
        "outputId": "7ea29a08-0431-4f31-c3d2-999b3fb0bcb4"
      },
      "source": [
        "# HYPERPARAMETER TUNING - TRIAL 2\n",
        "\n",
        "#   splitter                    \"random\", take  random feature and split it. Maybe -> more depth or less precision.\n",
        "#   min_samples_split           The minimum number of samples required to split an internal node\n",
        "parameter = {\n",
        "    'splitter':['random'],\n",
        "    'min_samples_split': [1, 5, 10],\n",
        "    'max_depth':[1,2,3,4,5,6,7,8,9,10,100, 150, 500]\n",
        "}\n",
        "grid_test = GridSearchCV(clf, parameter, cv = 5, scoring = 'accuracy', n_jobs=-1)\n",
        "grid_test.fit(X_train,y_train)\n",
        "grid_test.best_score_"
      ],
      "execution_count": 355,
      "outputs": [
        {
          "output_type": "execute_result",
          "data": {
            "text/plain": [
              "0.9160025174732519"
            ]
          },
          "metadata": {
            "tags": []
          },
          "execution_count": 355
        }
      ]
    },
    {
      "cell_type": "code",
      "metadata": {
        "id": "bRbLn2EGVGnH",
        "colab_type": "code",
        "colab": {
          "base_uri": "https://localhost:8080/",
          "height": 34
        },
        "outputId": "0940a920-3d30-43b6-d7f9-61333032481e"
      },
      "source": [
        "# HYPERPARAMETER TUNING - TRIAL 3\n",
        "parameter = {\n",
        "    'splitter':['random'],\n",
        "    'max_depth':[1,2,3,4,5,6,7,8,9,10,100, 150, 200]\n",
        "}\n",
        "grid_test = GridSearchCV(clf, parameter, cv = 5, scoring = 'accuracy', n_jobs=-1)\n",
        "grid_test.fit(X_train,y_train)\n",
        "grid_test.best_score_"
      ],
      "execution_count": 356,
      "outputs": [
        {
          "output_type": "execute_result",
          "data": {
            "text/plain": [
              "0.929812183245553"
            ]
          },
          "metadata": {
            "tags": []
          },
          "execution_count": 356
        }
      ]
    },
    {
      "cell_type": "code",
      "metadata": {
        "id": "qkfV4-XJujLp",
        "colab_type": "code",
        "colab": {
          "base_uri": "https://localhost:8080/",
          "height": 323
        },
        "outputId": "ff74249f-8265-4c18-f84f-5526268d296e"
      },
      "source": [
        "# HYPERPARAMETER TUNING - TRIAL 4\n",
        "\n",
        "#   max_depth                   The maximum depth of the tree until all leaves are pure or until all leaves contain less than min_samples_split samples.\n",
        "parameter = {\n",
        "     'max_depth':[1,2,3,4,5,6,7,8,9,10,100, 150, 200]\n",
        "}\n",
        "grid = GridSearchCV(clf, parameter, cv = 5, scoring = 'accuracy', n_jobs=-1)\n",
        "grid.fit(X_train,y_train)"
      ],
      "execution_count": 357,
      "outputs": [
        {
          "output_type": "execute_result",
          "data": {
            "text/plain": [
              "GridSearchCV(cv=5, error_score=nan,\n",
              "             estimator=DecisionTreeClassifier(ccp_alpha=0.0, class_weight=None,\n",
              "                                              criterion='gini', max_depth=None,\n",
              "                                              max_features=None,\n",
              "                                              max_leaf_nodes=None,\n",
              "                                              min_impurity_decrease=0.0,\n",
              "                                              min_impurity_split=None,\n",
              "                                              min_samples_leaf=1,\n",
              "                                              min_samples_split=2,\n",
              "                                              min_weight_fraction_leaf=0.0,\n",
              "                                              presort='deprecated',\n",
              "                                              random_state=None,\n",
              "                                              splitter='best'),\n",
              "             iid='deprecated', n_jobs=-1,\n",
              "             param_grid={'max_depth': [1, 2, 3, 4, 5, 6, 7, 8, 9, 10, 100, 150,\n",
              "                                       200]},\n",
              "             pre_dispatch='2*n_jobs', refit=True, return_train_score=False,\n",
              "             scoring='accuracy', verbose=0)"
            ]
          },
          "metadata": {
            "tags": []
          },
          "execution_count": 357
        }
      ]
    },
    {
      "cell_type": "code",
      "metadata": {
        "colab_type": "code",
        "id": "Kag3_sXyX2Ly",
        "colab": {
          "base_uri": "https://localhost:8080/",
          "height": 34
        },
        "outputId": "85902e2c-63bd-4b25-ac0d-f15e55a29cc2"
      },
      "source": [
        "grid.best_score_"
      ],
      "execution_count": 358,
      "outputs": [
        {
          "output_type": "execute_result",
          "data": {
            "text/plain": [
              "0.9384328729007254"
            ]
          },
          "metadata": {
            "tags": []
          },
          "execution_count": 358
        }
      ]
    },
    {
      "cell_type": "code",
      "metadata": {
        "id": "OkOhBSstYlqX",
        "colab_type": "code",
        "colab": {}
      },
      "source": [
        "dTree_best_estimator = grid.best_estimator_"
      ],
      "execution_count": 359,
      "outputs": []
    },
    {
      "cell_type": "markdown",
      "metadata": {
        "id": "BgK8rTGnVpog",
        "colab_type": "text"
      },
      "source": [
        "# Decision Tree > Learning Curve"
      ]
    },
    {
      "cell_type": "code",
      "metadata": {
        "id": "B1ob4EXvbxf4",
        "colab_type": "code",
        "colab": {
          "base_uri": "https://localhost:8080/",
          "height": 405
        },
        "outputId": "693ea24d-bb66-4e20-993f-9cbc2a3182aa"
      },
      "source": [
        "from sklearn.model_selection import learning_curve\n",
        "\n",
        "    \n",
        "# Create CV training and test scores for various training set sizes\n",
        "train_sizes, train_scores, test_scores = learning_curve(dTree_best_estimator, \n",
        "                                                        X_train, \n",
        "                                                        y_train,\n",
        "                                                        # Number of folds in cross-validation\n",
        "                                                        cv=10,\n",
        "                                                        # Evaluation metric\n",
        "                                                        scoring='accuracy',\n",
        "                                                        # Use all computer cores\n",
        "                                                        n_jobs=-1, \n",
        "                                                        # 50 different sizes of the training set\n",
        "                                                        train_sizes=np.linspace(0.1, 1.0, 5))    \n",
        "\n",
        "# Create means and standard deviations of training set scores\n",
        "train_mean = np.mean(train_scores, axis=1)\n",
        "train_std = np.std(train_scores, axis=1)\n",
        "\n",
        "# Create means and standard deviations of test set scores\n",
        "test_mean = np.mean(test_scores, axis=1)\n",
        "test_std = np.std(test_scores, axis=1)\n",
        "plt.figure()                                                        \n",
        "                                                        \n",
        "# Draw bands\n",
        "plt.fill_between(train_sizes, train_mean - train_std, train_mean + train_std, color=\"#DDDDDD\")\n",
        "plt.fill_between(train_sizes, test_mean - test_std, test_mean + test_std, color=\"#DDDDDD\")\n",
        "\n",
        "# Draw lines\n",
        "plt.plot(train_sizes, train_mean, '--', color=\"#111111\",  label=\"Training score\")\n",
        "plt.plot(train_sizes, test_mean, color=\"#111111\", label=\"Cross-validation score\")\n",
        "\n",
        "# Create plot\n",
        "plt.title(\"Decision Tree Learning Curve\")\n",
        "plt.xlabel(\"Training Set Size\"), plt.ylabel(\"Accuracy Score\"), plt.legend(loc=\"best\")\n",
        "plt.tight_layout()\n",
        "plt.show()"
      ],
      "execution_count": 360,
      "outputs": [
        {
          "output_type": "display_data",
          "data": {
            "image/png": "[encoded data removed]",
            "text/plain": [
              "<Figure size 576x396 with 1 Axes>"
            ]
          },
          "metadata": {
            "tags": []
          }
        }
      ]
    },
    {
      "cell_type": "markdown",
      "metadata": {
        "id": "1lCkjpjwVsff",
        "colab_type": "text"
      },
      "source": [
        "# Decision Tree > complexity curve (validation curve) "
      ]
    },
    {
      "cell_type": "code",
      "metadata": {
        "id": "wZ61vbR0Cq6Z",
        "colab_type": "code",
        "colab": {
          "base_uri": "https://localhost:8080/",
          "height": 380
        },
        "outputId": "ca1c27d0-c4fd-4db6-c47c-58221aa7c4a3"
      },
      "source": [
        "import matplotlib.pyplot as plt\n",
        "import numpy as np\n",
        "\n",
        "from sklearn.datasets import load_digits\n",
        "from sklearn.model_selection import validation_curve\n",
        "\n",
        "param_range = np.logspace(0.1, 1.0, 5)\n",
        "train_scores, test_scores = validation_curve(\n",
        "    dTree_best_estimator, X_train, y_train, param_name=\"max_depth\", param_range=param_range,\n",
        "    scoring=\"accuracy\", n_jobs=5)\n",
        "train_scores_mean = np.mean(train_scores, axis=1)\n",
        "train_scores_std = np.std(train_scores, axis=1)\n",
        "test_scores_mean = np.mean(test_scores, axis=1)\n",
        "test_scores_std = np.std(test_scores, axis=1)\n",
        "\n",
        "plt.title(\"Validation Curve with Decision Tree\")\n",
        "plt.xlabel(r\"max_depth\")\n",
        "plt.ylabel(\"Score\")\n",
        "plt.ylim(0.0, 1.1)\n",
        "lw = 2\n",
        "\n",
        "plt.semilogx(param_range, train_scores_mean, label=\"Training score\",\n",
        "             color=\"darkorange\", lw=lw)\n",
        "plt.fill_between(param_range, train_scores_mean - train_scores_std,\n",
        "                 train_scores_mean + train_scores_std, alpha=0.2,\n",
        "                 color=\"darkorange\", lw=lw)\n",
        "plt.semilogx(param_range, test_scores_mean, label=\"Cross-validation score\",\n",
        "             color=\"navy\", lw=lw)\n",
        "plt.fill_between(param_range, test_scores_mean - test_scores_std,\n",
        "                 test_scores_mean + test_scores_std, alpha=0.2,\n",
        "                 color=\"navy\", lw=lw)\n",
        "plt.legend(loc=\"best\")\n",
        "plt.show()"
      ],
      "execution_count": 361,
      "outputs": [
        {
          "output_type": "display_data",
          "data": {
            "image/png": "[encoded data removed]",
            "text/plain": [
              "<Figure size 576x396 with 1 Axes>"
            ]
          },
          "metadata": {
            "tags": []
          }
        }
      ]
    },
    {
      "cell_type": "code",
      "metadata": {
        "id": "ZZQI00NLKfUE",
        "colab_type": "code",
        "colab": {}
      },
      "source": [
        ""
      ],
      "execution_count": 361,
      "outputs": []
    },
    {
      "cell_type": "markdown",
      "metadata": {
        "id": "DkmLsdE0UnTB",
        "colab_type": "text"
      },
      "source": [
        "# KNN\n",
        "#### (Luqman)"
      ]
    },
    {
      "cell_type": "markdown",
      "metadata": {
        "id": "qdRzYYvnxaAM",
        "colab_type": "text"
      },
      "source": [
        "(k-Nearest Neighbour) KNN represents a supervised classification algorithm that will give new data points accordingly to the k number or the closest data points, while k-means clustering is an unsupervised clustering algorithm that gathers and groups data into k number of clusters."
      ]
    },
    {
      "cell_type": "markdown",
      "metadata": {
        "id": "WeIlvqVGdyzJ",
        "colab_type": "text"
      },
      "source": [
        "# Reference: https://towardsdatascience.com/building-a-k-nearest-neighbors-k-nn-model-with-scikit-learn-51209555453a\n"
      ]
    },
    {
      "cell_type": "code",
      "metadata": {
        "id": "3ax1IEaOZW_Q",
        "colab_type": "code",
        "colab": {
          "base_uri": "https://localhost:8080/",
          "height": 68
        },
        "outputId": "94955a75-d036-49c7-fa41-00bebe69c945"
      },
      "source": [
        "from sklearn.neighbors import KNeighborsClassifier\n",
        "\n",
        "# Create KNN classifier\n",
        "knn = KNeighborsClassifier(n_neighbors = 3)\n",
        "\n",
        "y_train= y_train.astype(int)\n",
        "X_train= X_train.astype(int)\n",
        "y_test= y_test.astype(int)\n",
        "X_test= X_test.astype(int)\n",
        "\n",
        "# Fit the classifier to the data\n",
        "knn.fit(X_train,y_train)"
      ],
      "execution_count": 362,
      "outputs": [
        {
          "output_type": "execute_result",
          "data": {
            "text/plain": [
              "KNeighborsClassifier(algorithm='auto', leaf_size=30, metric='minkowski',\n",
              "                     metric_params=None, n_jobs=None, n_neighbors=3, p=2,\n",
              "                     weights='uniform')"
            ]
          },
          "metadata": {
            "tags": []
          },
          "execution_count": 362
        }
      ]
    },
    {
      "cell_type": "code",
      "metadata": {
        "id": "iLODp-9OZjR1",
        "colab_type": "code",
        "colab": {
          "base_uri": "https://localhost:8080/",
          "height": 34
        },
        "outputId": "4ca68ef7-a3fa-4e04-a991-67682c12bd24"
      },
      "source": [
        "#show first 10 model predictions on the test data\n",
        "knn.predict(X_test)[0:10]"
      ],
      "execution_count": 363,
      "outputs": [
        {
          "output_type": "execute_result",
          "data": {
            "text/plain": [
              "array([0, 1, 0, 1, 0, 1, 0, 0, 0, 0])"
            ]
          },
          "metadata": {
            "tags": []
          },
          "execution_count": 363
        }
      ]
    },
    {
      "cell_type": "code",
      "metadata": {
        "id": "Bkp4z1F0Zprz",
        "colab_type": "code",
        "colab": {
          "base_uri": "https://localhost:8080/",
          "height": 34
        },
        "outputId": "828da49d-cef7-4633-e864-9c044353612c"
      },
      "source": [
        "#check accuracy of our model on the test data\n",
        "knn.score(X_test, y_test)"
      ],
      "execution_count": 364,
      "outputs": [
        {
          "output_type": "execute_result",
          "data": {
            "text/plain": [
              "0.6689342403628118"
            ]
          },
          "metadata": {
            "tags": []
          },
          "execution_count": 364
        }
      ]
    },
    {
      "cell_type": "code",
      "metadata": {
        "id": "Er4OD3tKcy3R",
        "colab_type": "code",
        "colab": {
          "base_uri": "https://localhost:8080/",
          "height": 51
        },
        "outputId": "2954df80-f26a-45d7-e727-9e0812de4c8b"
      },
      "source": [
        "from sklearn.model_selection import cross_val_score\n",
        "import numpy as np\n",
        "\n",
        "#create a new KNN model\n",
        "knn_cv = KNeighborsClassifier(n_neighbors=3)\n",
        "\n",
        "#train model with cv of 5 \n",
        "cv_scores = cross_val_score(knn_cv, X_train, y_train, cv=5)\n",
        "\n",
        "#print each cv score (accuracy) and average them\n",
        "print(cv_scores)\n",
        "print('cv_scores mean:{}'.format(np.mean(cv_scores)))"
      ],
      "execution_count": 365,
      "outputs": [
        {
          "output_type": "stream",
          "text": [
            "[0.84482759 0.82471264 0.83045977 0.85302594 0.80691643]\n",
            "cv_scores mean:0.8319884726224783\n"
          ],
          "name": "stdout"
        }
      ]
    },
    {
      "cell_type": "markdown",
      "metadata": {
        "id": "HN_URyKN8R4-",
        "colab_type": "text"
      },
      "source": [
        "##Hyper Parameters"
      ]
    },
    {
      "cell_type": "code",
      "metadata": {
        "id": "Jk54SYkKc161",
        "colab_type": "code",
        "colab": {
          "base_uri": "https://localhost:8080/",
          "height": 119
        },
        "outputId": "48be5373-8b67-43f0-a528-a65371863eba"
      },
      "source": [
        "from sklearn.model_selection import GridSearchCV\n",
        "\n",
        "#create new a knn model\n",
        "model = KNeighborsClassifier()\n",
        "\n",
        "#https://www.kaggle.com/mayu0116/hyper-parameters-tuning-of-dtree-rf-svm-knn\n",
        "#https://medium.com/@mohtedibf/in-depth-parameter-tuning-for-knn-4c0de485baf6\n",
        "\n",
        "#metric [manhattan, minkowski, euclidean]\n",
        "#Parameter ‘leaf_size‘ is the size of leaf in kd_tree or ball_tree.\n",
        "\n",
        "#Hyper Parameters Set\n",
        "params = {'n_neighbors': np.arange(1, 10),\n",
        "          'leaf_size':[1,2,3,5,10],\n",
        "          'metric':['manhattan'],\n",
        "          'weights':['uniform'],\n",
        "          'algorithm':['auto', 'ball_tree','kd_tree','brute'],\n",
        "          'n_jobs':[1]}\n",
        "\n",
        "#Making models with hyper parameters sets\n",
        "knn_gscv = GridSearchCV(model, param_grid=params)\n",
        "#Learning\n",
        "knn_gscv.fit(X_train, y_train)\n",
        "#The best hyper parameters set\n",
        "print(\"Best Hyper Parameters:\\n\",knn_gscv.best_params_)\n",
        "\n",
        "#Prediction\n",
        "prediction=knn_gscv.predict(X_test)\n",
        "#importing the metrics module\n",
        "from sklearn import metrics\n",
        "#evaluation(Accuracy)\n",
        "print(\"Accuracy:\", metrics.accuracy_score(prediction,y_test))\n",
        "#evaluation(Confusion Metrix)\n",
        "print(\"Confusion Metrix:\\n\", metrics.confusion_matrix(prediction,y_test))\n"
      ],
      "execution_count": 366,
      "outputs": [
        {
          "output_type": "stream",
          "text": [
            "Best Hyper Parameters:\n",
            " {'algorithm': 'brute', 'leaf_size': 1, 'metric': 'manhattan', 'n_jobs': 1, 'n_neighbors': 1, 'weights': 'uniform'}\n",
            "Accuracy: 0.7664399092970522\n",
            "Confusion Metrix:\n",
            " [[321  60]\n",
            " [ 43  17]]\n"
          ],
          "name": "stdout"
        }
      ]
    },
    {
      "cell_type": "code",
      "metadata": {
        "id": "HfZtBfdjc57n",
        "colab_type": "code",
        "colab": {
          "base_uri": "https://localhost:8080/",
          "height": 119
        },
        "outputId": "c01ffc4b-a529-44e8-fae8-30838ee091a1"
      },
      "source": [
        "knn_gscv.best_params_"
      ],
      "execution_count": 367,
      "outputs": [
        {
          "output_type": "execute_result",
          "data": {
            "text/plain": [
              "{'algorithm': 'brute',\n",
              " 'leaf_size': 1,\n",
              " 'metric': 'manhattan',\n",
              " 'n_jobs': 1,\n",
              " 'n_neighbors': 1,\n",
              " 'weights': 'uniform'}"
            ]
          },
          "metadata": {
            "tags": []
          },
          "execution_count": 367
        }
      ]
    },
    {
      "cell_type": "code",
      "metadata": {
        "id": "MHWlDovBc9tN",
        "colab_type": "code",
        "colab": {
          "base_uri": "https://localhost:8080/",
          "height": 34
        },
        "outputId": "f11ab82b-8c14-4a10-ebd1-029fa664da07"
      },
      "source": [
        "knn_gscv.best_score_"
      ],
      "execution_count": 368,
      "outputs": [
        {
          "output_type": "execute_result",
          "data": {
            "text/plain": [
              "0.9182963993507569"
            ]
          },
          "metadata": {
            "tags": []
          },
          "execution_count": 368
        }
      ]
    },
    {
      "cell_type": "code",
      "metadata": {
        "id": "0AJdTen8vFLK",
        "colab_type": "code",
        "colab": {
          "base_uri": "https://localhost:8080/",
          "height": 34
        },
        "outputId": "929cbb7f-9921-4675-e71d-6c87c3702226"
      },
      "source": [
        "knn_best_estimator = knn_gscv.best_estimator_\n",
        "knn_best_estimator\n",
        "knn_best_estimator.get_params().keys()"
      ],
      "execution_count": 369,
      "outputs": [
        {
          "output_type": "execute_result",
          "data": {
            "text/plain": [
              "dict_keys(['algorithm', 'leaf_size', 'metric', 'metric_params', 'n_jobs', 'n_neighbors', 'p', 'weights'])"
            ]
          },
          "metadata": {
            "tags": []
          },
          "execution_count": 369
        }
      ]
    },
    {
      "cell_type": "markdown",
      "metadata": {
        "id": "0yxgwqYXU_qP",
        "colab_type": "text"
      },
      "source": [
        "# KNN > Complexity Curve"
      ]
    },
    {
      "cell_type": "code",
      "metadata": {
        "id": "QVtm0PH6wf9c",
        "colab_type": "code",
        "colab": {
          "base_uri": "https://localhost:8080/",
          "height": 380
        },
        "outputId": "f5f884f0-5bc5-43c9-ce90-2bb01d7d4e09"
      },
      "source": [
        "import matplotlib.pyplot as plt\n",
        "import numpy as np\n",
        "\n",
        "from sklearn.datasets import load_digits\n",
        "from sklearn.svm import SVC\n",
        "from sklearn.model_selection import validation_curve\n",
        "\n",
        "param_range = np.arange(1,9,2)\n",
        "train_scores, test_scores = validation_curve(knn_best_estimator, \n",
        "                                             X_train, y_train,\n",
        "                                             param_name='n_neighbors',\n",
        "                                             param_range=param_range,\n",
        "                                             cv = 5,\n",
        "                                             scoring=\"accuracy\", n_jobs=1)\n",
        "\n",
        "train_scores_mean = np.mean(train_scores, axis=1)\n",
        "train_scores_std = np.std(train_scores, axis=1)\n",
        "test_scores_mean = np.mean(test_scores, axis=1)\n",
        "test_scores_std = np.std(test_scores, axis=1)\n",
        "\n",
        "plt.title(\"KNN\")\n",
        "plt.xlabel(\"Complexity\")\n",
        "plt.ylabel(\"Curve\")\n",
        "\n",
        "plt.ylim(0.0, 1.1)\n",
        "lw = 2\n",
        "\n",
        "plt.fill_between(param_range, train_scores_mean - train_scores_std, train_scores_mean + train_scores_std, alpha=0.2, color=\"darkorange\", lw=lw)\n",
        "plt.fill_between(param_range, test_scores_mean - test_scores_std, test_scores_mean + test_scores_std, alpha=0.2, color=\"navy\", lw=lw)\n",
        "plt.semilogx(param_range, train_scores_mean, label=\"Training score\", color=\"darkorange\", lw=lw)\n",
        "plt.semilogx(param_range, test_scores_mean, label=\"Cross-validation score\", color=\"navy\", lw=lw)\n",
        "\n",
        "plt.legend(loc=\"best\")\n",
        "plt.show()\n"
      ],
      "execution_count": 370,
      "outputs": [
        {
          "output_type": "display_data",
          "data": {
            "image/png": "[encoded data removed]",
            "text/plain": [
              "<Figure size 576x396 with 1 Axes>"
            ]
          },
          "metadata": {
            "tags": []
          }
        }
      ]
    },
    {
      "cell_type": "markdown",
      "metadata": {
        "id": "p8GjZQAHVWJ0",
        "colab_type": "text"
      },
      "source": [
        "# KNN > Learning Curve"
      ]
    },
    {
      "cell_type": "code",
      "metadata": {
        "id": "sYm4ovtAfCeX",
        "colab_type": "code",
        "colab": {}
      },
      "source": [
        "def plot_curve():\n",
        "    \n",
        "    from sklearn.model_selection import learning_curve\n",
        "    import matplotlib.pyplot as plt\n",
        "    \n",
        "    # model = KNeighborsClassifier(n_neighbors=1) \n",
        "    # model.fit(X_train, y_train)\n",
        "    \n",
        "    \"\"\"\n",
        "    Generate a simple plot of the test and traning learning curve.\n",
        "\n",
        "    Parameters\n",
        "    ----------\n",
        "    estimator : object type that implements the \"fit\" and \"predict\" methods\n",
        "        An object of that type which is cloned for each validation.\n",
        "\n",
        "    title : string\n",
        "        Title for the chart.\n",
        "\n",
        "    X : array-like, shape (n_samples, n_features)\n",
        "        Training vector, where n_samples is the number of samples and\n",
        "        n_features is the number of features.\n",
        "\n",
        "    y : array-like, shape (n_samples) or (n_samples, n_features), optional\n",
        "        Target relative to X for classification or regression;\n",
        "        None for unsupervised learning.\n",
        "\n",
        "    ylim : tuple, shape (ymin, ymax), optional\n",
        "        Defines minimum and maximum yvalues plotted.\n",
        "\n",
        "    cv : integer, cross-validation generator, optional\n",
        "        If an integer is passed, it is the number of folds (defaults to 3).\n",
        "        Specific cross-validation objects can be passed, see\n",
        "        sklearn.cross_validation module for the list of possible objects\n",
        "\n",
        "    n_jobs : integer, optional\n",
        "        Number of jobs to run in parallel (default 1).\n",
        "        \n",
        "    x1 = np.linspace(0, 10, 8, endpoint=True) produces\n",
        "        8 evenly spaced points in the range 0 to 10\n",
        "    \"\"\"\n",
        "    \n",
        "    train_sizes, train_scores, test_scores = learning_curve(knn_best_estimator,\n",
        "                                                            X_train,\n",
        "                                                            y_train,\n",
        "                                                            n_jobs=1,\n",
        "                                                            cv=5,\n",
        "                                                            train_sizes=np.linspace(0.01, 1.0, 5),\n",
        "                                                            verbose=0)\n",
        "\n",
        "    train_scores_mean = np.mean(train_scores, axis=1)\n",
        "    train_scores_std = np.std(train_scores, axis=1)\n",
        "    test_scores_mean = np.mean(test_scores, axis=1)\n",
        "    test_scores_std = np.std(test_scores, axis=1)\n",
        "    \n",
        "    plt.figure()\n",
        "    plt.title(\"RandomForestClassifier\")\n",
        "    plt.xlabel(\"Training examples\")\n",
        "    plt.ylabel(\"Score\")\n",
        "    plt.gca().invert_yaxis()\n",
        "    \n",
        "    # box-like grid\n",
        "    plt.grid()\n",
        "    \n",
        "    # plot the std deviation as a transparent range at each training set size\n",
        "    plt.fill_between(train_sizes, train_scores_mean - train_scores_std, train_scores_mean + train_scores_std, alpha=0.1, color=\"r\")\n",
        "    plt.fill_between(train_sizes, test_scores_mean - test_scores_std, test_scores_mean + test_scores_std, alpha=0.1, color=\"g\")\n",
        "    \n",
        "    # plot the average training and test score lines at each training set size\n",
        "    plt.plot(train_sizes, train_scores_mean, 'o-', color=\"r\", label=\"Training score\")\n",
        "    plt.plot(train_sizes, test_scores_mean, 'o-', color=\"g\", label=\"Cross-validation score\")\n",
        "    \n",
        "    # sizes the window for readability and displays the plot\n",
        "    # shows error from 0 to 1.1\n",
        "    plt.ylim(-.1,1.1)\n",
        "    \n",
        "    plt.xlabel(\"Training Set Size\"), plt.ylabel(\"Accuracy Score\"), plt.legend(loc=\"best\")\n",
        "    plt.show()\n",
        "    \n"
      ],
      "execution_count": 371,
      "outputs": []
    },
    {
      "cell_type": "code",
      "metadata": {
        "id": "woi7JtK1fHxo",
        "colab_type": "code",
        "colab": {
          "base_uri": "https://localhost:8080/",
          "height": 294
        },
        "outputId": "37fe643b-971b-471c-e70d-b2fc1bb73358"
      },
      "source": [
        "%matplotlib inline\n",
        "plot_curve()"
      ],
      "execution_count": 372,
      "outputs": [
        {
          "output_type": "display_data",
          "data": {
            "image/png": "[encoded data removed]",
            "text/plain": [
              "<Figure size 432x288 with 1 Axes>"
            ]
          },
          "metadata": {
            "tags": [],
            "needs_background": "light"
          }
        }
      ]
    },
    {
      "cell_type": "markdown",
      "metadata": {
        "id": "SdC-6Hs_sVSY",
        "colab_type": "text"
      },
      "source": [
        "# SVM -- Support vector machine\n",
        "\n",
        "#### (Taha)"
      ]
    },
    {
      "cell_type": "code",
      "metadata": {
        "id": "eku--a4Oq_4w",
        "colab_type": "code",
        "colab": {
          "base_uri": "https://localhost:8080/",
          "height": 85
        },
        "outputId": "49e6a19d-70d5-4285-adea-9b65ffa5ccbb"
      },
      "source": [
        "##supervised\n",
        "##https://towardsdatascience.com/predict-employee-turnover-with-python-da4975588aa3\n",
        "from sklearn.svm import SVC\n",
        "from sklearn.model_selection import GridSearchCV\n",
        "\n",
        "svc = SVC()\n",
        "svc.fit(X_train, y_train)"
      ],
      "execution_count": 373,
      "outputs": [
        {
          "output_type": "execute_result",
          "data": {
            "text/plain": [
              "SVC(C=1.0, break_ties=False, cache_size=200, class_weight=None, coef0=0.0,\n",
              "    decision_function_shape='ovr', degree=3, gamma='scale', kernel='rbf',\n",
              "    max_iter=-1, probability=False, random_state=None, shrinking=True,\n",
              "    tol=0.001, verbose=False)"
            ]
          },
          "metadata": {
            "tags": []
          },
          "execution_count": 373
        }
      ]
    },
    {
      "cell_type": "code",
      "metadata": {
        "id": "_ttBRDsqrCcY",
        "colab_type": "code",
        "colab": {
          "base_uri": "https://localhost:8080/",
          "height": 34
        },
        "outputId": "8492d48e-b184-4b09-c02f-18fdad81d5df"
      },
      "source": [
        "print('Support vector machine accuracy: {:.3f}'.format(accuracy_score(y_test, svc.predict(X_test))))"
      ],
      "execution_count": 374,
      "outputs": [
        {
          "output_type": "stream",
          "text": [
            "Support vector machine accuracy: 0.683\n"
          ],
          "name": "stdout"
        }
      ]
    },
    {
      "cell_type": "markdown",
      "metadata": {
        "id": "5vmJ8OQpC57U",
        "colab_type": "text"
      },
      "source": [
        "# SVM > Hyperparameter Tuning"
      ]
    },
    {
      "cell_type": "code",
      "metadata": {
        "id": "lGAjKfISC-va",
        "colab_type": "code",
        "colab": {
          "base_uri": "https://localhost:8080/",
          "height": 1000
        },
        "outputId": "a79f683f-4127-4e4c-f4db-94f5a63a87ee"
      },
      "source": [
        "##https://www.geeksforgeeks.org/svm-hyperparameter-tuning-using-gridsearchcv-ml/\n",
        "##https://medium.com/all-things-ai/in-depth-parameter-tuning-for-svc-758215394769 \n",
        "from sklearn.model_selection import GridSearchCV \n",
        "  \n",
        "  #rbf\n",
        "  ##Radial basis function kernel. In machine learning, the radial basis function kernel, \n",
        "  #or RBF kernel, is a popular kernel function used in various kernelized learning algorithms.\n",
        "   #In particular, it is commonly used in support vector machine classification.\n",
        "##https://en.wikipedia.org/w/index.php?title=Radial_basis_function_kernel&action=history\n",
        "\n",
        "# defining parameter range \n",
        "param_grid = {'C': [0.1, 1, 10, 100, 1000],  \n",
        "              'gamma': [1, 0.1, 0.01, 0.001, 0.0001], \n",
        "              'kernel': ['rbf']} \n",
        "\n",
        "#gamma\n",
        "#gamma is a parameter for non linear hyperplanes. \n",
        "#The higher the gamma value it tries to exactly fit the training data set\n",
        "\n",
        "\n",
        "#C\n",
        "#C is the penalty parameter of the error term. It controls the trade off between smooth\n",
        "# decision boundary and classifying the training points correctly.\n",
        "\n",
        "grid = GridSearchCV(SVC(), param_grid, refit = True, verbose = 3) \n",
        " \n",
        "grid.fit(X_train,y_train)\n",
        "\n",
        "svm_best_estimator = grid.best_estimator_\n",
        "\n",
        "print('Support vector machine accuracy: {:.3f}'.format(accuracy_score(y_test, grid.predict(X_test))))\n",
        "\n",
        "##print(grid.best_params_) \n",
        "##print(grid.best_estimator_) \n"
      ],
      "execution_count": 375,
      "outputs": [
        {
          "output_type": "stream",
          "text": [
            "Fitting 5 folds for each of 25 candidates, totalling 125 fits\n",
            "[CV] C=0.1, gamma=1, kernel=rbf ......................................\n",
            "[CV] .......... C=0.1, gamma=1, kernel=rbf, score=0.718, total=   0.2s\n",
            "[CV] C=0.1, gamma=1, kernel=rbf ......................................\n"
          ],
          "name": "stdout"
        },
        {
          "output_type": "stream",
          "text": [
            "[Parallel(n_jobs=1)]: Using backend SequentialBackend with 1 concurrent workers.\n",
            "[Parallel(n_jobs=1)]: Done   1 out of   1 | elapsed:    0.2s remaining:    0.0s\n"
          ],
          "name": "stderr"
        },
        {
          "output_type": "stream",
          "text": [
            "[CV] .......... C=0.1, gamma=1, kernel=rbf, score=0.716, total=   0.1s\n",
            "[CV] C=0.1, gamma=1, kernel=rbf ......................................\n",
            "[CV] .......... C=0.1, gamma=1, kernel=rbf, score=0.695, total=   0.1s\n",
            "[CV] C=0.1, gamma=1, kernel=rbf ......................................\n"
          ],
          "name": "stdout"
        },
        {
          "output_type": "stream",
          "text": [
            "[Parallel(n_jobs=1)]: Done   2 out of   2 | elapsed:    0.3s remaining:    0.0s\n"
          ],
          "name": "stderr"
        },
        {
          "output_type": "stream",
          "text": [
            "[CV] .......... C=0.1, gamma=1, kernel=rbf, score=1.000, total=   0.1s\n",
            "[CV] C=0.1, gamma=1, kernel=rbf ......................................\n",
            "[CV] .......... C=0.1, gamma=1, kernel=rbf, score=0.507, total=   0.1s\n",
            "[CV] C=0.1, gamma=0.1, kernel=rbf ....................................\n",
            "[CV] ........ C=0.1, gamma=0.1, kernel=rbf, score=0.718, total=   0.1s\n",
            "[CV] C=0.1, gamma=0.1, kernel=rbf ....................................\n",
            "[CV] ........ C=0.1, gamma=0.1, kernel=rbf, score=0.716, total=   0.2s\n",
            "[CV] C=0.1, gamma=0.1, kernel=rbf ....................................\n",
            "[CV] ........ C=0.1, gamma=0.1, kernel=rbf, score=0.695, total=   0.1s\n",
            "[CV] C=0.1, gamma=0.1, kernel=rbf ....................................\n",
            "[CV] ........ C=0.1, gamma=0.1, kernel=rbf, score=0.988, total=   0.1s\n",
            "[CV] C=0.1, gamma=0.1, kernel=rbf ....................................\n",
            "[CV] ........ C=0.1, gamma=0.1, kernel=rbf, score=0.507, total=   0.1s\n",
            "[CV] C=0.1, gamma=0.01, kernel=rbf ...................................\n",
            "[CV] ....... C=0.1, gamma=0.01, kernel=rbf, score=0.776, total=   0.1s\n",
            "[CV] C=0.1, gamma=0.01, kernel=rbf ...................................\n",
            "[CV] ....... C=0.1, gamma=0.01, kernel=rbf, score=0.796, total=   0.2s\n",
            "[CV] C=0.1, gamma=0.01, kernel=rbf ...................................\n",
            "[CV] ....... C=0.1, gamma=0.01, kernel=rbf, score=0.718, total=   0.1s\n",
            "[CV] C=0.1, gamma=0.01, kernel=rbf ...................................\n",
            "[CV] ....... C=0.1, gamma=0.01, kernel=rbf, score=0.977, total=   0.1s\n",
            "[CV] C=0.1, gamma=0.01, kernel=rbf ...................................\n",
            "[CV] ....... C=0.1, gamma=0.01, kernel=rbf, score=0.553, total=   0.1s\n",
            "[CV] C=0.1, gamma=0.001, kernel=rbf ..................................\n",
            "[CV] ...... C=0.1, gamma=0.001, kernel=rbf, score=0.618, total=   0.2s\n",
            "[CV] C=0.1, gamma=0.001, kernel=rbf ..................................\n",
            "[CV] ...... C=0.1, gamma=0.001, kernel=rbf, score=0.724, total=   0.2s\n",
            "[CV] C=0.1, gamma=0.001, kernel=rbf ..................................\n",
            "[CV] ...... C=0.1, gamma=0.001, kernel=rbf, score=0.626, total=   0.2s\n",
            "[CV] C=0.1, gamma=0.001, kernel=rbf ..................................\n",
            "[CV] ...... C=0.1, gamma=0.001, kernel=rbf, score=0.677, total=   0.2s\n",
            "[CV] C=0.1, gamma=0.001, kernel=rbf ..................................\n",
            "[CV] ...... C=0.1, gamma=0.001, kernel=rbf, score=0.620, total=   0.2s\n",
            "[CV] C=0.1, gamma=0.0001, kernel=rbf .................................\n",
            "[CV] ..... C=0.1, gamma=0.0001, kernel=rbf, score=0.664, total=   0.2s\n",
            "[CV] C=0.1, gamma=0.0001, kernel=rbf .................................\n",
            "[CV] ..... C=0.1, gamma=0.0001, kernel=rbf, score=0.693, total=   0.2s\n",
            "[CV] C=0.1, gamma=0.0001, kernel=rbf .................................\n",
            "[CV] ..... C=0.1, gamma=0.0001, kernel=rbf, score=0.678, total=   0.2s\n",
            "[CV] C=0.1, gamma=0.0001, kernel=rbf .................................\n",
            "[CV] ..... C=0.1, gamma=0.0001, kernel=rbf, score=0.671, total=   0.2s\n",
            "[CV] C=0.1, gamma=0.0001, kernel=rbf .................................\n",
            "[CV] ..... C=0.1, gamma=0.0001, kernel=rbf, score=0.634, total=   0.2s\n",
            "[CV] C=1, gamma=1, kernel=rbf ........................................\n",
            "[CV] ............ C=1, gamma=1, kernel=rbf, score=0.994, total=   0.1s\n",
            "[CV] C=1, gamma=1, kernel=rbf ........................................\n",
            "[CV] ............ C=1, gamma=1, kernel=rbf, score=1.000, total=   0.1s\n",
            "[CV] C=1, gamma=1, kernel=rbf ........................................\n",
            "[CV] ............ C=1, gamma=1, kernel=rbf, score=0.983, total=   0.1s\n",
            "[CV] C=1, gamma=1, kernel=rbf ........................................\n",
            "[CV] ............ C=1, gamma=1, kernel=rbf, score=1.000, total=   0.1s\n",
            "[CV] C=1, gamma=1, kernel=rbf ........................................\n",
            "[CV] ............ C=1, gamma=1, kernel=rbf, score=1.000, total=   0.1s\n",
            "[CV] C=1, gamma=0.1, kernel=rbf ......................................\n",
            "[CV] .......... C=1, gamma=0.1, kernel=rbf, score=0.994, total=   0.1s\n",
            "[CV] C=1, gamma=0.1, kernel=rbf ......................................\n",
            "[CV] .......... C=1, gamma=0.1, kernel=rbf, score=1.000, total=   0.1s\n",
            "[CV] C=1, gamma=0.1, kernel=rbf ......................................\n",
            "[CV] .......... C=1, gamma=0.1, kernel=rbf, score=0.983, total=   0.1s\n",
            "[CV] C=1, gamma=0.1, kernel=rbf ......................................\n",
            "[CV] .......... C=1, gamma=0.1, kernel=rbf, score=1.000, total=   0.1s\n",
            "[CV] C=1, gamma=0.1, kernel=rbf ......................................\n",
            "[CV] .......... C=1, gamma=0.1, kernel=rbf, score=1.000, total=   0.1s\n",
            "[CV] C=1, gamma=0.01, kernel=rbf .....................................\n",
            "[CV] ......... C=1, gamma=0.01, kernel=rbf, score=0.974, total=   0.1s\n",
            "[CV] C=1, gamma=0.01, kernel=rbf .....................................\n",
            "[CV] ......... C=1, gamma=0.01, kernel=rbf, score=0.980, total=   0.1s\n",
            "[CV] C=1, gamma=0.01, kernel=rbf .....................................\n",
            "[CV] ......... C=1, gamma=0.01, kernel=rbf, score=0.966, total=   0.1s\n",
            "[CV] C=1, gamma=0.01, kernel=rbf .....................................\n",
            "[CV] ......... C=1, gamma=0.01, kernel=rbf, score=0.991, total=   0.1s\n",
            "[CV] C=1, gamma=0.01, kernel=rbf .....................................\n",
            "[CV] ......... C=1, gamma=0.01, kernel=rbf, score=0.988, total=   0.1s\n",
            "[CV] C=1, gamma=0.001, kernel=rbf ....................................\n",
            "[CV] ........ C=1, gamma=0.001, kernel=rbf, score=0.848, total=   0.1s\n",
            "[CV] C=1, gamma=0.001, kernel=rbf ....................................\n",
            "[CV] ........ C=1, gamma=0.001, kernel=rbf, score=0.859, total=   0.1s\n",
            "[CV] C=1, gamma=0.001, kernel=rbf ....................................\n",
            "[CV] ........ C=1, gamma=0.001, kernel=rbf, score=0.876, total=   0.1s\n",
            "[CV] C=1, gamma=0.001, kernel=rbf ....................................\n",
            "[CV] ........ C=1, gamma=0.001, kernel=rbf, score=0.862, total=   0.1s\n",
            "[CV] C=1, gamma=0.001, kernel=rbf ....................................\n",
            "[CV] ........ C=1, gamma=0.001, kernel=rbf, score=0.847, total=   0.1s\n",
            "[CV] C=1, gamma=0.0001, kernel=rbf ...................................\n",
            "[CV] ....... C=1, gamma=0.0001, kernel=rbf, score=0.710, total=   0.2s\n",
            "[CV] C=1, gamma=0.0001, kernel=rbf ...................................\n",
            "[CV] ....... C=1, gamma=0.0001, kernel=rbf, score=0.730, total=   0.2s\n",
            "[CV] C=1, gamma=0.0001, kernel=rbf ...................................\n",
            "[CV] ....... C=1, gamma=0.0001, kernel=rbf, score=0.718, total=   0.2s\n",
            "[CV] C=1, gamma=0.0001, kernel=rbf ...................................\n",
            "[CV] ....... C=1, gamma=0.0001, kernel=rbf, score=0.749, total=   0.1s\n",
            "[CV] C=1, gamma=0.0001, kernel=rbf ...................................\n",
            "[CV] ....... C=1, gamma=0.0001, kernel=rbf, score=0.738, total=   0.2s\n",
            "[CV] C=10, gamma=1, kernel=rbf .......................................\n",
            "[CV] ........... C=10, gamma=1, kernel=rbf, score=0.994, total=   0.1s\n",
            "[CV] C=10, gamma=1, kernel=rbf .......................................\n",
            "[CV] ........... C=10, gamma=1, kernel=rbf, score=1.000, total=   0.1s\n",
            "[CV] C=10, gamma=1, kernel=rbf .......................................\n",
            "[CV] ........... C=10, gamma=1, kernel=rbf, score=0.983, total=   0.1s\n",
            "[CV] C=10, gamma=1, kernel=rbf .......................................\n",
            "[CV] ........... C=10, gamma=1, kernel=rbf, score=1.000, total=   0.1s\n",
            "[CV] C=10, gamma=1, kernel=rbf .......................................\n",
            "[CV] ........... C=10, gamma=1, kernel=rbf, score=1.000, total=   0.1s\n",
            "[CV] C=10, gamma=0.1, kernel=rbf .....................................\n",
            "[CV] ......... C=10, gamma=0.1, kernel=rbf, score=0.994, total=   0.1s\n",
            "[CV] C=10, gamma=0.1, kernel=rbf .....................................\n",
            "[CV] ......... C=10, gamma=0.1, kernel=rbf, score=1.000, total=   0.1s\n",
            "[CV] C=10, gamma=0.1, kernel=rbf .....................................\n",
            "[CV] ......... C=10, gamma=0.1, kernel=rbf, score=0.983, total=   0.1s\n",
            "[CV] C=10, gamma=0.1, kernel=rbf .....................................\n",
            "[CV] ......... C=10, gamma=0.1, kernel=rbf, score=1.000, total=   0.1s\n",
            "[CV] C=10, gamma=0.1, kernel=rbf .....................................\n",
            "[CV] ......... C=10, gamma=0.1, kernel=rbf, score=1.000, total=   0.1s\n",
            "[CV] C=10, gamma=0.01, kernel=rbf ....................................\n",
            "[CV] ........ C=10, gamma=0.01, kernel=rbf, score=0.983, total=   0.1s\n",
            "[CV] C=10, gamma=0.01, kernel=rbf ....................................\n",
            "[CV] ........ C=10, gamma=0.01, kernel=rbf, score=0.989, total=   0.1s\n",
            "[CV] C=10, gamma=0.01, kernel=rbf ....................................\n",
            "[CV] ........ C=10, gamma=0.01, kernel=rbf, score=0.968, total=   0.1s\n",
            "[CV] C=10, gamma=0.01, kernel=rbf ....................................\n",
            "[CV] ........ C=10, gamma=0.01, kernel=rbf, score=0.991, total=   0.1s\n",
            "[CV] C=10, gamma=0.01, kernel=rbf ....................................\n",
            "[CV] ........ C=10, gamma=0.01, kernel=rbf, score=0.986, total=   0.1s\n",
            "[CV] C=10, gamma=0.001, kernel=rbf ...................................\n",
            "[CV] ....... C=10, gamma=0.001, kernel=rbf, score=0.920, total=   0.1s\n",
            "[CV] C=10, gamma=0.001, kernel=rbf ...................................\n",
            "[CV] ....... C=10, gamma=0.001, kernel=rbf, score=0.925, total=   0.1s\n",
            "[CV] C=10, gamma=0.001, kernel=rbf ...................................\n",
            "[CV] ....... C=10, gamma=0.001, kernel=rbf, score=0.920, total=   0.1s\n",
            "[CV] C=10, gamma=0.001, kernel=rbf ...................................\n",
            "[CV] ....... C=10, gamma=0.001, kernel=rbf, score=0.931, total=   0.1s\n",
            "[CV] C=10, gamma=0.001, kernel=rbf ...................................\n",
            "[CV] ....... C=10, gamma=0.001, kernel=rbf, score=0.911, total=   0.1s\n",
            "[CV] C=10, gamma=0.0001, kernel=rbf ..................................\n",
            "[CV] ...... C=10, gamma=0.0001, kernel=rbf, score=0.822, total=   0.1s\n",
            "[CV] C=10, gamma=0.0001, kernel=rbf ..................................\n",
            "[CV] ...... C=10, gamma=0.0001, kernel=rbf, score=0.836, total=   0.1s\n",
            "[CV] C=10, gamma=0.0001, kernel=rbf ..................................\n",
            "[CV] ...... C=10, gamma=0.0001, kernel=rbf, score=0.816, total=   0.1s\n",
            "[CV] C=10, gamma=0.0001, kernel=rbf ..................................\n",
            "[CV] ...... C=10, gamma=0.0001, kernel=rbf, score=0.807, total=   0.1s\n",
            "[CV] C=10, gamma=0.0001, kernel=rbf ..................................\n",
            "[CV] ...... C=10, gamma=0.0001, kernel=rbf, score=0.807, total=   0.1s\n",
            "[CV] C=100, gamma=1, kernel=rbf ......................................\n",
            "[CV] .......... C=100, gamma=1, kernel=rbf, score=0.994, total=   0.1s\n",
            "[CV] C=100, gamma=1, kernel=rbf ......................................\n",
            "[CV] .......... C=100, gamma=1, kernel=rbf, score=1.000, total=   0.1s\n",
            "[CV] C=100, gamma=1, kernel=rbf ......................................\n",
            "[CV] .......... C=100, gamma=1, kernel=rbf, score=0.983, total=   0.1s\n",
            "[CV] C=100, gamma=1, kernel=rbf ......................................\n",
            "[CV] .......... C=100, gamma=1, kernel=rbf, score=1.000, total=   0.1s\n",
            "[CV] C=100, gamma=1, kernel=rbf ......................................\n",
            "[CV] .......... C=100, gamma=1, kernel=rbf, score=1.000, total=   0.1s\n",
            "[CV] C=100, gamma=0.1, kernel=rbf ....................................\n",
            "[CV] ........ C=100, gamma=0.1, kernel=rbf, score=0.994, total=   0.1s\n",
            "[CV] C=100, gamma=0.1, kernel=rbf ....................................\n",
            "[CV] ........ C=100, gamma=0.1, kernel=rbf, score=1.000, total=   0.1s\n",
            "[CV] C=100, gamma=0.1, kernel=rbf ....................................\n",
            "[CV] ........ C=100, gamma=0.1, kernel=rbf, score=0.983, total=   0.1s\n",
            "[CV] C=100, gamma=0.1, kernel=rbf ....................................\n",
            "[CV] ........ C=100, gamma=0.1, kernel=rbf, score=1.000, total=   0.1s\n",
            "[CV] C=100, gamma=0.1, kernel=rbf ....................................\n",
            "[CV] ........ C=100, gamma=0.1, kernel=rbf, score=1.000, total=   0.1s\n",
            "[CV] C=100, gamma=0.01, kernel=rbf ...................................\n",
            "[CV] ....... C=100, gamma=0.01, kernel=rbf, score=0.983, total=   0.1s\n",
            "[CV] C=100, gamma=0.01, kernel=rbf ...................................\n",
            "[CV] ....... C=100, gamma=0.01, kernel=rbf, score=0.989, total=   0.1s\n",
            "[CV] C=100, gamma=0.01, kernel=rbf ...................................\n",
            "[CV] ....... C=100, gamma=0.01, kernel=rbf, score=0.968, total=   0.1s\n",
            "[CV] C=100, gamma=0.01, kernel=rbf ...................................\n",
            "[CV] ....... C=100, gamma=0.01, kernel=rbf, score=0.991, total=   0.1s\n",
            "[CV] C=100, gamma=0.01, kernel=rbf ...................................\n",
            "[CV] ....... C=100, gamma=0.01, kernel=rbf, score=0.986, total=   0.1s\n",
            "[CV] C=100, gamma=0.001, kernel=rbf ..................................\n",
            "[CV] ...... C=100, gamma=0.001, kernel=rbf, score=0.931, total=   0.1s\n",
            "[CV] C=100, gamma=0.001, kernel=rbf ..................................\n",
            "[CV] ...... C=100, gamma=0.001, kernel=rbf, score=0.937, total=   0.1s\n",
            "[CV] C=100, gamma=0.001, kernel=rbf ..................................\n",
            "[CV] ...... C=100, gamma=0.001, kernel=rbf, score=0.914, total=   0.1s\n",
            "[CV] C=100, gamma=0.001, kernel=rbf ..................................\n",
            "[CV] ...... C=100, gamma=0.001, kernel=rbf, score=0.931, total=   0.1s\n",
            "[CV] C=100, gamma=0.001, kernel=rbf ..................................\n",
            "[CV] ...... C=100, gamma=0.001, kernel=rbf, score=0.922, total=   0.1s\n",
            "[CV] C=100, gamma=0.0001, kernel=rbf .................................\n",
            "[CV] ..... C=100, gamma=0.0001, kernel=rbf, score=0.885, total=   0.2s\n",
            "[CV] C=100, gamma=0.0001, kernel=rbf .................................\n",
            "[CV] ..... C=100, gamma=0.0001, kernel=rbf, score=0.908, total=   0.2s\n",
            "[CV] C=100, gamma=0.0001, kernel=rbf .................................\n",
            "[CV] ..... C=100, gamma=0.0001, kernel=rbf, score=0.897, total=   0.2s\n",
            "[CV] C=100, gamma=0.0001, kernel=rbf .................................\n",
            "[CV] ..... C=100, gamma=0.0001, kernel=rbf, score=0.908, total=   0.2s\n",
            "[CV] C=100, gamma=0.0001, kernel=rbf .................................\n",
            "[CV] ..... C=100, gamma=0.0001, kernel=rbf, score=0.876, total=   0.2s\n",
            "[CV] C=1000, gamma=1, kernel=rbf .....................................\n",
            "[CV] ......... C=1000, gamma=1, kernel=rbf, score=0.994, total=   0.1s\n",
            "[CV] C=1000, gamma=1, kernel=rbf .....................................\n",
            "[CV] ......... C=1000, gamma=1, kernel=rbf, score=1.000, total=   0.1s\n",
            "[CV] C=1000, gamma=1, kernel=rbf .....................................\n",
            "[CV] ......... C=1000, gamma=1, kernel=rbf, score=0.983, total=   0.1s\n",
            "[CV] C=1000, gamma=1, kernel=rbf .....................................\n",
            "[CV] ......... C=1000, gamma=1, kernel=rbf, score=1.000, total=   0.1s\n",
            "[CV] C=1000, gamma=1, kernel=rbf .....................................\n",
            "[CV] ......... C=1000, gamma=1, kernel=rbf, score=1.000, total=   0.1s\n",
            "[CV] C=1000, gamma=0.1, kernel=rbf ...................................\n",
            "[CV] ....... C=1000, gamma=0.1, kernel=rbf, score=0.994, total=   0.1s\n",
            "[CV] C=1000, gamma=0.1, kernel=rbf ...................................\n",
            "[CV] ....... C=1000, gamma=0.1, kernel=rbf, score=1.000, total=   0.1s\n",
            "[CV] C=1000, gamma=0.1, kernel=rbf ...................................\n",
            "[CV] ....... C=1000, gamma=0.1, kernel=rbf, score=0.983, total=   0.1s\n",
            "[CV] C=1000, gamma=0.1, kernel=rbf ...................................\n",
            "[CV] ....... C=1000, gamma=0.1, kernel=rbf, score=1.000, total=   0.1s\n",
            "[CV] C=1000, gamma=0.1, kernel=rbf ...................................\n",
            "[CV] ....... C=1000, gamma=0.1, kernel=rbf, score=1.000, total=   0.1s\n",
            "[CV] C=1000, gamma=0.01, kernel=rbf ..................................\n",
            "[CV] ...... C=1000, gamma=0.01, kernel=rbf, score=0.983, total=   0.1s\n",
            "[CV] C=1000, gamma=0.01, kernel=rbf ..................................\n",
            "[CV] ...... C=1000, gamma=0.01, kernel=rbf, score=0.989, total=   0.1s\n",
            "[CV] C=1000, gamma=0.01, kernel=rbf ..................................\n",
            "[CV] ...... C=1000, gamma=0.01, kernel=rbf, score=0.968, total=   0.1s\n",
            "[CV] C=1000, gamma=0.01, kernel=rbf ..................................\n",
            "[CV] ...... C=1000, gamma=0.01, kernel=rbf, score=0.991, total=   0.1s\n",
            "[CV] C=1000, gamma=0.01, kernel=rbf ..................................\n",
            "[CV] ...... C=1000, gamma=0.01, kernel=rbf, score=0.986, total=   0.1s\n",
            "[CV] C=1000, gamma=0.001, kernel=rbf .................................\n",
            "[CV] ..... C=1000, gamma=0.001, kernel=rbf, score=0.931, total=   0.1s\n",
            "[CV] C=1000, gamma=0.001, kernel=rbf .................................\n",
            "[CV] ..... C=1000, gamma=0.001, kernel=rbf, score=0.937, total=   0.1s\n",
            "[CV] C=1000, gamma=0.001, kernel=rbf .................................\n",
            "[CV] ..... C=1000, gamma=0.001, kernel=rbf, score=0.914, total=   0.1s\n",
            "[CV] C=1000, gamma=0.001, kernel=rbf .................................\n",
            "[CV] ..... C=1000, gamma=0.001, kernel=rbf, score=0.931, total=   0.1s\n",
            "[CV] C=1000, gamma=0.001, kernel=rbf .................................\n",
            "[CV] ..... C=1000, gamma=0.001, kernel=rbf, score=0.922, total=   0.1s\n",
            "[CV] C=1000, gamma=0.0001, kernel=rbf ................................\n",
            "[CV] .... C=1000, gamma=0.0001, kernel=rbf, score=0.911, total=   0.3s\n",
            "[CV] C=1000, gamma=0.0001, kernel=rbf ................................\n",
            "[CV] .... C=1000, gamma=0.0001, kernel=rbf, score=0.922, total=   0.2s\n",
            "[CV] C=1000, gamma=0.0001, kernel=rbf ................................\n",
            "[CV] .... C=1000, gamma=0.0001, kernel=rbf, score=0.911, total=   0.3s\n",
            "[CV] C=1000, gamma=0.0001, kernel=rbf ................................\n",
            "[CV] .... C=1000, gamma=0.0001, kernel=rbf, score=0.916, total=   0.3s\n",
            "[CV] C=1000, gamma=0.0001, kernel=rbf ................................\n",
            "[CV] .... C=1000, gamma=0.0001, kernel=rbf, score=0.911, total=   0.3s\n",
            "Support vector machine accuracy: 0.825\n"
          ],
          "name": "stdout"
        },
        {
          "output_type": "stream",
          "text": [
            "[Parallel(n_jobs=1)]: Done 125 out of 125 | elapsed:   17.2s finished\n"
          ],
          "name": "stderr"
        }
      ]
    },
    {
      "cell_type": "code",
      "metadata": {
        "id": "GA6cgKkujgNF",
        "colab_type": "code",
        "colab": {
          "base_uri": "https://localhost:8080/",
          "height": 34
        },
        "outputId": "dba8b7bc-800e-4ca3-96e8-f752220eb2b0"
      },
      "source": [
        "grid.best_params_"
      ],
      "execution_count": 376,
      "outputs": [
        {
          "output_type": "execute_result",
          "data": {
            "text/plain": [
              "{'C': 1, 'gamma': 1, 'kernel': 'rbf'}"
            ]
          },
          "metadata": {
            "tags": []
          },
          "execution_count": 376
        }
      ]
    },
    {
      "cell_type": "code",
      "metadata": {
        "id": "641QTOS9jkb1",
        "colab_type": "code",
        "colab": {
          "base_uri": "https://localhost:8080/",
          "height": 34
        },
        "outputId": "bd124191-d569-45d9-eec7-a75b20406760"
      },
      "source": [
        "grid.best_score_"
      ],
      "execution_count": 377,
      "outputs": [
        {
          "output_type": "execute_result",
          "data": {
            "text/plain": [
              "0.9954022988505746"
            ]
          },
          "metadata": {
            "tags": []
          },
          "execution_count": 377
        }
      ]
    },
    {
      "cell_type": "code",
      "metadata": {
        "id": "Om7eJH0LHuY4",
        "colab_type": "code",
        "colab": {
          "base_uri": "https://localhost:8080/",
          "height": 289
        },
        "outputId": "a399a997-6644-4f56-c8c9-04f11744f3ad"
      },
      "source": [
        "#Using ‘linear’ will use a linear hyperplane (a line in the case of 2D data)\n",
        "\n",
        "param_grid = { \n",
        "              'kernel': ['linear']} \n",
        "grid = GridSearchCV(SVC(), param_grid, refit = True, verbose = 3) \n",
        " \n",
        "grid.fit(X_train,y_train)\n",
        "\n",
        "print('Support vector machine accuracy: {:.3f}'.format(accuracy_score(y_test, grid.predict(X_test))))\n"
      ],
      "execution_count": 378,
      "outputs": [
        {
          "output_type": "stream",
          "text": [
            "Fitting 5 folds for each of 1 candidates, totalling 5 fits\n",
            "[CV] kernel=linear ...................................................\n"
          ],
          "name": "stdout"
        },
        {
          "output_type": "stream",
          "text": [
            "[Parallel(n_jobs=1)]: Using backend SequentialBackend with 1 concurrent workers.\n"
          ],
          "name": "stderr"
        },
        {
          "output_type": "stream",
          "text": [
            "[CV] ....................... kernel=linear, score=0.764, total= 2.7min\n",
            "[CV] kernel=linear ...................................................\n"
          ],
          "name": "stdout"
        },
        {
          "output_type": "stream",
          "text": [
            "[Parallel(n_jobs=1)]: Done   1 out of   1 | elapsed:  2.7min remaining:    0.0s\n"
          ],
          "name": "stderr"
        },
        {
          "output_type": "stream",
          "text": [
            "[CV] ....................... kernel=linear, score=0.721, total= 2.9min\n",
            "[CV] kernel=linear ...................................................\n"
          ],
          "name": "stdout"
        },
        {
          "output_type": "stream",
          "text": [
            "[Parallel(n_jobs=1)]: Done   2 out of   2 | elapsed:  5.7min remaining:    0.0s\n"
          ],
          "name": "stderr"
        },
        {
          "output_type": "stream",
          "text": [
            "[CV] ....................... kernel=linear, score=0.750, total= 6.5min\n",
            "[CV] kernel=linear ...................................................\n",
            "[CV] ....................... kernel=linear, score=0.729, total= 5.0min\n",
            "[CV] kernel=linear ...................................................\n",
            "[CV] ....................... kernel=linear, score=0.723, total= 3.9min\n"
          ],
          "name": "stdout"
        },
        {
          "output_type": "stream",
          "text": [
            "[Parallel(n_jobs=1)]: Done   5 out of   5 | elapsed: 21.1min finished\n"
          ],
          "name": "stderr"
        },
        {
          "output_type": "stream",
          "text": [
            "Support vector machine accuracy: 0.624\n"
          ],
          "name": "stdout"
        }
      ]
    },
    {
      "cell_type": "code",
      "metadata": {
        "id": "Kd2jhkLVjywD",
        "colab_type": "code",
        "colab": {
          "base_uri": "https://localhost:8080/",
          "height": 34
        },
        "outputId": "42b6b787-1398-434a-a71f-726e45bc4108"
      },
      "source": [
        "grid.best_params_"
      ],
      "execution_count": 379,
      "outputs": [
        {
          "output_type": "execute_result",
          "data": {
            "text/plain": [
              "{'kernel': 'linear'}"
            ]
          },
          "metadata": {
            "tags": []
          },
          "execution_count": 379
        }
      ]
    },
    {
      "cell_type": "code",
      "metadata": {
        "id": "LVQHuJyXj13y",
        "colab_type": "code",
        "colab": {
          "base_uri": "https://localhost:8080/",
          "height": 34
        },
        "outputId": "12dc084d-dd94-4e51-add3-5772f3fdf8f7"
      },
      "source": [
        "grid.best_score_"
      ],
      "execution_count": 380,
      "outputs": [
        {
          "output_type": "execute_result",
          "data": {
            "text/plain": [
              "0.7376163503262778"
            ]
          },
          "metadata": {
            "tags": []
          },
          "execution_count": 380
        }
      ]
    },
    {
      "cell_type": "code",
      "metadata": {
        "id": "NIb04RwLGh4_",
        "colab_type": "code",
        "colab": {
          "base_uri": "https://localhost:8080/",
          "height": 1000
        },
        "outputId": "4c3f2735-b326-4414-964a-9a61ae6a3294"
      },
      "source": [
        "\n",
        "param_grid = { 'degree':[0, 1, 2, 3, 4, 5, 6],\n",
        "              'kernel': ['poly']} \n",
        "\n",
        "\n",
        "#poly\n",
        "#polynomial kernel is a kernel function commonly used with support\n",
        "#vector machines (SVMs) and other kernelized models, \n",
        "#that represents the similarity of vectors (training samples) in \n",
        "#a feature space over polynomials of the original variables, allowing learning of non-linear models\n",
        "#https://en.wikipedia.org/wiki/Polynomial_kernel#:~:text=In%20machine%20learning%2C%20the%20polynomial,learning%20of%20non%2Dlinear%20models.\n",
        "\n",
        "\n",
        "#degree\n",
        "#degree is a parameter used when kernel is set to ‘poly’. It’s basically the degree of \n",
        "#the polynomial used to find the hyperplane to split the data.\n",
        "grid = GridSearchCV(SVC(), param_grid, refit = True, verbose = 3) \n",
        " \n",
        "grid.fit(X_train,y_train)\n",
        "\n",
        "print('Support vector machine accuracy: {:.3f}'.format(accuracy_score(y_test, grid.predict(X_test))))\n"
      ],
      "execution_count": 381,
      "outputs": [
        {
          "output_type": "stream",
          "text": [
            "Fitting 5 folds for each of 7 candidates, totalling 35 fits\n",
            "[CV] degree=0, kernel=poly ...........................................\n",
            "[CV] ............... degree=0, kernel=poly, score=0.500, total=   0.1s\n",
            "[CV] degree=0, kernel=poly ...........................................\n"
          ],
          "name": "stdout"
        },
        {
          "output_type": "stream",
          "text": [
            "[Parallel(n_jobs=1)]: Using backend SequentialBackend with 1 concurrent workers.\n",
            "[Parallel(n_jobs=1)]: Done   1 out of   1 | elapsed:    0.1s remaining:    0.0s\n"
          ],
          "name": "stderr"
        },
        {
          "output_type": "stream",
          "text": [
            "[CV] ............... degree=0, kernel=poly, score=0.500, total=   0.1s\n",
            "[CV] degree=0, kernel=poly ...........................................\n",
            "[CV] ............... degree=0, kernel=poly, score=0.500, total=   0.1s\n",
            "[CV] degree=0, kernel=poly ...........................................\n"
          ],
          "name": "stdout"
        },
        {
          "output_type": "stream",
          "text": [
            "[Parallel(n_jobs=1)]: Done   2 out of   2 | elapsed:    0.2s remaining:    0.0s\n"
          ],
          "name": "stderr"
        },
        {
          "output_type": "stream",
          "text": [
            "[CV] ............... degree=0, kernel=poly, score=0.499, total=   0.1s\n",
            "[CV] degree=0, kernel=poly ...........................................\n",
            "[CV] ............... degree=0, kernel=poly, score=0.499, total=   0.1s\n",
            "[CV] degree=1, kernel=poly ...........................................\n",
            "[CV] ............... degree=1, kernel=poly, score=0.537, total=   0.1s\n",
            "[CV] degree=1, kernel=poly ...........................................\n",
            "[CV] ............... degree=1, kernel=poly, score=0.575, total=   0.1s\n",
            "[CV] degree=1, kernel=poly ...........................................\n",
            "[CV] ............... degree=1, kernel=poly, score=0.546, total=   0.1s\n",
            "[CV] degree=1, kernel=poly ...........................................\n",
            "[CV] ............... degree=1, kernel=poly, score=0.548, total=   0.1s\n",
            "[CV] degree=1, kernel=poly ...........................................\n",
            "[CV] ............... degree=1, kernel=poly, score=0.484, total=   0.1s\n",
            "[CV] degree=2, kernel=poly ...........................................\n",
            "[CV] ............... degree=2, kernel=poly, score=0.555, total=   0.1s\n",
            "[CV] degree=2, kernel=poly ...........................................\n",
            "[CV] ............... degree=2, kernel=poly, score=0.578, total=   0.1s\n",
            "[CV] degree=2, kernel=poly ...........................................\n",
            "[CV] ............... degree=2, kernel=poly, score=0.532, total=   0.1s\n",
            "[CV] degree=2, kernel=poly ...........................................\n",
            "[CV] ............... degree=2, kernel=poly, score=0.527, total=   0.1s\n",
            "[CV] degree=2, kernel=poly ...........................................\n",
            "[CV] ............... degree=2, kernel=poly, score=0.510, total=   0.1s\n",
            "[CV] degree=3, kernel=poly ...........................................\n",
            "[CV] ............... degree=3, kernel=poly, score=0.560, total=   0.2s\n",
            "[CV] degree=3, kernel=poly ...........................................\n",
            "[CV] ............... degree=3, kernel=poly, score=0.566, total=   0.1s\n",
            "[CV] degree=3, kernel=poly ...........................................\n",
            "[CV] ............... degree=3, kernel=poly, score=0.517, total=   0.2s\n",
            "[CV] degree=3, kernel=poly ...........................................\n",
            "[CV] ............... degree=3, kernel=poly, score=0.510, total=   0.1s\n",
            "[CV] degree=3, kernel=poly ...........................................\n",
            "[CV] ............... degree=3, kernel=poly, score=0.507, total=   0.1s\n",
            "[CV] degree=4, kernel=poly ...........................................\n",
            "[CV] ............... degree=4, kernel=poly, score=0.549, total=   0.2s\n",
            "[CV] degree=4, kernel=poly ...........................................\n",
            "[CV] ............... degree=4, kernel=poly, score=0.560, total=   0.2s\n",
            "[CV] degree=4, kernel=poly ...........................................\n",
            "[CV] ............... degree=4, kernel=poly, score=0.514, total=   0.2s\n",
            "[CV] degree=4, kernel=poly ...........................................\n",
            "[CV] ............... degree=4, kernel=poly, score=0.507, total=   0.2s\n",
            "[CV] degree=4, kernel=poly ...........................................\n",
            "[CV] ............... degree=4, kernel=poly, score=0.504, total=   0.2s\n",
            "[CV] degree=5, kernel=poly ...........................................\n",
            "[CV] ............... degree=5, kernel=poly, score=0.540, total=   0.3s\n",
            "[CV] degree=5, kernel=poly ...........................................\n",
            "[CV] ............... degree=5, kernel=poly, score=0.549, total=   0.3s\n",
            "[CV] degree=5, kernel=poly ...........................................\n",
            "[CV] ............... degree=5, kernel=poly, score=0.511, total=   0.3s\n",
            "[CV] degree=5, kernel=poly ...........................................\n",
            "[CV] ............... degree=5, kernel=poly, score=0.507, total=   0.5s\n",
            "[CV] degree=5, kernel=poly ...........................................\n",
            "[CV] ............... degree=5, kernel=poly, score=0.499, total=   0.4s\n",
            "[CV] degree=6, kernel=poly ...........................................\n",
            "[CV] ............... degree=6, kernel=poly, score=0.532, total=   0.8s\n",
            "[CV] degree=6, kernel=poly ...........................................\n",
            "[CV] ............... degree=6, kernel=poly, score=0.566, total=   1.0s\n",
            "[CV] degree=6, kernel=poly ...........................................\n",
            "[CV] ............... degree=6, kernel=poly, score=0.526, total=   1.1s\n",
            "[CV] degree=6, kernel=poly ...........................................\n",
            "[CV] ............... degree=6, kernel=poly, score=0.522, total=   1.1s\n",
            "[CV] degree=6, kernel=poly ...........................................\n",
            "[CV] ............... degree=6, kernel=poly, score=0.519, total=   1.0s\n"
          ],
          "name": "stdout"
        },
        {
          "output_type": "stream",
          "text": [
            "[Parallel(n_jobs=1)]: Done  35 out of  35 | elapsed:   10.4s finished\n"
          ],
          "name": "stderr"
        },
        {
          "output_type": "stream",
          "text": [
            "Support vector machine accuracy: 0.306\n"
          ],
          "name": "stdout"
        }
      ]
    },
    {
      "cell_type": "code",
      "metadata": {
        "id": "duiilvoHj6mi",
        "colab_type": "code",
        "colab": {
          "base_uri": "https://localhost:8080/",
          "height": 34
        },
        "outputId": "c45a36ea-e2d1-4b65-ac62-22bbcdcfd05e"
      },
      "source": [
        "grid.best_params_"
      ],
      "execution_count": 382,
      "outputs": [
        {
          "output_type": "execute_result",
          "data": {
            "text/plain": [
              "{'degree': 2, 'kernel': 'poly'}"
            ]
          },
          "metadata": {
            "tags": []
          },
          "execution_count": 382
        }
      ]
    },
    {
      "cell_type": "code",
      "metadata": {
        "id": "_nxfqs47j88V",
        "colab_type": "code",
        "colab": {
          "base_uri": "https://localhost:8080/",
          "height": 34
        },
        "outputId": "111b9990-fe5f-4ace-9dd6-d2e5210aa0c9"
      },
      "source": [
        "grid.best_score_"
      ],
      "execution_count": 383,
      "outputs": [
        {
          "output_type": "execute_result",
          "data": {
            "text/plain": [
              "0.5402514160787042"
            ]
          },
          "metadata": {
            "tags": []
          },
          "execution_count": 383
        }
      ]
    },
    {
      "cell_type": "markdown",
      "metadata": {
        "id": "4lfncEVJVkvT",
        "colab_type": "text"
      },
      "source": [
        "#SVM > Complexity Curve"
      ]
    },
    {
      "cell_type": "markdown",
      "metadata": {
        "id": "CQG0SZdQFPQy",
        "colab_type": "text"
      },
      "source": [
        "Complexity is expressed in terms of graphical plot, which we call complexity curve. ... Moreover, we show that the complexity curve is an effective tool for reducing the size of the training set (data pruning), allowing to significantly speed up the learning process without compromising classification accuracy."
      ]
    },
    {
      "cell_type": "code",
      "metadata": {
        "id": "KvnZ6-E5sGJL",
        "colab_type": "code",
        "colab": {
          "base_uri": "https://localhost:8080/",
          "height": 300
        },
        "outputId": "eba102be-034f-43de-84dd-2e029c0cc7bc"
      },
      "source": [
        "import matplotlib.pyplot as plt\n",
        "import numpy as np\n",
        "\n",
        "from sklearn.datasets import load_digits\n",
        "from sklearn.svm import SVC\n",
        "from sklearn.model_selection import validation_curve\n",
        "\n",
        "X, y = load_digits(return_X_y=True)\n",
        "\n",
        "param_range = np.logspace(-6, -1, 5)\n",
        "train_scores, test_scores = validation_curve(\n",
        "    SVC(), X_train, y_train, param_name=\"gamma\", param_range=param_range,\n",
        "    scoring=\"accuracy\", n_jobs=1)\n",
        "train_scores_mean = np.mean(train_scores, axis=1)\n",
        "train_scores_std = np.std(train_scores, axis=1)\n",
        "test_scores_mean = np.mean(test_scores, axis=1)\n",
        "test_scores_std = np.std(test_scores, axis=1)\n",
        "\n",
        "plt.title(\"Validation Curve with SVM\")\n",
        "plt.xlabel(r\"$\\gamma$\")\n",
        "plt.ylabel(\"Score\")\n",
        "plt.ylim(0.0, 1.1)\n",
        "lw = 2\n",
        "plt.semilogx(param_range, train_scores_mean, label=\"Training score\",\n",
        "             color=\"darkorange\", lw=lw)\n",
        "plt.fill_between(param_range, train_scores_mean - train_scores_std,\n",
        "                 train_scores_mean + train_scores_std, alpha=0.2,\n",
        "                 color=\"darkorange\", lw=lw)\n",
        "plt.semilogx(param_range, test_scores_mean, label=\"Cross-validation score\",\n",
        "             color=\"navy\", lw=lw)\n",
        "plt.fill_between(param_range, test_scores_mean - test_scores_std,\n",
        "                 test_scores_mean + test_scores_std, alpha=0.2,\n",
        "                 color=\"navy\", lw=lw)\n",
        "plt.legend(loc=\"best\")\n",
        "plt.show()"
      ],
      "execution_count": 384,
      "outputs": [
        {
          "output_type": "display_data",
          "data": {
            "image/png": "[encoded data removed]",
            "text/plain": [
              "<Figure size 432x288 with 1 Axes>"
            ]
          },
          "metadata": {
            "tags": [],
            "needs_background": "light"
          }
        }
      ]
    },
    {
      "cell_type": "markdown",
      "metadata": {
        "id": "jJWxUW8AVnPK",
        "colab_type": "text"
      },
      "source": [
        "# SVM > Learning Curve"
      ]
    },
    {
      "cell_type": "markdown",
      "metadata": {
        "id": "gmXlUFi9Fjde",
        "colab_type": "text"
      },
      "source": [
        "Learning curves show the relationship between training set size and your chosen evaluation metric (e.g. RMSE, accuracy, etc.) on your training and validation sets. They can be an extremely useful tool when diagnosing your model performance, as they can tell you whether your model is suffering from bias or variance"
      ]
    },
    {
      "cell_type": "code",
      "metadata": {
        "id": "zkVPT869Nva3",
        "colab_type": "code",
        "colab": {}
      },
      "source": [
        "from sklearn.model_selection import learning_curve, GridSearchCV\n",
        "from sklearn.metrics import explained_variance_score, make_scorer"
      ],
      "execution_count": 385,
      "outputs": []
    },
    {
      "cell_type": "code",
      "metadata": {
        "id": "O9SAH4rxNxti",
        "colab_type": "code",
        "colab": {}
      },
      "source": [
        "train_sizes, train_scores, valid_scores = learning_curve( SVC(), X_train, y_train, n_jobs=-1,cv=10, train_sizes=[1, 150, 300, 450, 600,750, 926],verbose=0)\n",
        "\n",
        "\n"
      ],
      "execution_count": 386,
      "outputs": []
    },
    {
      "cell_type": "code",
      "metadata": {
        "id": "IHnUre1nN2an",
        "colab_type": "code",
        "colab": {
          "base_uri": "https://localhost:8080/",
          "height": 0
        },
        "outputId": "dc125dbc-cbf4-41ca-c898-7cb7e322b88f"
      },
      "source": [
        "print(learning_curve)"
      ],
      "execution_count": 387,
      "outputs": [
        {
          "output_type": "stream",
          "text": [
            "<function learning_curve at 0x7f8a64444f28>\n"
          ],
          "name": "stdout"
        }
      ]
    },
    {
      "cell_type": "code",
      "metadata": {
        "id": "DlC0E1-bAIz0",
        "colab_type": "code",
        "colab": {
          "base_uri": "https://localhost:8080/",
          "height": 0
        },
        "outputId": "d9cf5fe0-3eca-4d56-c38c-36ed7a4ea9a1"
      },
      "source": [
        "train_scores_mean = train_scores.mean(axis = 1) * 100\n",
        "validation_scores_mean = valid_scores.mean(axis = 1) * 100\n",
        "print('Mean training scores\\n\\n', pd.Series(train_scores_mean, index = train_sizes))\n",
        "print('\\n', '-' * 20) # separator\n",
        "print('\\nMean validation scores\\n\\n',pd.Series(validation_scores_mean, index = train_sizes))"
      ],
      "execution_count": 388,
      "outputs": [
        {
          "output_type": "stream",
          "text": [
            "Mean training scores\n",
            "\n",
            " 1            NaN\n",
            "150          NaN\n",
            "300          NaN\n",
            "450          NaN\n",
            "600          NaN\n",
            "750          NaN\n",
            "926    84.460043\n",
            "dtype: float64\n",
            "\n",
            " --------------------\n",
            "\n",
            "Mean validation scores\n",
            "\n",
            " 1       NaN\n",
            "150     NaN\n",
            "300     NaN\n",
            "450     NaN\n",
            "600     NaN\n",
            "750     NaN\n",
            "926    50.0\n",
            "dtype: float64\n"
          ],
          "name": "stdout"
        }
      ]
    },
    {
      "cell_type": "code",
      "metadata": {
        "id": "ChAkg0IWAJ5F",
        "colab_type": "code",
        "colab": {
          "base_uri": "https://localhost:8080/",
          "height": 0
        },
        "outputId": "3ed00f90-c19f-4805-a899-50a97b258a91"
      },
      "source": [
        "import matplotlib.pyplot as plt\n",
        "\n",
        "plt.style.use('seaborn')\n",
        "plt.plot(train_sizes, train_scores_mean, label = 'Training error')\n",
        "plt.plot(train_sizes, validation_scores_mean, label = 'Validation error')\n",
        "plt.ylabel('MSE', fontsize = 14)\n",
        "plt.xlabel('Training set size', fontsize = 14)\n",
        "plt.title('Learning curves for a SVM model', fontsize = 18, y = 1.03)\n",
        "plt.legend()\n",
        "plt.ylim(0,100)"
      ],
      "execution_count": 389,
      "outputs": [
        {
          "output_type": "execute_result",
          "data": {
            "text/plain": [
              "(0.0, 100.0)"
            ]
          },
          "metadata": {
            "tags": []
          },
          "execution_count": 389
        },
        {
          "output_type": "display_data",
          "data": {
            "image/png": "[encoded data removed]",
            "text/plain": [
              "<Figure size 576x396 with 1 Axes>"
            ]
          },
          "metadata": {
            "tags": []
          }
        }
      ]
    },
    {
      "cell_type": "markdown",
      "metadata": {
        "id": "dqgdfolSUzTa",
        "colab_type": "text"
      },
      "source": [
        "# Logistic Regression\n",
        "#### Jirom"
      ]
    },
    {
      "cell_type": "markdown",
      "metadata": {
        "id": "5tuRjsQhoonR",
        "colab_type": "text"
      },
      "source": [
        "**Logistic** Regression "
      ]
    },
    {
      "cell_type": "markdown",
      "metadata": {
        "id": "LFKmti7Awtyh",
        "colab_type": "text"
      },
      "source": [
        " Logistic Regression is basically a predictive model\n",
        " analysis technique where the output (target) variables are discrete values \n",
        " for a given set of features or input (X)."
      ]
    },
    {
      "cell_type": "code",
      "metadata": {
        "id": "VgbeVCfNiZAy",
        "colab_type": "code",
        "colab": {
          "base_uri": "https://localhost:8080/",
          "height": 238
        },
        "outputId": "b769170d-1ed2-473b-dfd2-d78adaaa383b"
      },
      "source": [
        "from sklearn.linear_model import LogisticRegression\n",
        "\n",
        "#create the model\n",
        "logreg = LogisticRegression()\n",
        "#train the model\n",
        "logreg.fit(X_train, y_train)"
      ],
      "execution_count": 390,
      "outputs": [
        {
          "output_type": "stream",
          "text": [
            "/usr/local/lib/python3.6/dist-packages/sklearn/linear_model/_logistic.py:940: ConvergenceWarning: lbfgs failed to converge (status=1):\n",
            "STOP: TOTAL NO. of ITERATIONS REACHED LIMIT.\n",
            "\n",
            "Increase the number of iterations (max_iter) or scale the data as shown in:\n",
            "    https://scikit-learn.org/stable/modules/preprocessing.html\n",
            "Please also refer to the documentation for alternative solver options:\n",
            "    https://scikit-learn.org/stable/modules/linear_model.html#logistic-regression\n",
            "  extra_warning_msg=_LOGISTIC_SOLVER_CONVERGENCE_MSG)\n"
          ],
          "name": "stderr"
        },
        {
          "output_type": "execute_result",
          "data": {
            "text/plain": [
              "LogisticRegression(C=1.0, class_weight=None, dual=False, fit_intercept=True,\n",
              "                   intercept_scaling=1, l1_ratio=None, max_iter=100,\n",
              "                   multi_class='auto', n_jobs=None, penalty='l2',\n",
              "                   random_state=None, solver='lbfgs', tol=0.0001, verbose=0,\n",
              "                   warm_start=False)"
            ]
          },
          "metadata": {
            "tags": []
          },
          "execution_count": 390
        }
      ]
    },
    {
      "cell_type": "code",
      "metadata": {
        "id": "3biG6UvRZfSR",
        "colab_type": "code",
        "colab": {
          "base_uri": "https://localhost:8080/",
          "height": 34
        },
        "outputId": "6038ae98-40d8-46cd-beb9-3bfa9b316edc"
      },
      "source": [
        "#Predicting the Test Set Result and \n",
        "# Check accuracy of the model(Accuracy is the fraction of predictions our model got right.\n",
        "    \n",
        "y_pred = logreg.predict(X_test)\n",
        "from sklearn.metrics import accuracy_score\n",
        "accuracy_score(y_test, y_pred)"
      ],
      "execution_count": 391,
      "outputs": [
        {
          "output_type": "execute_result",
          "data": {
            "text/plain": [
              "0.6984126984126984"
            ]
          },
          "metadata": {
            "tags": []
          },
          "execution_count": 391
        }
      ]
    },
    {
      "cell_type": "code",
      "metadata": {
        "id": "HNnpFkAUBz8-",
        "colab_type": "code",
        "colab": {
          "base_uri": "https://localhost:8080/",
          "height": 34
        },
        "outputId": "4ec12983-8687-44e4-9fd1-0183b111be9c"
      },
      "source": [
        "# when a positive value is predicted, how often is the prediction correct?\n",
        "\n",
        "from sklearn.metrics import precision_score\n",
        "precision_score(y_test, y_pred)"
      ],
      "execution_count": 392,
      "outputs": [
        {
          "output_type": "execute_result",
          "data": {
            "text/plain": [
              "0.32051282051282054"
            ]
          },
          "metadata": {
            "tags": []
          },
          "execution_count": 392
        }
      ]
    },
    {
      "cell_type": "code",
      "metadata": {
        "id": "43XBkzRiYeS5",
        "colab_type": "code",
        "colab": {
          "base_uri": "https://localhost:8080/",
          "height": 34
        },
        "outputId": "a702d93d-6cd8-4d6c-c29a-be8489f0a2e1"
      },
      "source": [
        "# check recall_score( #Out of all the positive classes, recall is how much we predicted correctly.)\n",
        "\n",
        "from sklearn.metrics import recall_score\n",
        "recall_score(y_test,y_pred)"
      ],
      "execution_count": 393,
      "outputs": [
        {
          "output_type": "execute_result",
          "data": {
            "text/plain": [
              "0.6493506493506493"
            ]
          },
          "metadata": {
            "tags": []
          },
          "execution_count": 393
        }
      ]
    },
    {
      "cell_type": "code",
      "metadata": {
        "id": "f7TbctzQCa4g",
        "colab_type": "code",
        "colab": {
          "base_uri": "https://localhost:8080/",
          "height": 34
        },
        "outputId": "68abf132-c1cc-402e-d58f-774b9f03106e"
      },
      "source": [
        "#check f1_score(It is often convenient to combine precision and recall into a single metric called the F-1 score. \n",
        "\n",
        "from sklearn.metrics import f1_score\n",
        "f1_score(y_test, y_pred)"
      ],
      "execution_count": 394,
      "outputs": [
        {
          "output_type": "execute_result",
          "data": {
            "text/plain": [
              "0.4291845493562232"
            ]
          },
          "metadata": {
            "tags": []
          },
          "execution_count": 394
        }
      ]
    },
    {
      "cell_type": "code",
      "metadata": {
        "id": "BrJ2x1e3bKHZ",
        "colab_type": "code",
        "colab": {
          "base_uri": "https://localhost:8080/",
          "height": 51
        },
        "outputId": "6adf9df9-f700-474a-c1bc-727255ada371"
      },
      "source": [
        " #check the confusion matrix(It is a table with four different combinations of predicted and actual values in the case for a binary classifier\n",
        " from sklearn.metrics import confusion_matrix\n",
        " confusion_matrix(y_test,y_pred)"
      ],
      "execution_count": 395,
      "outputs": [
        {
          "output_type": "execute_result",
          "data": {
            "text/plain": [
              "array([[258, 106],\n",
              "       [ 27,  50]])"
            ]
          },
          "metadata": {
            "tags": []
          },
          "execution_count": 395
        }
      ]
    },
    {
      "cell_type": "markdown",
      "metadata": {
        "id": "GSaA3lgHC9Fr",
        "colab_type": "text"
      },
      "source": [
        "# Hyperparameter tuning"
      ]
    },
    {
      "cell_type": "markdown",
      "metadata": {
        "id": "CCWFxdWiy8oH",
        "colab_type": "text"
      },
      "source": [
        "These are adjustable parameters that must be tuned in order to obtain a model with optimal \n",
        " performance or these hyperparameters be fine-tuned in order to obtain the model with the highest quality..\n"
      ]
    },
    {
      "cell_type": "code",
      "metadata": {
        "id": "qpFiE-DSn6pE",
        "colab_type": "code",
        "colab": {
          "base_uri": "https://localhost:8080/",
          "height": 51
        },
        "outputId": "70d1e755-bb0f-4ae3-f20f-febd3b0b0d0f"
      },
      "source": [
        "# Repeated K-Fold cross validator\n",
        "from sklearn.model_selection import RepeatedStratifiedKFold\n",
        "# Exhaustive search over specified parameter values for an estimator.\n",
        "from sklearn.model_selection import GridSearchCV\n",
        "from sklearn.linear_model import LogisticRegression\n",
        "\n",
        "model=LogisticRegression()\n",
        "\n",
        "#list of solvers,Algorithm to use in the optimization problem \n",
        "solvers=['newton-cg','lbfgs','liblinear']\n",
        "\n",
        "penalty=['l2']\n",
        "# defining parameter range \n",
        "c_values = [100,10,1.0,0.1,0.01]\n",
        "grid = dict(solver=solvers,penalty=penalty,C=c_values)\n",
        "# CV-used is Stratified K-Folds If an integer is provided, then it is the number of folds used. \n",
        "cv = RepeatedStratifiedKFold(n_splits=10,n_repeats=3,random_state=1)\n",
        "grid_search = GridSearchCV(model, param_grid=grid,n_jobs=-1,cv=cv,scoring='accuracy',error_score=0)\n",
        "grid_search.fit(X_train, y_train)\n",
        "\n",
        "logit_best_estimator = grid_search.best_estimator_\n",
        "\n",
        "# # summarize results\n",
        "print(\"Best: %f using %s\"%(grid_search.best_score_,grid_search.best_params_))\n",
        "print('Accuracy Score: {:.3f}'.format(accuracy_score(y_test, grid_search.predict(X_test))))\n"
      ],
      "execution_count": 396,
      "outputs": [
        {
          "output_type": "stream",
          "text": [
            "Best: 0.753733 using {'C': 0.1, 'penalty': 'l2', 'solver': 'newton-cg'}\n",
            "Accuracy Score: 0.762\n"
          ],
          "name": "stdout"
        }
      ]
    },
    {
      "cell_type": "markdown",
      "metadata": {
        "id": "EoIludhmpvAT",
        "colab_type": "text"
      },
      "source": [
        "# Logistic Regression > AUC"
      ]
    },
    {
      "cell_type": "markdown",
      "metadata": {
        "id": "V7w-IBXDMq25",
        "colab_type": "text"
      },
      "source": [
        "A plot of the true positive rateagainst the false positive rate at all classificationthresholds. This is used to evaluate the performance of\n",
        "a classification model at different classificatio thresholds. The area under the ROC curve can beinterpreted as the probability that the model correctly\n",
        "distinguishes between a randomly chosen positive observation (e.g. “spam”) anda randomly chosennegative observation (e.g. “not spam”)."
      ]
    },
    {
      "cell_type": "code",
      "metadata": {
        "id": "6l9EzC6JjW7A",
        "colab_type": "code",
        "colab": {
          "base_uri": "https://localhost:8080/",
          "height": 376
        },
        "outputId": "d3d6ef25-b846-4cdb-e85d-088d3cf3c225"
      },
      "source": [
        "#Build ROC curve\n",
        "\n",
        "from sklearn.linear_model import LogisticRegression\n",
        "from sklearn.metrics import roc_auc_score\n",
        "from sklearn.metrics import roc_curve\n",
        "\n",
        "logit_roc_auc = roc_auc_score(y_test, grid_search.predict(X_test))\n",
        "fpr, tpr, thresholds = roc_curve(y_test, grid_search.predict_proba(X_test)[:,1])\n",
        "plt.figure()\n",
        "plt.plot(fpr, tpr, label='AUC = %0.2f)' % logit_roc_auc)\n",
        "plt.plot([0, 1], [0, 1],'r--')\n",
        "plt.xlim([0.0, 1.0])\n",
        "plt.ylim([0.0, 1.05])\n",
        "plt.xlabel('False Positive Rate')\n",
        "plt.ylabel('True Positive Rate')\n",
        "plt.title('Receiver operating characteristic')\n",
        "plt.legend(loc=\"lower right\")\n",
        "plt.savefig('Log_ROC')\n",
        "plt.show()"
      ],
      "execution_count": 397,
      "outputs": [
        {
          "output_type": "display_data",
          "data": {
            "image/png": "[encoded data removed]",
            "text/plain": [
              "<Figure size 576x396 with 1 Axes>"
            ]
          },
          "metadata": {
            "tags": []
          }
        }
      ]
    },
    {
      "cell_type": "markdown",
      "metadata": {
        "id": "j_8fZyv2_lYh",
        "colab_type": "text"
      },
      "source": [
        "Suppose real output is 1. Classifier said 1. -> True Positive\n",
        "\n",
        "Suppose real output is 1. Classifier said 0. -> False Positive\n"
      ]
    },
    {
      "cell_type": "markdown",
      "metadata": {
        "id": "I8VQoA57pAdi",
        "colab_type": "text"
      },
      "source": [
        "# Logistic Regression > Learning Curve"
      ]
    },
    {
      "cell_type": "markdown",
      "metadata": {
        "id": "CuJlEE0BJ8mW",
        "colab_type": "text"
      },
      "source": [
        "The learning curve It is a tool to find out how much a machine learning model benefits from adding more training data and whether the estimator suffers more from a variance error or a bias error. So we can use it to diagnose the bias-variance tradeoff. plots the score over varying numbers of training samples"
      ]
    },
    {
      "cell_type": "code",
      "metadata": {
        "id": "9S9yQXlzZtSK",
        "colab_type": "code",
        "colab": {
          "base_uri": "https://localhost:8080/",
          "height": 405
        },
        "outputId": "4a16a74e-8ae9-4d3f-ae2a-6c4c0de71751"
      },
      "source": [
        "#Do the required imports from sklearn.\n",
        "from sklearn.linear_model import LinearRegression\n",
        "from sklearn.model_selection import learning_curve\n",
        "from sklearn.metrics import explained_variance_score, make_scorer\n",
        "from sklearn.model_selection import KFold\n",
        "\n",
        "    \n",
        "# Create CV training and test scores for various training set sizes\n",
        "train_sizes, train_scores, test_scores = learning_curve(logit_best_estimator, \n",
        "                                                         X_train, \n",
        "                                                        y_train,\n",
        "                                                        # Number of folds in cross-validation\n",
        "                                                        cv=10,\n",
        "                                                        # Evaluation metric\n",
        "                                                        scoring='accuracy',\n",
        "                                                        # Use all computer cores\n",
        "                                                        n_jobs=-1, \n",
        "                                                        # 50 different sizes of the training set\n",
        "                                                        train_sizes=np.linspace(0.01, 1.0, 50))    \n",
        "# Create means and standard deviations of training set scores\n",
        "train_mean = np.mean(train_scores, axis=1)\n",
        "train_std = np.std(train_scores, axis=1)\n",
        "\n",
        "# Create means and standard deviations of test set scores\n",
        "test_mean = np.mean(test_scores, axis=1)\n",
        "test_std = np.std(test_scores, axis=1)\n",
        "plt.figure()                                                        \n",
        "                                                        \n",
        "# Draw bands\n",
        "plt.fill_between(train_sizes, train_mean - train_std, train_mean + train_std, color=\"#DDDDDD\")\n",
        "plt.fill_between(train_sizes, test_mean - test_std, test_mean + test_std, color=\"#DDDDDD\")\n",
        "\n",
        "# Draw lines\n",
        "plt.plot(train_sizes, train_mean, '--', color=\"#111111\",  label=\"Training score\")\n",
        "plt.plot(train_sizes, test_mean, color=\"#111111\", label=\"Cross-validation score\")\n",
        "\n",
        "# Create plot\n",
        "plt.title(\"Logistic Regression Learning Curve\")\n",
        "plt.xlabel(\"Training Set Size\"), plt.ylabel(\"Accuracy Score\"), plt.legend(loc=\"best\")\n",
        "plt.tight_layout()\n",
        "plt.show()"
      ],
      "execution_count": 398,
      "outputs": [
        {
          "output_type": "display_data",
          "data": {
            "image/png": "[encoded data removed]",
            "text/plain": [
              "<Figure size 576x396 with 1 Axes>"
            ]
          },
          "metadata": {
            "tags": []
          }
        }
      ]
    },
    {
      "cell_type": "markdown",
      "metadata": {
        "id": "NFaZ_0uDVvkv",
        "colab_type": "text"
      },
      "source": [
        "# Logistic Regression > Complexity Curve"
      ]
    },
    {
      "cell_type": "markdown",
      "metadata": {
        "id": "F731nbe7KMqH",
        "colab_type": "text"
      },
      "source": [
        "validation curve is a tool for finding good hyper parameter settings,plots the score over a varying hyper parameter"
      ]
    },
    {
      "cell_type": "code",
      "metadata": {
        "id": "5WMKzvwyXxsi",
        "colab_type": "code",
        "colab": {
          "base_uri": "https://localhost:8080/",
          "height": 380
        },
        "outputId": "da5a82a4-9845-442d-ff72-6b1e9bb1172d"
      },
      "source": [
        "import matplotlib.pyplot as plt\n",
        "import numpy as np\n",
        "\n",
        "\n",
        "\n",
        "# solvers=['newton-cg','lbfgs','liblinear']\n",
        "# penalty=['l2']\n",
        "# c_values=[100,10,1.0,0.1,0.01]\n",
        "\n",
        "from sklearn.datasets import load_digits\n",
        "from sklearn.model_selection import validation_curve\n",
        "\n",
        "param_range = np.logspace(0, 3, 3)\n",
        "train_scores, test_scores = validation_curve(\n",
        "    logit_best_estimator, X_train, y_train, param_name='intercept_scaling', param_range=param_range,\n",
        "    scoring=\"accuracy\", n_jobs=1)\n",
        "\n",
        "# Create means and standard deviations of training set scores\n",
        "train_scores_mean = np.mean(train_scores, axis=1)\n",
        "train_scores_std = np.std(train_scores, axis=1)\n",
        "\n",
        "# Create means and standard deviations of test set scores\n",
        "test_scores_mean = np.mean(test_scores, axis=1)\n",
        "test_scores_std = np.std(test_scores, axis=1)\n",
        "\n",
        "\n",
        "# # Create plot\n",
        "\n",
        "plt.title(\"Validation Curve with Logistic Regression\")\n",
        "plt.xlabel(r\"intercept_scaling\")\n",
        "plt.ylabel(\"Score\")\n",
        "plt.ylim(0.0, 1.1)\n",
        "lw = 2\n",
        "\n",
        "plt.semilogx(param_range, train_scores_mean, label=\"Training score\",\n",
        "             color=\"darkorange\", lw=lw)\n",
        "plt.fill_between(param_range, train_scores_mean - train_scores_std,\n",
        "                 train_scores_mean + train_scores_std, alpha=0.2,\n",
        "                 color=\"darkorange\", lw=lw)\n",
        "plt.semilogx(param_range, test_scores_mean, label=\"Cross-validation score\",\n",
        "             color=\"navy\", lw=lw)\n",
        "plt.fill_between(param_range, test_scores_mean - test_scores_std,\n",
        "                 test_scores_mean + test_scores_std, alpha=0.2,\n",
        "                 color=\"navy\", lw=lw)\n",
        "plt.legend(loc=\"best\")\n",
        "plt.show()\n",
        "\n",
        "\n"
      ],
      "execution_count": 399,
      "outputs": [
        {
          "output_type": "display_data",
          "data": {
            "image/png": "[encoded data removed]",
            "text/plain": [
              "<Figure size 576x396 with 1 Axes>"
            ]
          },
          "metadata": {
            "tags": []
          }
        }
      ]
    },
    {
      "cell_type": "code",
      "metadata": {
        "id": "km35iJwSedQv",
        "colab_type": "code",
        "colab": {
          "base_uri": "https://localhost:8080/",
          "height": 1000
        },
        "outputId": "2f398e4d-2198-4366-bf1b-d8cb102abbe5"
      },
      "source": [
        "help(validation_curve)"
      ],
      "execution_count": 400,
      "outputs": [
        {
          "output_type": "stream",
          "text": [
            "Help on function validation_curve in module sklearn.model_selection._validation:\n",
            "\n",
            "validation_curve(estimator, X, y, param_name, param_range, groups=None, cv=None, scoring=None, n_jobs=None, pre_dispatch='all', verbose=0, error_score=nan)\n",
            "    Validation curve.\n",
            "    \n",
            "    Determine training and test scores for varying parameter values.\n",
            "    \n",
            "    Compute scores for an estimator with different values of a specified\n",
            "    parameter. This is similar to grid search with one parameter. However, this\n",
            "    will also compute training scores and is merely a utility for plotting the\n",
            "    results.\n",
            "    \n",
            "    Read more in the :ref:`User Guide <learning_curve>`.\n",
            "    \n",
            "    Parameters\n",
            "    ----------\n",
            "    estimator : object type that implements the \"fit\" and \"predict\" methods\n",
            "        An object of that type which is cloned for each validation.\n",
            "    \n",
            "    X : array-like, shape (n_samples, n_features)\n",
            "        Training vector, where n_samples is the number of samples and\n",
            "        n_features is the number of features.\n",
            "    \n",
            "    y : array-like, shape (n_samples) or (n_samples, n_features), optional\n",
            "        Target relative to X for classification or regression;\n",
            "        None for unsupervised learning.\n",
            "    \n",
            "    param_name : string\n",
            "        Name of the parameter that will be varied.\n",
            "    \n",
            "    param_range : array-like, shape (n_values,)\n",
            "        The values of the parameter that will be evaluated.\n",
            "    \n",
            "    groups : array-like, with shape (n_samples,), optional\n",
            "        Group labels for the samples used while splitting the dataset into\n",
            "        train/test set. Only used in conjunction with a \"Group\" :term:`cv`\n",
            "        instance (e.g., :class:`GroupKFold`).\n",
            "    \n",
            "    cv : int, cross-validation generator or an iterable, optional\n",
            "        Determines the cross-validation splitting strategy.\n",
            "        Possible inputs for cv are:\n",
            "    \n",
            "        - None, to use the default 5-fold cross validation,\n",
            "        - integer, to specify the number of folds in a `(Stratified)KFold`,\n",
            "        - :term:`CV splitter`,\n",
            "        - An iterable yielding (train, test) splits as arrays of indices.\n",
            "    \n",
            "        For integer/None inputs, if the estimator is a classifier and ``y`` is\n",
            "        either binary or multiclass, :class:`StratifiedKFold` is used. In all\n",
            "        other cases, :class:`KFold` is used.\n",
            "    \n",
            "        Refer :ref:`User Guide <cross_validation>` for the various\n",
            "        cross-validation strategies that can be used here.\n",
            "    \n",
            "        .. versionchanged:: 0.22\n",
            "            ``cv`` default value if None changed from 3-fold to 5-fold.\n",
            "    \n",
            "    scoring : string, callable or None, optional, default: None\n",
            "        A string (see model evaluation documentation) or\n",
            "        a scorer callable object / function with signature\n",
            "        ``scorer(estimator, X, y)``.\n",
            "    \n",
            "    n_jobs : int or None, optional (default=None)\n",
            "        Number of jobs to run in parallel.\n",
            "        ``None`` means 1 unless in a :obj:`joblib.parallel_backend` context.\n",
            "        ``-1`` means using all processors. See :term:`Glossary <n_jobs>`\n",
            "        for more details.\n",
            "    \n",
            "    pre_dispatch : integer or string, optional\n",
            "        Number of predispatched jobs for parallel execution (default is\n",
            "        all). The option can reduce the allocated memory. The string can\n",
            "        be an expression like '2*n_jobs'.\n",
            "    \n",
            "    verbose : integer, optional\n",
            "        Controls the verbosity: the higher, the more messages.\n",
            "    \n",
            "    error_score : 'raise' or numeric\n",
            "        Value to assign to the score if an error occurs in estimator fitting.\n",
            "        If set to 'raise', the error is raised.\n",
            "        If a numeric value is given, FitFailedWarning is raised. This parameter\n",
            "        does not affect the refit step, which will always raise the error.\n",
            "    \n",
            "    Returns\n",
            "    -------\n",
            "    train_scores : array, shape (n_ticks, n_cv_folds)\n",
            "        Scores on training sets.\n",
            "    \n",
            "    test_scores : array, shape (n_ticks, n_cv_folds)\n",
            "        Scores on test set.\n",
            "    \n",
            "    Notes\n",
            "    -----\n",
            "    See :ref:`sphx_glr_auto_examples_model_selection_plot_validation_curve.py`\n",
            "\n"
          ],
          "name": "stdout"
        }
      ]
    },
    {
      "cell_type": "markdown",
      "metadata": {
        "id": "wJmbeIiBWKat",
        "colab_type": "text"
      },
      "source": [
        "# Ensemble\n"
      ]
    },
    {
      "cell_type": "code",
      "metadata": {
        "id": "ItkhnLZ-QXDX",
        "colab_type": "code",
        "colab": {
          "base_uri": "https://localhost:8080/",
          "height": 34
        },
        "outputId": "5417350f-9af9-4224-8ace-81864d37480b"
      },
      "source": [
        "from sklearn.ensemble import VotingClassifier\n",
        "#create a dictionary of our models\n",
        "estimators=[('knn', knn_best_estimator), ('svc', svm_best_estimator), ('log_reg', logit_best_estimator),('DecisionTree',dTree_best_estimator)]\n",
        "#create our voting classifier, inputting our models\n",
        "ensemble = VotingClassifier(estimators, voting='hard')\n",
        "\n",
        "#fit model to training data\n",
        "ensemble.fit(X_train, y_train)\n",
        "#test our model on the test data\n",
        "ensemble.score(X_test, y_test)"
      ],
      "execution_count": 401,
      "outputs": [
        {
          "output_type": "execute_result",
          "data": {
            "text/plain": [
              "0.8390022675736961"
            ]
          },
          "metadata": {
            "tags": []
          },
          "execution_count": 401
        }
      ]
    },
    {
      "cell_type": "markdown",
      "metadata": {
        "id": "YhRUXYAsWL9j",
        "colab_type": "text"
      },
      "source": [
        "# Comparison between all classifier performance / AUC Curve\n",
        "#### (Luqman)\n"
      ]
    },
    {
      "cell_type": "markdown",
      "metadata": {
        "id": "UHx9oQ6MMwjI",
        "colab_type": "text"
      },
      "source": [
        "### Reference: https://machinelearningmastery.com/compare-machine-learning-algorithms-python-scikit-learn/"
      ]
    },
    {
      "cell_type": "code",
      "metadata": {
        "id": "H3dMFC-GMr0b",
        "colab_type": "code",
        "colab": {
          "base_uri": "https://localhost:8080/",
          "height": 542
        },
        "outputId": "069a25a1-cbbe-4185-c00d-ecb73e09ddf5"
      },
      "source": [
        "# Compare Algorithms\n",
        "import pandas\n",
        "import matplotlib.pyplot as plt\n",
        "from sklearn import model_selection\n",
        "from sklearn.linear_model import LogisticRegression\n",
        "from sklearn.tree import DecisionTreeClassifier\n",
        "from sklearn.neighbors import KNeighborsClassifier\n",
        "from sklearn.discriminant_analysis import LinearDiscriminantAnalysis\n",
        "from sklearn.naive_bayes import GaussianNB\n",
        "from sklearn.svm import SVC\n",
        "\n",
        "from sklearn.metrics import roc_curve\n",
        "from sklearn import metrics\n",
        "\n",
        "seed = 7\n",
        "# prepare models\n",
        "models = []\n",
        "models.append(('LR', logit_best_estimator))\n",
        "models.append(('KNN', knn_best_estimator))\n",
        "models.append(('DTree', dTree_best_estimator))\n",
        "models.append(('SVM', svm_best_estimator))\n",
        "#evaluate each model in turn\n",
        "results = []\n",
        "names = []\n",
        "scoring = 'accuracy'\n",
        "for name, model in models:\n",
        "\tkfold = model_selection.KFold(n_splits=10, random_state=seed)\n",
        "\tcv_results = model_selection.cross_val_score(model, X_train, y_train, cv=kfold, scoring=scoring)\n",
        "\tresults.append(cv_results)\n",
        "\tnames.append(name)\n",
        "\t# msg = \"%s: %f (%f)\" % (name, cv_results.mean(), cv_results.std())\n",
        "# boxplot algorithm comparison\n",
        "fig = plt.figure()\n",
        "fig.suptitle('Algorithm Comparison')\n",
        "ax = fig.add_subplot(111)\n",
        "plt.boxplot(results)\n",
        "# plt.roc_curve(results)\n",
        "ax.set_xticklabels(names)\n",
        "plt.show()\n",
        "\n"
      ],
      "execution_count": 402,
      "outputs": [
        {
          "output_type": "stream",
          "text": [
            "/usr/local/lib/python3.6/dist-packages/sklearn/model_selection/_split.py:296: FutureWarning: Setting a random_state has no effect since shuffle is False. This will raise an error in 0.24. You should leave random_state to its default (None), or set shuffle=True.\n",
            "  FutureWarning\n",
            "/usr/local/lib/python3.6/dist-packages/sklearn/model_selection/_split.py:296: FutureWarning: Setting a random_state has no effect since shuffle is False. This will raise an error in 0.24. You should leave random_state to its default (None), or set shuffle=True.\n",
            "  FutureWarning\n",
            "/usr/local/lib/python3.6/dist-packages/sklearn/model_selection/_split.py:296: FutureWarning: Setting a random_state has no effect since shuffle is False. This will raise an error in 0.24. You should leave random_state to its default (None), or set shuffle=True.\n",
            "  FutureWarning\n",
            "/usr/local/lib/python3.6/dist-packages/sklearn/model_selection/_split.py:296: FutureWarning: Setting a random_state has no effect since shuffle is False. This will raise an error in 0.24. You should leave random_state to its default (None), or set shuffle=True.\n",
            "  FutureWarning\n"
          ],
          "name": "stderr"
        },
        {
          "output_type": "display_data",
          "data": {
            "image/png": "[encoded data removed]",
            "text/plain": [
              "<Figure size 576x396 with 1 Axes>"
            ]
          },
          "metadata": {
            "tags": []
          }
        }
      ]
    },
    {
      "cell_type": "markdown",
      "metadata": {
        "id": "3Ls9Hzq0IF_a",
        "colab_type": "text"
      },
      "source": [
        "# Bonus: AUTO ML - Auto SKLearn\n",
        "#### (Luqman + Furkan)"
      ]
    },
    {
      "cell_type": "markdown",
      "metadata": {
        "id": "xNnrya8HVToc",
        "colab_type": "text"
      },
      "source": [
        "### Reference: https://www.youtube.com/watch?v=uMWJls5Roqs"
      ]
    },
    {
      "cell_type": "code",
      "metadata": {
        "id": "PwIl3O08Un0a",
        "colab_type": "code",
        "colab": {
          "base_uri": "https://localhost:8080/",
          "height": 680
        },
        "outputId": "9bad9a30-f056-46dc-fcf0-710088139867"
      },
      "source": [
        "!apt-get install swig -y\n",
        "!pip install Cython numpy\n",
        "!pip install auto-sklearn"
      ],
      "execution_count": 403,
      "outputs": [
        {
          "output_type": "stream",
          "text": [
            "Reading package lists... Done\n",
            "Building dependency tree       \n",
            "Reading state information... Done\n",
            "swig is already the newest version (3.0.12-1).\n",
            "The following package was automatically installed and is no longer required:\n",
            "  libnvidia-common-440\n",
            "Use 'apt autoremove' to remove it.\n",
            "0 upgraded, 0 newly installed, 0 to remove and 33 not upgraded.\n",
            "Requirement already satisfied: Cython in /usr/local/lib/python3.6/dist-packages (0.29.20)\n",
            "Requirement already satisfied: numpy in /usr/local/lib/python3.6/dist-packages (1.18.5)\n",
            "Requirement already satisfied: auto-sklearn in /usr/local/lib/python3.6/dist-packages (0.7.0)\n",
            "Requirement already satisfied: setuptools in /usr/local/lib/python3.6/dist-packages (from auto-sklearn) (47.3.1)\n",
            "Requirement already satisfied: smac>=0.12 in /usr/local/lib/python3.6/dist-packages (from auto-sklearn) (0.12.2)\n",
            "Requirement already satisfied: Cython in /usr/local/lib/python3.6/dist-packages (from auto-sklearn) (0.29.20)\n",
            "Requirement already satisfied: liac-arff in /usr/local/lib/python3.6/dist-packages (from auto-sklearn) (2.4.0)\n",
            "Requirement already satisfied: pyrfr<0.9,>=0.7 in /usr/local/lib/python3.6/dist-packages (from auto-sklearn) (0.8.0)\n",
            "Requirement already satisfied: joblib in /usr/local/lib/python3.6/dist-packages (from auto-sklearn) (0.15.1)\n",
            "Requirement already satisfied: scikit-learn<0.23,>=0.22.0 in /usr/local/lib/python3.6/dist-packages (from auto-sklearn) (0.22.2.post1)\n",
            "Requirement already satisfied: lockfile in /usr/local/lib/python3.6/dist-packages (from auto-sklearn) (0.12.2)\n",
            "Requirement already satisfied: pandas<1.0 in /usr/local/lib/python3.6/dist-packages (from auto-sklearn) (0.25.3)\n",
            "Requirement already satisfied: scipy>=0.14.1 in /usr/local/lib/python3.6/dist-packages (from auto-sklearn) (1.4.1)\n",
            "Requirement already satisfied: pyyaml in /usr/local/lib/python3.6/dist-packages (from auto-sklearn) (3.13)\n",
            "Requirement already satisfied: psutil in /usr/local/lib/python3.6/dist-packages (from auto-sklearn) (5.4.8)\n",
            "Requirement already satisfied: numpy>=1.9.0 in /usr/local/lib/python3.6/dist-packages (from auto-sklearn) (1.18.5)\n",
            "Requirement already satisfied: ConfigSpace<0.5,>=0.4.0 in /usr/local/lib/python3.6/dist-packages (from auto-sklearn) (0.4.13)\n",
            "Requirement already satisfied: pytest in /usr/local/lib/python3.6/dist-packages (from auto-sklearn) (3.6.4)\n",
            "Requirement already satisfied: pynisher>=0.4.2 in /usr/local/lib/python3.6/dist-packages (from auto-sklearn) (0.5.0)\n",
            "Requirement already satisfied: lazy-import in /usr/local/lib/python3.6/dist-packages (from smac>=0.12->auto-sklearn) (0.2.2)\n",
            "Requirement already satisfied: sobol-seq in /usr/local/lib/python3.6/dist-packages (from smac>=0.12->auto-sklearn) (0.2.0)\n",
            "Requirement already satisfied: pytz>=2017.2 in /usr/local/lib/python3.6/dist-packages (from pandas<1.0->auto-sklearn) (2018.9)\n",
            "Requirement already satisfied: python-dateutil>=2.6.1 in /usr/local/lib/python3.6/dist-packages (from pandas<1.0->auto-sklearn) (2.8.1)\n",
            "Requirement already satisfied: pyparsing in /usr/local/lib/python3.6/dist-packages (from ConfigSpace<0.5,>=0.4.0->auto-sklearn) (2.4.7)\n",
            "Requirement already satisfied: py>=1.5.0 in /usr/local/lib/python3.6/dist-packages (from pytest->auto-sklearn) (1.8.2)\n",
            "Requirement already satisfied: pluggy<0.8,>=0.5 in /usr/local/lib/python3.6/dist-packages (from pytest->auto-sklearn) (0.7.1)\n",
            "Requirement already satisfied: attrs>=17.4.0 in /usr/local/lib/python3.6/dist-packages (from pytest->auto-sklearn) (19.3.0)\n",
            "Requirement already satisfied: atomicwrites>=1.0 in /usr/local/lib/python3.6/dist-packages (from pytest->auto-sklearn) (1.4.0)\n",
            "Requirement already satisfied: more-itertools>=4.0.0 in /usr/local/lib/python3.6/dist-packages (from pytest->auto-sklearn) (8.4.0)\n",
            "Requirement already satisfied: six>=1.10.0 in /usr/local/lib/python3.6/dist-packages (from pytest->auto-sklearn) (1.12.0)\n",
            "Requirement already satisfied: docutils>=0.3 in /usr/local/lib/python3.6/dist-packages (from pynisher>=0.4.2->auto-sklearn) (0.15.2)\n"
          ],
          "name": "stdout"
        }
      ]
    },
    {
      "cell_type": "code",
      "metadata": {
        "id": "RsRGJIX7UvX_",
        "colab_type": "code",
        "colab": {
          "base_uri": "https://localhost:8080/",
          "height": 272
        },
        "outputId": "33b16c3c-6663-4660-ef2b-410a45730f8a"
      },
      "source": [
        "import autosklearn.classification\n",
        "import sklearn.metrics\n",
        "\n",
        "# configure auto-sklearn\n",
        "autoClassifier = autosklearn.classification.AutoSklearnClassifier(\n",
        "          time_left_for_this_task=180, # run auto-sklearn for at most 3min\n",
        "          per_run_time_limit=40, # spend at most 40 sec for each model training\n",
        "          )\n",
        "\n",
        "# train model(s)\n",
        "autoClassifier.fit(X_train, y_train.astype(int))"
      ],
      "execution_count": 404,
      "outputs": [
        {
          "output_type": "execute_result",
          "data": {
            "text/plain": [
              "AutoSklearnClassifier(delete_output_folder_after_terminate=True,\n",
              "                      delete_tmp_folder_after_terminate=True,\n",
              "                      disable_evaluator_output=False,\n",
              "                      ensemble_memory_limit=1024, ensemble_nbest=50,\n",
              "                      ensemble_size=50, exclude_estimators=None,\n",
              "                      exclude_preprocessors=None, get_smac_object_callback=None,\n",
              "                      include_estimators=None, include_preprocessors=None,\n",
              "                      initial_configurations_via_metalearning=25,\n",
              "                      logging_config=None, max_models_on_disc=50,\n",
              "                      metadata_directory=None, ml_memory_limit=3072,\n",
              "                      n_jobs=None, output_folder=None, per_run_time_limit=40,\n",
              "                      resampling_strategy='holdout',\n",
              "                      resampling_strategy_arguments=None, seed=1,\n",
              "                      shared_mode=False, smac_scenario_args=None,\n",
              "                      time_left_for_this_task=180, tmp_folder=None)"
            ]
          },
          "metadata": {
            "tags": []
          },
          "execution_count": 404
        }
      ]
    },
    {
      "cell_type": "code",
      "metadata": {
        "id": "vs7adTUUU0Bx",
        "colab_type": "code",
        "colab": {
          "base_uri": "https://localhost:8080/",
          "height": 34
        },
        "outputId": "ae237acb-54b4-4de1-8da3-92115f2d3289"
      },
      "source": [
        "from sklearn.metrics import accuracy_score\n",
        "\n",
        "#evaluate\n",
        "y_hat = autoClassifier.predict(X_test)\n",
        "test_acc = accuracy_score(y_test.astype(int), y_hat)\n",
        "print(\"Test Accuracy score {0}\".format(test_acc))"
      ],
      "execution_count": 405,
      "outputs": [
        {
          "output_type": "stream",
          "text": [
            "Test Accuracy score 0.8458049886621315\n"
          ],
          "name": "stdout"
        }
      ]
    },
    {
      "cell_type": "code",
      "metadata": {
        "id": "Lm4EA_C3U2mK",
        "colab_type": "code",
        "colab": {
          "base_uri": "https://localhost:8080/",
          "height": 120
        },
        "outputId": "2e3a1bb0-4851-4e53-810d-e9b2966ffdf0"
      },
      "source": [
        "autoClassifier.show_models()"
      ],
      "execution_count": 406,
      "outputs": [
        {
          "output_type": "execute_result",
          "data": {
            "application/vnd.google.colaboratory.intrinsic": {
              "type": "string"
            },
            "text/plain": [
              "\"[(0.660000, SimpleClassificationPipeline({'balancing:strategy': 'none', 'classifier:__choice__': 'adaboost', 'data_preprocessing:categorical_transformer:categorical_encoding:__choice__': 'one_hot_encoding', 'data_preprocessing:categorical_transformer:category_coalescence:__choice__': 'minority_coalescer', 'data_preprocessing:numerical_transformer:imputation:strategy': 'mean', 'data_preprocessing:numerical_transformer:rescaling:__choice__': 'standardize', 'feature_preprocessor:__choice__': 'fast_ica', 'classifier:adaboost:algorithm': 'SAMME', 'classifier:adaboost:learning_rate': 1.117891964153124, 'classifier:adaboost:max_depth': 7, 'classifier:adaboost:n_estimators': 350, 'data_preprocessing:categorical_transformer:category_coalescence:minority_coalescer:minimum_fraction': 0.099090775365223, 'feature_preprocessor:fast_ica:algorithm': 'parallel', 'feature_preprocessor:fast_ica:fun': 'exp', 'feature_preprocessor:fast_ica:whiten': 'True', 'feature_preprocessor:fast_ica:n_components': 1122},\\ndataset_properties={\\n  'task': 1,\\n  'sparse': False,\\n  'multilabel': False,\\n  'multiclass': False,\\n  'target_type': 'classification',\\n  'signed': False})),\\n(0.340000, SimpleClassificationPipeline({'balancing:strategy': 'none', 'classifier:__choice__': 'random_forest', 'data_preprocessing:categorical_transformer:categorical_encoding:__choice__': 'one_hot_encoding', 'data_preprocessing:categorical_transformer:category_coalescence:__choice__': 'minority_coalescer', 'data_preprocessing:numerical_transformer:imputation:strategy': 'mean', 'data_preprocessing:numerical_transformer:rescaling:__choice__': 'standardize', 'feature_preprocessor:__choice__': 'no_preprocessing', 'classifier:random_forest:bootstrap': 'True', 'classifier:random_forest:criterion': 'gini', 'classifier:random_forest:max_depth': 'None', 'classifier:random_forest:max_features': 0.5, 'classifier:random_forest:max_leaf_nodes': 'None', 'classifier:random_forest:min_impurity_decrease': 0.0, 'classifier:random_forest:min_samples_leaf': 1, 'classifier:random_forest:min_samples_split': 2, 'classifier:random_forest:min_weight_fraction_leaf': 0.0, 'data_preprocessing:categorical_transformer:category_coalescence:minority_coalescer:minimum_fraction': 0.01},\\ndataset_properties={\\n  'task': 1,\\n  'sparse': False,\\n  'multilabel': False,\\n  'multiclass': False,\\n  'target_type': 'classification',\\n  'signed': False})),\\n]\""
            ]
          },
          "metadata": {
            "tags": []
          },
          "execution_count": 406
        }
      ]
    },
    {
      "cell_type": "code",
      "metadata": {
        "id": "CHZnRjJ2U4xb",
        "colab_type": "code",
        "colab": {
          "base_uri": "https://localhost:8080/",
          "height": 187
        },
        "outputId": "8d21552a-fc44-418b-8194-995bbcbf4aa3"
      },
      "source": [
        "print(autoClassifier.sprint_statistics())"
      ],
      "execution_count": 407,
      "outputs": [
        {
          "output_type": "stream",
          "text": [
            "auto-sklearn results:\n",
            "  Dataset name: 9b98b366fe99e6bcd4bb57fe07c122fe\n",
            "  Metric: accuracy\n",
            "  Best validation score: 0.987805\n",
            "  Number of target algorithm runs: 10\n",
            "  Number of successful target algorithm runs: 6\n",
            "  Number of crashed target algorithm runs: 0\n",
            "  Number of target algorithms that exceeded the time limit: 4\n",
            "  Number of target algorithms that exceeded the memory limit: 0\n",
            "\n"
          ],
          "name": "stdout"
        }
      ]
    }
  ]
}